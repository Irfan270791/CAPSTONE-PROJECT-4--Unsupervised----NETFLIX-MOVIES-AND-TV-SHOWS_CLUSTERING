{
  "nbformat": 4,
  "nbformat_minor": 0,
  "metadata": {
    "colab": {
      "private_outputs": true,
      "provenance": [],
      "collapsed_sections": [
        "w6K7xa23Elo4",
        "yQaldy8SH6Dl",
        "mDgbUHAGgjLW",
        "HhfV-JJviCcP",
        "Y3lxredqlCYt",
        "3RnN4peoiCZX",
        "x71ZqKXriCWQ",
        "7hBIi_osiCS2",
        "JlHwYmJAmNHm",
        "35m5QtbWiB9F",
        "PoPl-ycgm1ru",
        "H0kj-8xxnORC",
        "nA9Y7ga8ng1Z",
        "PBTbrJXOngz2",
        "u3PMJOP6ngxN",
        "dauF4eBmngu3",
        "bKJF3rekwFvQ",
        "MSa1f5Uengrz",
        "GF8Ens_Soomf",
        "0wOQAZs5pc--",
        "K5QZ13OEpz2H",
        "lQ7QKXXCp7Bj",
        "448CDAPjqfQr",
        "KSlN3yHqYklG",
        "t6dVpIINYklI",
        "ijmpgYnKYklI",
        "-JiQyfWJYklI",
        "EM7whBJCYoAo",
        "fge-S5ZAYoAp",
        "85gYPyotYoAp",
        "RoGjAbkUYoAp",
        "4Of9eVA-YrdM",
        "iky9q4vBYrdO",
        "F6T5p64dYrdO",
        "y-Ehk30pYrdP",
        "bamQiAODYuh1",
        "QHF8YVU7Yuh3",
        "GwzvFGzlYuh3",
        "qYpmQ266Yuh3",
        "OH-pJp9IphqM",
        "bbFf2-_FphqN",
        "_ouA3fa0phqN",
        "Seke61FWphqN",
        "PIIx-8_IphqN",
        "t27r6nlMphqO",
        "r2jJGEOYphqO",
        "b0JNsNcRphqO",
        "BZR9WyysphqO",
        "jj7wYXLtphqO",
        "eZrbJ2SmphqO",
        "rFu4xreNphqO",
        "YJ55k-q6phqO",
        "gCFgpxoyphqP",
        "OVtJsKN_phqQ",
        "lssrdh5qphqQ",
        "U2RJ9gkRphqQ",
        "1M8mcRywphqQ",
        "tgIPom80phqQ",
        "JMzcOPDDphqR",
        "x-EpHcCOp1ci",
        "X_VqEhTip1ck",
        "8zGJKyg5p1ck",
        "PVzmfK_Ep1ck",
        "n3dbpmDWp1ck",
        "ylSl6qgtp1ck",
        "ZWILFDl5p1ck",
        "M7G43BXep1ck",
        "Ag9LCva-p1cl",
        "E6MkPsBcp1cl",
        "2cELzS2fp1cl",
        "3MPXvC8up1cl",
        "NC_X3p0fY2L0",
        "UV0SzAkaZNRQ",
        "YPEH6qLeZNRQ",
        "q29F0dvdveiT",
        "EXh0U9oCveiU",
        "22aHeOlLveiV",
        "g-ATYxFrGrvw",
        "Yfr_Vlr8HBkt",
        "8yEUt7NnHlrM",
        "tEA2Xm5dHt1r",
        "I79__PHVH19G",
        "Ou-I18pAyIpj",
        "fF3858GYyt-u",
        "4_0_7-oCpUZd",
        "hwyV_J3ipUZe",
        "3yB-zSqbpUZe",
        "dEUvejAfpUZe",
        "Fd15vwWVpUZf",
        "bn_IUdTipZyH",
        "49K5P_iCpZyH",
        "Nff-vKELpZyI",
        "kLW572S8pZyI",
        "dWbDXHzopZyI",
        "xiyOF9F70UgQ",
        "7wuGOrhz0itI",
        "id1riN9m0vUs",
        "578E2V7j08f6",
        "89xtkJwZ18nB",
        "67NQN5KX2AMe",
        "Iwf50b-R2tYG",
        "GMQiZwjn3iu7",
        "WVIkgGqN3qsr",
        "XkPnILGE3zoT",
        "Hlsf0x5436Go",
        "mT9DMSJo4nBL",
        "c49ITxTc407N",
        "OeJFEK0N496M",
        "9ExmJH0g5HBk",
        "cJNqERVU536h",
        "k5UmGsbsOxih",
        "T0VqWOYE6DLQ",
        "qBMux9mC6MCf",
        "-oLEiFgy-5Pf",
        "C74aWNz2AliB",
        "2DejudWSA-a0",
        "pEMng2IbBLp7",
        "rAdphbQ9Bhjc",
        "TNVZ9zx19K6k",
        "nqoHp30x9hH9",
        "rMDnDkt2B6du",
        "yiiVWRdJDDil",
        "T5CmagL3EC8N",
        "BhH2vgX9EjGr",
        "qjKvONjwE8ra",
        "P1XJ9OREExlT",
        "VFOzZv6IFROw",
        "TIqpNgepFxVj",
        "VfCC591jGiD4",
        "OB4l2ZhMeS1U",
        "ArJBuiUVfxKd",
        "4qY1EAkEfxKe",
        "PiV4Ypx8fxKe",
        "TfvqoZmBfxKf",
        "dJ2tPlVmpsJ0",
        "-jK_YjpMpsJ2",
        "HAih1iBOpsJ2",
        "zVGeBEFhpsJ2",
        "bmKjuQ-FpsJ3",
        "Fze-IPXLpx6K",
        "7AN1z2sKpx6M",
        "9PIHJqyupx6M",
        "_-qAgymDpx6N",
        "Z-hykwinpx6N",
        "h_CCil-SKHpo",
        "cBFFvTBNJzUa",
        "HvGl1hHyA_VK",
        "EyNgTHvd2WFk",
        "KH5McJBi2d8v",
        "iW_Lq9qf2h6X",
        "-Kee-DAl2viO",
        "gIfDvo9L0UH2"
      ],
      "include_colab_link": true
    },
    "kernelspec": {
      "name": "python3",
      "display_name": "Python 3"
    },
    "language_info": {
      "name": "python"
    }
  },
  "cells": [
    {
      "cell_type": "markdown",
      "metadata": {
        "id": "view-in-github",
        "colab_type": "text"
      },
      "source": [
        "<a href=\"https://colab.research.google.com/github/Irfan270791/CAPSTONE-PROJECT-4--Unsupervised----NETFLIX-MOVIES-AND-TV-SHOWS_CLUSTERING/blob/main/Copy_of_IM_NETFLIX_MOVIES_AND_TV_SHOWS_CLUSTERING.ipynb\" target=\"_parent\"><img src=\"https://colab.research.google.com/assets/colab-badge.svg\" alt=\"Open In Colab\"/></a>"
      ]
    },
    {
      "cell_type": "markdown",
      "source": [
        "# **Project Name**    -\n",
        "\n"
      ],
      "metadata": {
        "id": "vncDsAP0Gaoa"
      }
    },
    {
      "cell_type": "markdown",
      "source": [
        "##### **Project Type**    - Unsupervised\n",
        "##### **Contribution**    - Team\n",
        "##### **Team Member 1 -** - Irfan Momin\n",
        "##### **Team Member 2 -** - Sushil Ghodwinde\n",
        "##### **Team Member 3 -**\n",
        "##### **Team Member 4 -**"
      ],
      "metadata": {
        "id": "beRrZCGUAJYm"
      }
    },
    {
      "cell_type": "markdown",
      "source": [
        "# **Project Summary -**"
      ],
      "metadata": {
        "id": "FJNUwmbgGyua"
      }
    },
    {
      "cell_type": "markdown",
      "source": [
        "Netflix is a subscription-based streaming service that give its subscribers access to a large library of films and television series with such a big content catalouge people may struggle to identify content that suits their tastes.To overcome this issue,Netflix groups their material into comparable categories using data analysis and machine learning approaches such as clustering.This method entails analysing numerous aspects of each title, such as genre,cast and plot and then use algorithm to uncover patterns and similarities.\n",
        "\n",
        "Movies and TV Shows on Netflix Clustering is a data-driven method that uses unsupervised machine learning algorithm to categorise the platform's large collection of information.The major goal of this clustering is to improve the Netflix user experience by giving personalised content recommendations based on viewing history and preferences.Netflix can recommend titles that are more likely to match user preferences by organising the content library into clusters,resulting to higher user engagement and happiness, which can lead to increased retention and corporate revenue.\n",
        "\n",
        "Clustering is the process of analysing various data point such as genre,cast,director,plot and other relevant features and then using clustering techniques such as K-Means,hierarchical clustering and principal component analysis(PCA) to identify patterns and similarities between different titles.Algorithm such as K-Means are used to divide films and TV episodes into discrete group each reflecting a specific genre or category.The hierarchical clustering technique is used to generate a tree like structure that categorises films and TV programmes based on their similarities.\n",
        "\n",
        "Clustering is a sophisticated method that allows Netflix to analyse and categories its massive collection of content providing customers with personalised recommendation and improving the overall user experience.This strategy is data-driven with algorithms like K-Means,hierarchical clustering and recommender system utilised to uncover patterns and similarities between different titles, allowing Netflix to make more educated decisions about content production and licencing.\n",
        "\n",
        "One of the most notable advantages of clustering for Netflix is the ability to deliver personalised recommendation to viewers based on their viewing history and interests.Netflix can recommend material that is more likely to fit consumer's preferences by analysing user data and discovering patterns and similarities between titles.This method increases customer engagement and pleasure,which can lead to higher retention and revenue for the organisation.\n",
        "\n",
        "Clustering also assists Netflix in making data-driven content production and licencing decision.Netflix can make information decision about which title to develop or acquire and which to eliminate by examining underlying trends and patterns in user behaviour.This strategy can assist the platform in optimising its content library and offering title that are more likely to be popular with its user base.\n",
        "\n",
        "Finally Netflix Movies and TV shows Clustering is a powerful mechanism that allows the platform to categorise its massive library of material providig customers with personalised recommendation and improving the overall user experience.This data-driven technique employs unsupervised machine learning algorithm such as K-Means, hierarchical clustering and recommender system to uncover patterns and similarities across distinct titles.Clustering enables Netflix to make more educated decision about content generation and licencing which leads to higher customer retention and corporate profitability."
      ],
      "metadata": {
        "id": "F6v_1wHtG2nS"
      }
    },
    {
      "cell_type": "markdown",
      "source": [
        "# **GitHub Link -**"
      ],
      "metadata": {
        "id": "w6K7xa23Elo4"
      }
    },
    {
      "cell_type": "markdown",
      "source": [
        "https://github.com/Irfan270791/CAPSTONE-PROJECT-4--Unsupervised----NETFLIX-MOVIES-AND-TV-SHOWS_CLUSTERING"
      ],
      "metadata": {
        "id": "h1o69JH3Eqqn"
      }
    },
    {
      "cell_type": "markdown",
      "source": [
        "# **Problem Statement**\n"
      ],
      "metadata": {
        "id": "yQaldy8SH6Dl"
      }
    },
    {
      "cell_type": "markdown",
      "source": [
        "Netflix, one of the world's largest streaming providers, has a massive library of films and TV episodes. However, with so many alternatives, it can be difficult for users to find content that meets their preferences.\n",
        "\n",
        "To remedy this issue, this project intends to cluster related films and TV series on Netflix using unsupervised learning techniques. We can present users with more focused suggestions and help them locate new content they will appreciate by grouping titles with comparable features.\n",
        "\n",
        "This project will specifically require analysing a dataset of Netflix titles, which will include features such as genre, release year, actors, and storyline summary, among others. We hope to find groupings of films and TV series with comparable features by using clustering algorithms such as K-Means or Hierarchical clustering.\n",
        "\n",
        "The project's ultimate goal is to develop a clustering model that can accurately categorise Netflix titles based on their attributes. This model can then be used to offer user recommendations or to assist Netflix in improving its content discovery algorithms."
      ],
      "metadata": {
        "id": "DpeJGUA3kjGy"
      }
    },
    {
      "cell_type": "markdown",
      "source": [
        "# **General Guidelines** : -  "
      ],
      "metadata": {
        "id": "mDgbUHAGgjLW"
      }
    },
    {
      "cell_type": "markdown",
      "source": [
        "1.   Well-structured, formatted, and commented code is required.\n",
        "2.   Exception Handling, Production Grade Code & Deployment Ready Code will be a plus. Those students will be awarded some additional credits.\n",
        "     \n",
        "     The additional credits will have advantages over other students during Star Student selection.\n",
        "       \n",
        "             [ Note: - Deployment Ready Code is defined as, the whole .ipynb notebook should be executable in one go\n",
        "                       without a single error logged. ]\n",
        "\n",
        "3.   Each and every logic should have proper comments.\n",
        "4. You may add as many number of charts you want. Make Sure for each and every chart the following format should be answered.\n",
        "        \n",
        "\n",
        "```\n",
        "# Chart visualization code\n",
        "```\n",
        "            \n",
        "\n",
        "*   Why did you pick the specific chart?\n",
        "*   What is/are the insight(s) found from the chart?\n",
        "* Will the gained insights help creating a positive business impact?\n",
        "Are there any insights that lead to negative growth? Justify with specific reason.\n",
        "\n",
        "5. You have to create at least 15 logical & meaningful charts having important insights.\n",
        "\n",
        "\n",
        "[ Hints : - Do the Vizualization in  a structured way while following \"UBM\" Rule.\n",
        "\n",
        "U - Univariate Analysis,\n",
        "\n",
        "B - Bivariate Analysis (Numerical - Categorical, Numerical - Numerical, Categorical - Categorical)\n",
        "\n",
        "M - Multivariate Analysis\n",
        " ]\n",
        "\n",
        "\n",
        "\n",
        "\n",
        "\n",
        "6. You may add more ml algorithms for model creation. Make sure for each and every algorithm, the following format should be answered.\n",
        "\n",
        "\n",
        "*   Explain the ML Model used and it's performance using Evaluation metric Score Chart.\n",
        "\n",
        "\n",
        "*   Cross- Validation & Hyperparameter Tuning\n",
        "\n",
        "*   Have you seen any improvement? Note down the improvement with updates Evaluation metric Score Chart.\n",
        "\n",
        "*   Explain each evaluation metric's indication towards business and the business impact pf the ML model used.\n",
        "\n",
        "\n",
        "\n",
        "\n",
        "\n",
        "\n",
        "\n",
        "\n",
        "\n",
        "\n",
        "\n",
        "\n",
        "\n",
        "\n",
        "\n",
        "\n",
        "\n",
        "\n"
      ],
      "metadata": {
        "id": "ZrxVaUj-hHfC"
      }
    },
    {
      "cell_type": "markdown",
      "source": [
        "# ***Let's Begin !***"
      ],
      "metadata": {
        "id": "O_i_v8NEhb9l"
      }
    },
    {
      "cell_type": "markdown",
      "source": [
        "## ***1. Know Your Data***"
      ],
      "metadata": {
        "id": "HhfV-JJviCcP"
      }
    },
    {
      "cell_type": "markdown",
      "source": [
        "### Import Libraries"
      ],
      "metadata": {
        "id": "Y3lxredqlCYt"
      }
    },
    {
      "cell_type": "code",
      "source": [
        "# Import Libraries\n",
        "# Necessary libraries for data analysis and Visualization.\n",
        "import pandas as pd\n",
        "import numpy as np\n",
        "import matplotlib.pyplot as plt\n",
        "import seaborn as sns\n",
        "import missingno as msno\n",
        "%matplotlib inline\n",
        "import warnings\n",
        "\n",
        "# To ignore all warnings\n",
        "warnings.filterwarnings('ignore')"
      ],
      "metadata": {
        "id": "M8Vqi-pPk-HR"
      },
      "execution_count": null,
      "outputs": []
    },
    {
      "cell_type": "markdown",
      "source": [
        "### Dataset Loading"
      ],
      "metadata": {
        "id": "3RnN4peoiCZX"
      }
    },
    {
      "cell_type": "code",
      "source": [
        "# Import the google drive."
      ],
      "metadata": {
        "id": "4CkvbW_SlZ_R"
      },
      "execution_count": null,
      "outputs": []
    },
    {
      "cell_type": "code",
      "source": [
        "from google.colab import drive\n",
        "drive.mount('/content/drive')"
      ],
      "metadata": {
        "id": "mGhzLLsfIDmV"
      },
      "execution_count": null,
      "outputs": []
    },
    {
      "cell_type": "code",
      "source": [
        "# Load Dataset\n",
        "df= pd.read_csv('/content/drive/MyDrive/Netflix movie & TV shows/NETFLIX MOVIES AND TV SHOWS CLUSTERING.csv')"
      ],
      "metadata": {
        "id": "2tthNw2KIJnq"
      },
      "execution_count": null,
      "outputs": []
    },
    {
      "cell_type": "markdown",
      "source": [
        "### Dataset First View"
      ],
      "metadata": {
        "id": "x71ZqKXriCWQ"
      }
    },
    {
      "cell_type": "code",
      "source": [
        "# Dataset First Look\n",
        "df.head()"
      ],
      "metadata": {
        "id": "LWNFOSvLl09H"
      },
      "execution_count": null,
      "outputs": []
    },
    {
      "cell_type": "markdown",
      "source": [
        "### Dataset Rows & Columns count"
      ],
      "metadata": {
        "id": "7hBIi_osiCS2"
      }
    },
    {
      "cell_type": "code",
      "source": [
        "# Dataset Rows & Columns count\n",
        "df.shape"
      ],
      "metadata": {
        "id": "Kllu7SJgmLij"
      },
      "execution_count": null,
      "outputs": []
    },
    {
      "cell_type": "code",
      "source": [
        "print(f'The number of Rows are {df.shape[0]}, and the number of Columns are {df.shape[1]}')"
      ],
      "metadata": {
        "id": "1cpOz4U2Df29"
      },
      "execution_count": null,
      "outputs": []
    },
    {
      "cell_type": "markdown",
      "source": [
        "### Dataset Information"
      ],
      "metadata": {
        "id": "JlHwYmJAmNHm"
      }
    },
    {
      "cell_type": "code",
      "source": [
        "# Dataset Info\n",
        "df.info()"
      ],
      "metadata": {
        "id": "e9hRXRi6meOf"
      },
      "execution_count": null,
      "outputs": []
    },
    {
      "cell_type": "markdown",
      "source": [
        "There is Only One Column is Numerical and rest all are Categorical."
      ],
      "metadata": {
        "id": "XVaKU9RiD9bZ"
      }
    },
    {
      "cell_type": "markdown",
      "source": [
        "#### Duplicate Values"
      ],
      "metadata": {
        "id": "35m5QtbWiB9F"
      }
    },
    {
      "cell_type": "code",
      "source": [
        "# Dataset Duplicate Value Count\n",
        "duplicate_value = len(df[df.duplicated()])\n",
        "print(\"The Number of Duplicated values in dataset is = \", duplicate_value)"
      ],
      "metadata": {
        "id": "1sLdpKYkmox0"
      },
      "execution_count": null,
      "outputs": []
    },
    {
      "cell_type": "markdown",
      "source": [
        "**There is no Duplicate value in Dataset.**"
      ],
      "metadata": {
        "id": "pNb7pOt2E6gB"
      }
    },
    {
      "cell_type": "markdown",
      "source": [
        "#### Missing Values/Null Values"
      ],
      "metadata": {
        "id": "PoPl-ycgm1ru"
      }
    },
    {
      "cell_type": "code",
      "source": [
        "# Missing Values/Null Values Count\n",
        "df.isna().sum()"
      ],
      "metadata": {
        "id": "GgHWkxvamxVg"
      },
      "execution_count": null,
      "outputs": []
    },
    {
      "cell_type": "markdown",
      "source": [
        "The Data Provided Shows the count of missing values(NaN) in each columns of Our Dataset. Here's a Summary.\n",
        "\n",
        "* director - 2,389 Missing values.\n",
        "* cast  - 718 Missing values.\n",
        "* country - 507 Missing values.\n",
        "* date_added - 10 Missing values.\n",
        "* rating - 7 Missing values.\n",
        "\n",
        "\n"
      ],
      "metadata": {
        "id": "eApyCHs9F3B8"
      }
    },
    {
      "cell_type": "code",
      "source": [
        "# Checking the Null values.\n",
        "for col in df.columns:\n",
        "  null_rate = df[col].isnull().sum() / len(df)* 100\n",
        "  if null_rate > 0:\n",
        "    print(f'Percentage of null value in {col}: {null_rate}%')"
      ],
      "metadata": {
        "id": "lu-c-bdPHIbB"
      },
      "execution_count": null,
      "outputs": []
    },
    {
      "cell_type": "code",
      "source": [
        "# Visualizing the missing values\n",
        "msno.bar(df, color= 'green', sort='ascending', figsize=(15,5), fontsize=15)"
      ],
      "metadata": {
        "id": "3q5wnI3om9sJ"
      },
      "execution_count": null,
      "outputs": []
    },
    {
      "cell_type": "markdown",
      "source": [
        "### What did you know about your dataset?"
      ],
      "metadata": {
        "id": "H0kj-8xxnORC"
      }
    },
    {
      "cell_type": "markdown",
      "source": [
        "The offered dataset is from the internate streaming industry; our goal is to analyse it, develop clustring methods, and build a content-based recommendation engine.\n",
        "\n",
        "* There are 7787 rows and 12 columns in the dataset. The director,cast,Country,date_added and rating columns have missing value. The Dataset contains no duplicated values.\n",
        "* Each rows of information we have belongs to a specific film. As a result we cannot utilise any method to impute null values.Furthermore, because the data is limited, we don't want to loss any of it, thus after analysing each column, we simply inpute numerical values using an empty text in the following manner after studying each columns.\n",
        "\n",
        "\n"
      ],
      "metadata": {
        "id": "gfoNAAC-nUe_"
      }
    },
    {
      "cell_type": "markdown",
      "source": [
        "## ***2. Understanding Your Variables***"
      ],
      "metadata": {
        "id": "nA9Y7ga8ng1Z"
      }
    },
    {
      "cell_type": "code",
      "source": [
        "# Dataset Columns\n",
        "df.columns"
      ],
      "metadata": {
        "id": "j7xfkqrt5Ag5"
      },
      "execution_count": null,
      "outputs": []
    },
    {
      "cell_type": "code",
      "source": [
        "# Dataset Describe\n",
        "df.describe().T"
      ],
      "metadata": {
        "id": "DnOaZdaE5Q5t"
      },
      "execution_count": null,
      "outputs": []
    },
    {
      "cell_type": "markdown",
      "source": [
        "### Variables Description"
      ],
      "metadata": {
        "id": "PBTbrJXOngz2"
      }
    },
    {
      "cell_type": "markdown",
      "source": [
        "\n",
        "* show_id = Unique ID for every Movie/ Show.\n",
        "* type = Identifier- Movie/ show.\n",
        "* title = Title of the Movie/ show.\n",
        "* director = Director of Movie/ show.\n",
        "* Cast = Actors involved in the Movie/ show.\n",
        "* country = Country where the Movie/ show was produced.\n",
        "* date_added = Date it was added on Netflix.\n",
        "* release_year = Actual Release year of the Movie/ show.\n",
        "* rating = TV Rating of the Movie/ show.\n",
        "* duration = Total duration - in minutes or number of seasons.\n",
        "* listed_in = Genre.\n",
        "* description = The Summary Description.\n",
        "\n"
      ],
      "metadata": {
        "id": "aJV4KIxSnxay"
      }
    },
    {
      "cell_type": "markdown",
      "source": [
        "### Check Unique Values for each variable."
      ],
      "metadata": {
        "id": "u3PMJOP6ngxN"
      }
    },
    {
      "cell_type": "code",
      "source": [
        "# Check Unique Values for each variable.\n",
        "for i in df.columns.tolist():\n",
        "  print(\"No. of unique values in\",i,\"is\",df[i].nunique())"
      ],
      "metadata": {
        "id": "zms12Yq5n-jE"
      },
      "execution_count": null,
      "outputs": []
    },
    {
      "cell_type": "markdown",
      "source": [
        "## 3. ***Data Wrangling***"
      ],
      "metadata": {
        "id": "dauF4eBmngu3"
      }
    },
    {
      "cell_type": "markdown",
      "source": [
        "### Data Wrangling Code"
      ],
      "metadata": {
        "id": "bKJF3rekwFvQ"
      }
    },
    {
      "cell_type": "markdown",
      "source": [
        "### 3.1 - Droping the null values of date_added and rating column."
      ],
      "metadata": {
        "id": "AAmVtgKTQiqu"
      }
    },
    {
      "cell_type": "code",
      "source": [
        "# Remove the null values in date_added.\n",
        "df.dropna(subset=['date_added'], inplace= True)\n",
        "# Remove the null values in rating.\n",
        "df.dropna(subset=['rating'], inplace= True)"
      ],
      "metadata": {
        "id": "wk-9a2fpoLcV"
      },
      "execution_count": null,
      "outputs": []
    },
    {
      "cell_type": "markdown",
      "source": [
        "Others missing data will be treated in upcoming steps."
      ],
      "metadata": {
        "id": "qUaWiPMARxpw"
      }
    },
    {
      "cell_type": "markdown",
      "source": [
        "### 3.2  - Extracting the Month & Year from the date_added Column."
      ],
      "metadata": {
        "id": "4b-PX-S_SFzO"
      }
    },
    {
      "cell_type": "code",
      "source": [
        "# Converting the date_added column to datetime.\n",
        "df['date_added'] = pd.to_datetime(df['date_added'])\n",
        "# Extracting the Month & Year from 'date_added'.\n",
        "df['added_year'] = df['date_added'].dt.year\n",
        "df['added_month'] = df['date_added'].dt.month"
      ],
      "metadata": {
        "id": "Zt39uyg2SYHR"
      },
      "execution_count": null,
      "outputs": []
    },
    {
      "cell_type": "code",
      "source": [
        "df.tail()"
      ],
      "metadata": {
        "id": "ML1kf1PvTRIs"
      },
      "execution_count": null,
      "outputs": []
    },
    {
      "cell_type": "markdown",
      "source": [
        "### What all manipulations have you done and insights you found?"
      ],
      "metadata": {
        "id": "MSa1f5Uengrz"
      }
    },
    {
      "cell_type": "markdown",
      "source": [
        "\n",
        "* Dropped the Null values of date_added and rating columns as they have very low percentage.\n",
        "* Convert the date_added column into date-time format.\n",
        "* Extract the month & year from date_added columns\n",
        "\n",
        "\n",
        "*   List item\n",
        "\n"
      ],
      "metadata": {
        "id": "LbyXE7I1olp8"
      }
    },
    {
      "cell_type": "markdown",
      "source": [
        "## ***4. Data Vizualization, Storytelling & Experimenting with charts : Understand the relationships between variables***"
      ],
      "metadata": {
        "id": "GF8Ens_Soomf"
      }
    },
    {
      "cell_type": "markdown",
      "source": [
        "#### Chart - 1  Distribution of Movies and Tv Shows."
      ],
      "metadata": {
        "id": "0wOQAZs5pc--"
      }
    },
    {
      "cell_type": "code",
      "source": [
        "# Chart - 1 visualization code\n",
        "# Filtering the data.\n",
        "types = df['type']\n",
        "colors = ['#db0000', '#564d4d']\n",
        "labels = ['TV Show', 'Movie']\n",
        "tv_show_count = df['type'].value_counts()['TV Show']\n",
        "movie_count = df['type'].value_counts()['Movie']\n",
        "\n",
        "# Create a pie chart\n",
        "fig,ax = plt.subplots()\n",
        "ax.pie(x=[tv_show_count,movie_count], labels= labels, autopct= '%1.1f%%', startangle=90, wedgeprops= dict(width=0.4), colors= colors)\n",
        "\n",
        "# Drawing a circle to make it a donut chart.\n",
        "circle = plt.Circle((0,0), 0.3, color= 'white')\n",
        "ax.add_artist(circle)\n",
        "\n",
        "# Set aspect ration to equal to ensure the pie is drawn as  a circle.\n",
        "ax.axis('equal')\n",
        "\n",
        "# Title.\n",
        "plt.title('Distribution of Movies and TV Shows')\n",
        "\n",
        "# Display the chart.\n",
        "plt.show()"
      ],
      "metadata": {
        "id": "7v_ESjsspbW7"
      },
      "execution_count": null,
      "outputs": []
    },
    {
      "cell_type": "markdown",
      "source": [
        "##### 1. Why did you pick the specific chart?"
      ],
      "metadata": {
        "id": "K5QZ13OEpz2H"
      }
    },
    {
      "cell_type": "markdown",
      "source": [
        "Donut charts are chosen for their ability to display parts of a whole,compare multiple datasets,emphasize data point, save space in limited area, and for their aesthetics."
      ],
      "metadata": {
        "id": "XESiWehPqBRc"
      }
    },
    {
      "cell_type": "markdown",
      "source": [
        "##### 2. What is/are the insight(s) found from the chart?"
      ],
      "metadata": {
        "id": "lQ7QKXXCp7Bj"
      }
    },
    {
      "cell_type": "markdown",
      "source": [
        "\n",
        "* Around 31 percent of total content are TV Shows.\n",
        "* Around 69 percent of total content are Movies.\n",
        "\n"
      ],
      "metadata": {
        "id": "C_j1G7yiqdRP"
      }
    },
    {
      "cell_type": "markdown",
      "source": [
        "##### 3. Will the gained insights help creating a positive business impact?\n",
        "Are there any insights that lead to negative growth? Justify with specific reason."
      ],
      "metadata": {
        "id": "448CDAPjqfQr"
      }
    },
    {
      "cell_type": "markdown",
      "source": [
        "The Insights that 69 percent of Netflix content is movie and 31 percent is TV Show can have positive impacts by informing content strategy and personalization. However, it may lead to market saturation and competitive disadvantages if not balanced, affecting user retention and competition in the long run."
      ],
      "metadata": {
        "id": "3cspy4FjqxJW"
      }
    },
    {
      "cell_type": "markdown",
      "source": [
        "#### Chart - 2   Distribution of Content added over the years."
      ],
      "metadata": {
        "id": "KSlN3yHqYklG"
      }
    },
    {
      "cell_type": "code",
      "source": [
        "# Chart - 2 visualization code\n",
        "# Group the data by 'added_year' and 'type' and count the number of titles added each year for each type.\n",
        "yearly_type_counts = df.groupby(['added_year', 'type']).size().unstack(fill_value=0)\n",
        "\n",
        "# Creat the line chart with a background color.\n",
        "plt.figure(figsize=(10,6))\n",
        "colors = ['skyblue', 'lightcoral']  # Color for Movies and Tv shows.\n",
        "for column, color in zip(yearly_type_counts.columns, colors):\n",
        "  plt.plot(yearly_type_counts.index, yearly_type_counts[column], marker='o', label=column, color = color)\n",
        "\n",
        "# Add a background color.\n",
        "plt.axhspan(0, max(yearly_type_counts.max()), facecolor='black', alpha= 0.5)\n",
        "\n",
        "# Add legend, labels and title.\n",
        "plt.legend()\n",
        "plt.xlabel('Year')\n",
        "plt.ylabel('Number of Titles Added')\n",
        "plt.title('Netflix Titles Added per year by Type')\n",
        "plt.grid(True)\n",
        "plt.show()"
      ],
      "metadata": {
        "id": "R4YgtaqtYklH"
      },
      "execution_count": null,
      "outputs": []
    },
    {
      "cell_type": "markdown",
      "source": [
        "##### 1. Why did you pick the specific chart?"
      ],
      "metadata": {
        "id": "t6dVpIINYklI"
      }
    },
    {
      "cell_type": "markdown",
      "source": [
        "This choice aligns with the goal of visualizing trends in the numebr of Netflix title added per year, Allowing for clear representation of how this count varies over time for both Movies and TV Shows categories."
      ],
      "metadata": {
        "id": "5aaW0BYyYklI"
      }
    },
    {
      "cell_type": "markdown",
      "source": [
        "##### 2. What is/are the insight(s) found from the chart?"
      ],
      "metadata": {
        "id": "ijmpgYnKYklI"
      }
    },
    {
      "cell_type": "markdown",
      "source": [
        "\n",
        "* Content Growth Trend = The overall trend shows a consistent increase in the number of titles added each year, reflecting Netflix's commitment to expanding its content library.\n",
        "* Dominance of Movies = Movies consistently outnumber TV Shows in terms of additions each year, with substanital lead in most years.\n",
        "* 2016-2019 Content Surge = There was a significant spike in content additions from 2016 to 2019, indicating a period of rapid expansion in Netflix's content offerings.\n",
        "* 2020-2021 Stagnation = The number of title added in 2020 and 2021 appears to have decreased compared to the peak years of 2018 ann 2019.This suggests a potential slowdown or saturation in content growth, possibly influenced by external factor such as COVID - 19 pandemic.\n",
        "\n"
      ],
      "metadata": {
        "id": "PSx9atu2YklI"
      }
    },
    {
      "cell_type": "markdown",
      "source": [
        "##### 3. Will the gained insights help creating a positive business impact?\n",
        "Are there any insights that lead to negative growth? Justify with specific reason."
      ],
      "metadata": {
        "id": "-JiQyfWJYklI"
      }
    },
    {
      "cell_type": "markdown",
      "source": [
        "Such as the content growth trend and dominance of movie, can help Netflix make informed content acquisition and user engagement decisions, potentially leading to a positive business impact. However, the stagnation in content additions in 2020-2021 may indicate challenges and could necessitate strategic adjustments to sustain growth."
      ],
      "metadata": {
        "id": "BcBbebzrYklV"
      }
    },
    {
      "cell_type": "markdown",
      "source": [
        "#### Chart - 3   Distribution of Content Added over the Months."
      ],
      "metadata": {
        "id": "EM7whBJCYoAo"
      }
    },
    {
      "cell_type": "code",
      "source": [
        "# Chart - 3 visualization code\n",
        "# Group the data by 'added_month' and 'type' and count the number of titles added each month for each type.\n",
        "monthly_type_counts = df.groupby(['added_month','type']).size().unstack(fill_value=0)\n",
        "\n",
        "# Define months name for labeling the x-axis.\n",
        "month_names = ['Jan','Feb','Mar','Apr','May','Jun','Jul','Aug','Sep','Oct','Nov','Dec']\n",
        "\n",
        "# Define custom color for the bars.\n",
        "colors = ['#ff9999','#66b3ff']  # Different colors for Movies and Tv Show.\n",
        "\n",
        "# Create a grouped bar chart with counts above the bars.\n",
        "plt.figure(figsize=(10,6))\n",
        "bar_width = 0.4   # Width for each bar.\n",
        "index = np.arange(len(month_names))  # X-axis positions for bars.\n",
        "\n",
        "# Create bars for 'Movies' and 'TV Show'side by side.\n",
        "movie_bars = plt.bar(index - bar_width/2, monthly_type_counts['Movie'],bar_width,label='Movie', color=colors[0])\n",
        "tv_show_bars = plt.bar(index + bar_width/2, monthly_type_counts['TV Show'], bar_width, label='TV Show', color= colors[1])\n",
        "\n",
        "# Add count labels above the bars.\n",
        "for bar in movie_bars + tv_show_bars :\n",
        "  height = bar.get_height()\n",
        "  plt.annotate(f'{int(height)}', xy=(bar.get_x()+ bar.get_width() / 2, height), xytext=(0,3),\n",
        "               textcoords = 'offset points', ha='center', va='bottom', fontsize=10)\n",
        "\n",
        "# Add legend, labels and title.\n",
        "plt.legend()\n",
        "plt.xlabel('Month')\n",
        "plt.ylabel('Number of Titles Added')\n",
        "plt.title('Netflix Titles Added by Month(Group by type)')\n",
        "plt.xticks(index, month_names)\n",
        "plt.xticks(rotation=45)   # Rotate x-axis labels for better readability.\n",
        "plt.show()"
      ],
      "metadata": {
        "id": "t6GMdE67YoAp"
      },
      "execution_count": null,
      "outputs": []
    },
    {
      "cell_type": "markdown",
      "source": [
        "##### 1. Why did you pick the specific chart?"
      ],
      "metadata": {
        "id": "fge-S5ZAYoAp"
      }
    },
    {
      "cell_type": "markdown",
      "source": [
        "Bar Chart is suitable for comparing the number of Netflix titel added each month for different types(Movie and Tv Show) as it allows for clear visual comparison between categories within each month,aiding in understanding trends and differences in content additions."
      ],
      "metadata": {
        "id": "5dBItgRVYoAp"
      }
    },
    {
      "cell_type": "markdown",
      "source": [
        "##### 2. What is/are the insight(s) found from the chart?"
      ],
      "metadata": {
        "id": "85gYPyotYoAp"
      }
    },
    {
      "cell_type": "markdown",
      "source": [
        "\n",
        "* Monthly Fluctuations = Both Movie and Tv Show categories show fluctuations in content additions throughout the year.\n",
        "* Seasonal Trends = There appears to be some seasonality in content additions. For instance, there is often an increase in both categories in January and December.\n",
        "* Movie Dominance = Movies are consistently added in larger number compared to TV shows each month.\n",
        "* Variability = While there is a general trend, there are exceptions, such as October and November, where Movie additions Significantly outnumber TV shows\n",
        "\n"
      ],
      "metadata": {
        "id": "4jstXR6OYoAp"
      }
    },
    {
      "cell_type": "markdown",
      "source": [
        "##### 3. Will the gained insights help creating a positive business impact?\n",
        "Are there any insights that lead to negative growth? Justify with specific reason."
      ],
      "metadata": {
        "id": "RoGjAbkUYoAp"
      }
    },
    {
      "cell_type": "markdown",
      "source": [
        "To Create a positive business impact by informing cotent release and marketing strategies based on seasonality and user preferences. However, a potential negative impact could arise if the consistent dominance of movies over TV Shows leads to lack of variety, causing reduced user engagement and satisfaction over time."
      ],
      "metadata": {
        "id": "zfJ8IqMcYoAp"
      }
    },
    {
      "cell_type": "markdown",
      "source": [
        "#### Chart - 4  Distribution of Content Rating."
      ],
      "metadata": {
        "id": "4Of9eVA-YrdM"
      }
    },
    {
      "cell_type": "markdown",
      "source": [
        "Each TV Show and Movies on Netflix is assigned a maturity rating to help members make informed choices for themselves and their children. Netflix determines maturity rating by the frequency and impact of mature content in TV Show or Movies. TV Show reflect the overall maturiity level of the whole series.\n",
        "\n",
        "\n",
        "\n",
        "\n",
        "![image.png](data:image/png;base64,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)\n"
      ],
      "metadata": {
        "id": "NpqOsfBwWCIt"
      }
    },
    {
      "cell_type": "code",
      "source": [
        "# Chart - 4 visualization code\n",
        "# Filter out rows with missing ratings.\n",
        "filtered_data = df[~df['rating'].isna()]\n",
        "\n",
        "# Calculate rating distribution.\n",
        "rating_counts = filtered_data['rating'].value_counts()\n",
        "# Define the rating ages mapping dictionary.\n",
        "rating_ages = {'TV PG': 'Older Kids',\n",
        "               'TV-MA': 'Adults',\n",
        "               'TV-Y7-FV': 'Older Kids',\n",
        "               'TV-Y7': 'Older Kids',\n",
        "               'TV-14': 'Young Adults',\n",
        "               'R': 'Adults',\n",
        "               'TV-Y': 'Kids',\n",
        "               'NR': 'Adults',\n",
        "               'PG-13': 'Teens',\n",
        "               'TV-G': 'Kids',\n",
        "               'PG': 'Older Kids',\n",
        "               'G': 'Kids',\n",
        "               'UR': 'Adults',\n",
        "               'NC-17': 'Adults'}\n",
        "\n",
        "# Create a new 'age_rating' column based on the rating column.\n",
        "df['age_rating'] = df['rating'].map(rating_ages)\n",
        "filtered_data['rating_age'] = filtered_data['rating'].map(rating_ages)\n",
        "\n",
        "# Create a subplots with 1 row and 2 columns.\n",
        "fig,axs = plt.subplots(1,2, figsize=(12,6))\n",
        "\n",
        "# Plot rating distribution (horizontal bar chart )\n",
        "sns.barplot(x=rating_counts.values, y=rating_counts.index, ax=axs[0])\n",
        "axs[0].set_xlabel('Count')\n",
        "axs[0].set_ylabel('Rating')\n",
        "axs[0].set_title('Rating Distribution')\n",
        "\n",
        "# Plot rating ages (donut chart)\n",
        "rating_age_counts = filtered_data['rating_age'].value_counts()\n",
        "axs[1].pie(rating_age_counts.values, labels=rating_age_counts.index, autopct='%1.1f%%',\n",
        "           startangle=90, wedgeprops= dict(width=0.4))\n",
        "axs[1].axis('equal')\n",
        "axs[1].set_title('Rating Ages')\n",
        "\n",
        "# Adjusting layout and display the plots.\n",
        "plt.tight_layout()\n",
        "plt.show()"
      ],
      "metadata": {
        "id": "irlUoxc8YrdO"
      },
      "execution_count": null,
      "outputs": []
    },
    {
      "cell_type": "markdown",
      "source": [
        "##### 1. Why did you pick the specific chart?"
      ],
      "metadata": {
        "id": "iky9q4vBYrdO"
      }
    },
    {
      "cell_type": "markdown",
      "source": [
        "\n",
        "* Horizontal bar chart are effective for comparing the count of discrete categories,such as rating, as they provide a clear visual representation of the frequency of each category.In this case, it allows stakeholders to see how many titles fall into each rating category,facilitating and understanding of the content diversity.\n",
        "\n",
        "* Donut Charts are chosen to visualize the distribution of content rating within different age categories. They are suitable for displaying parts-of-whole-relationship, such as a percentage of content in various age categories. The Donut chart aids in highlighting the proportion of content targeted at different audience age groups,providing valuable insights for content targeting and recommendations.\n",
        "\n"
      ],
      "metadata": {
        "id": "aJRCwT6DYrdO"
      }
    },
    {
      "cell_type": "markdown",
      "source": [
        "##### 2. What is/are the insight(s) found from the chart?"
      ],
      "metadata": {
        "id": "F6T5p64dYrdO"
      }
    },
    {
      "cell_type": "markdown",
      "source": [
        "\n",
        "* Popular Rating = 'TV-MA' and 'TV-14' are the most common content ratings, indicating that Netflix has a significant amount of content suitable for mature audiences.\n",
        "* Diverse Ratings = Netflix offers content across various age and maturity levels including 'TV-PG','R','PG-13','TV-Y','TV-Y7','PG','TV-G','NR'(Not Rated),'G','TV-Y7-FV','UR'(Unrated),and 'NC-17'.This diverse selection caters to a wide range of viewer preferences.\n",
        "* Adult Oriented Content = 'Adults' and 'Young Adults' categories have a significant number of titles, indicating a substantial focus on content for mature audiences.\n",
        "* Children and Family Content = 'Older Kids', 'Kids' and 'Teens' categories highlight the availability of content suitable for younger viewers, ensuring a family-friendly viewing experience.\n",
        "\n"
      ],
      "metadata": {
        "id": "Xx8WAJvtYrdO"
      }
    },
    {
      "cell_type": "markdown",
      "source": [
        "##### 3. Will the gained insights help creating a positive business impact?\n",
        "Are there any insights that lead to negative growth? Justify with specific reason."
      ],
      "metadata": {
        "id": "y-Ehk30pYrdP"
      }
    },
    {
      "cell_type": "markdown",
      "source": [
        "The data can have positive impact on Netflix's business by enabling better audience targeting and content strategy.However, if Netflix overemphasize one age group or neglects others, it could lead to negative growth by missing out on potential subscribers in underserved segments."
      ],
      "metadata": {
        "id": "jLNxxz7MYrdP"
      }
    },
    {
      "cell_type": "markdown",
      "source": [
        "#### Chart - 5   Distribution of Content Duration."
      ],
      "metadata": {
        "id": "bamQiAODYuh1"
      }
    },
    {
      "cell_type": "code",
      "source": [
        "# Chart - 5 visualization code\n",
        "# Extract numeric duration values.\n",
        "df['duration_value'] = df['duration'].str.extract('(\\d+)').astype(float)\n",
        "\n",
        "# Create subplots for Movies and Tv Shows.\n",
        "fig,(ax1, ax2) = plt.subplots(1,2, figsize=(12,5))\n",
        "\n",
        "# Subplot 1: Distribution of Movie Durations.\n",
        "ax1.hist(df[df['type']=='Movie']['duration_value'], bins=15, color= 'salmon')\n",
        "ax1.set_xlabel('Duration (minutes)')\n",
        "ax1.set_ylabel('Frequency')\n",
        "ax1.set_title('Distribution of Movie Durations')\n",
        "\n",
        "# Subplot 2: Distribution of TV Show Duration.\n",
        "ax2.hist(df[df['type']=='TV Show']['duration_value'], bins=10, color= 'green')\n",
        "ax2.set_xlabel('Number of Seasons')\n",
        "ax2.set_ylabel('Frequency')\n",
        "ax2.set_title('Distribution of TV Show Seasons')\n",
        "\n",
        "# Adjusting space between subplots.\n",
        "plt.tight_layout()\n",
        "plt.show()"
      ],
      "metadata": {
        "id": "TIJwrbroYuh3"
      },
      "execution_count": null,
      "outputs": []
    },
    {
      "cell_type": "markdown",
      "source": [
        "##### 1. Why did you pick the specific chart?"
      ],
      "metadata": {
        "id": "QHF8YVU7Yuh3"
      }
    },
    {
      "cell_type": "markdown",
      "source": [
        "Histograms are made to provide a clear and intuitive representation of the distribution of content durations for movies and TV Shows, making it easy to grasp the patterns and variations in the data."
      ],
      "metadata": {
        "id": "dcxuIMRPYuh3"
      }
    },
    {
      "cell_type": "markdown",
      "source": [
        "##### 2. What is/are the insight(s) found from the chart?"
      ],
      "metadata": {
        "id": "GwzvFGzlYuh3"
      }
    },
    {
      "cell_type": "markdown",
      "source": [
        "\n",
        "* Most of the Movie Duration is between 80 min to 120 min.\n",
        "* very few movies duration is greater than 180 min.\n",
        "* Most of the TV-Shows have 2 seasons.\n",
        "* Very few TV-Shows have greater than 8 seasons.\n",
        "\n"
      ],
      "metadata": {
        "id": "uyqkiB8YYuh3"
      }
    },
    {
      "cell_type": "markdown",
      "source": [
        "##### 3. Will the gained insights help creating a positive business impact?\n",
        "Are there any insights that lead to negative growth? Justify with specific reason."
      ],
      "metadata": {
        "id": "qYpmQ266Yuh3"
      }
    },
    {
      "cell_type": "markdown",
      "source": [
        "Understanding the distribution of content durations allows Netflix to optimize its content acquisition and production strategy. it can focus on creating content that aligns with viewer preferences for duration. In this case duration of the movie should be within 80 min to 120 min and tv-shows should have 2 seasons"
      ],
      "metadata": {
        "id": "_WtzZ_hCYuh4"
      }
    },
    {
      "cell_type": "markdown",
      "source": [
        "#### Chart - 6  Country wise Content Distribution."
      ],
      "metadata": {
        "id": "OH-pJp9IphqM"
      }
    },
    {
      "cell_type": "code",
      "source": [
        "# Chart - 6 visualization code\n",
        "# Install geopandas to plot.\n",
        "!pip install geopandas pandas matplotlib"
      ],
      "metadata": {
        "id": "uZXXXTnGNgmz"
      },
      "execution_count": null,
      "outputs": []
    },
    {
      "cell_type": "code",
      "source": [
        "# Split and count the number of content items per country.\n",
        "country_counts = df['country'].str.split(', ').explode().value_counts().reset_index()\n",
        "country_counts.columns = ['country', 'count']"
      ],
      "metadata": {
        "id": "kuRf4wtuphqN"
      },
      "execution_count": null,
      "outputs": []
    },
    {
      "cell_type": "code",
      "source": [
        "# Install the pycountry package to work with country information.\n",
        "!pip install pycountry"
      ],
      "metadata": {
        "id": "sX1yXL62PHTX"
      },
      "execution_count": null,
      "outputs": []
    },
    {
      "cell_type": "code",
      "source": [
        "import pycountry\n",
        "# Function to get ISO alpha-3 code from country name using pycountry.\n",
        "def get_iso_alpha(country_name):\n",
        "  try:\n",
        "    country= pycountry.countries.search_fuzzy(country_name)[0]\n",
        "    return country.alpha_3\n",
        "  except LookupError:\n",
        "    return None\n",
        "\n",
        "# Create the ISO alpha-3 column using the function.\n",
        "country_counts['iso_alpha'] = country_counts['country'].apply(get_iso_alpha)\n",
        "\n",
        "# Filter out rows where ISO alpha-3 is None (for countries not found)\n",
        "country_counts_iso_df = country_counts.dropna(subset=['iso_alpha'])"
      ],
      "metadata": {
        "id": "f896ZmxKPz4g"
      },
      "execution_count": null,
      "outputs": []
    },
    {
      "cell_type": "code",
      "source": [
        "# Sort the Dataframe by content count in descending order and select the top 10 countries.\n",
        "top_10_countries = country_counts_iso_df.sort_values(by='count', ascending=False).head(10)\n",
        "\n",
        "# Create a countplot using seaborn\n",
        "plt.figure(figsize=(12,6))\n",
        "sns.set_theme(style= \"whitegrid\")\n",
        "sns.barplot(x='count', y='country', data=top_10_countries, palette='viridis')\n",
        "\n",
        "# Set plot title and labels.\n",
        "plt.title('Top 10 Countries by Netflix Content Production')\n",
        "plt.xlabel('Number of Titles')\n",
        "plt.ylabel('Country')\n",
        "\n",
        "plt.show()"
      ],
      "metadata": {
        "id": "2QEByON8SN-J"
      },
      "execution_count": null,
      "outputs": []
    },
    {
      "cell_type": "code",
      "source": [
        "# Necessary imports for plotly and map.\n",
        "import plotly.express as px\n",
        "# Create the choropleth map using plotly Express.\n",
        "fig = px.choropleth(country_counts_iso_df,\n",
        "                    locations='iso_alpha',\n",
        "                    color = 'count',   # Provide the values to be mapped (count of Netflix content)\n",
        "                    hover_name='country',    # Column to add to hover information\n",
        "                    color_continuous_scale='sunset',\n",
        "                    title = 'Netflix content prodction by country')\n",
        "\n",
        "fig.show()"
      ],
      "metadata": {
        "id": "ws8OroyGUU9A"
      },
      "execution_count": null,
      "outputs": []
    },
    {
      "cell_type": "markdown",
      "source": [
        "##### 1. Why did you pick the specific chart?"
      ],
      "metadata": {
        "id": "bbFf2-_FphqN"
      }
    },
    {
      "cell_type": "markdown",
      "source": [
        "\n",
        "* Horizontal bar chart was aligned with the goal of visualizing and ranking the top content-producing countries in a clear and easily understandable manner.\n",
        "* Choropleth map was chosen because it effectively communicates geographic data, facilitates data comparison, and offers an interactive user experience, which is especially valuable when visualizing content production on a global scale.\n",
        "\n"
      ],
      "metadata": {
        "id": "loh7H2nzphqN"
      }
    },
    {
      "cell_type": "markdown",
      "source": [
        "##### 2. What is/are the insight(s) found from the chart?"
      ],
      "metadata": {
        "id": "_ouA3fa0phqN"
      }
    },
    {
      "cell_type": "markdown",
      "source": [
        "\n",
        "* The United States has the highest count of Netflix content production, indicating a significant presence in the platform's content library.\n",
        "* While some countries, like India and the United Kingdom, have substantial content production counts, others have fewer titles available.\n",
        "* Netflix serves diverse audiences by producing content in countries like Japan, South Korea, Mexico, China and more.\n",
        "\n",
        "\n"
      ],
      "metadata": {
        "id": "VECbqPI7phqN"
      }
    },
    {
      "cell_type": "markdown",
      "source": [
        "##### 3. Will the gained insights help creating a positive business impact?\n",
        "Are there any insights that lead to negative growth? Justify with specific reason."
      ],
      "metadata": {
        "id": "Seke61FWphqN"
      }
    },
    {
      "cell_type": "markdown",
      "source": [
        "Such as recognizing the dominance of the United States and the global distribution of content, can help Netflix male informed content acuqisition decision, potentially leading to a positive business impact. However, if Netflix neglects content diversity and relies too heavily on a single region. it could limit international growth and audience appeal"
      ],
      "metadata": {
        "id": "DW4_bGpfphqN"
      }
    },
    {
      "cell_type": "markdown",
      "source": [
        "#### Chart - 7   Distribution of genre of Content."
      ],
      "metadata": {
        "id": "PIIx-8_IphqN"
      }
    },
    {
      "cell_type": "code",
      "source": [
        "# Chart - 7 visualization code\n",
        "# Split the 'list_in'column into a list of Genres.\n",
        "df['genres'] = df['listed_in'].str.split(', ')\n",
        "\n",
        "# Explode the dataframe to have One row per genre.\n",
        "df_exploded = df.explode('genres')\n",
        "\n",
        "# Create Separate dataframe for Movies and TV Shows.\n",
        "movies_df = df_exploded[df_exploded['type']== 'Movie']\n",
        "tv_shows_df = df_exploded[df_exploded['type'] == 'TV Show']\n",
        "\n",
        "# Calculate the genre counts for movies and tv shows.\n",
        "movie_genre_counts = movies_df['genres'].value_counts().reset_index()\n",
        "movie_genre_counts.columns = ['Genre', 'Movie Count']\n",
        "\n",
        "tv_show_genre_counts = tv_shows_df['genres'].value_counts().reset_index()\n",
        "tv_show_genre_counts.columns = ['Genre', 'Tv Show Count']\n",
        "\n",
        "# Create a bar plot for Movie and Tv show.\n",
        "fig,axes = plt.subplots(nrows = 1, ncols=2, figsize=(16,6))\n",
        "sns.set_theme(style= 'whitegrid')\n",
        "\n",
        "# Plot for Movies.\n",
        "sns.barplot(x= 'Movie Count', y= 'Genre', data= movie_genre_counts.head(10), palette='magma', ax=axes[0])\n",
        "axes[0].set_title('Top 10 Movies Genres')\n",
        "axes[0].set_xlabel('Movie Count')\n",
        "axes[0].set_ylabel('Genre')\n",
        "\n",
        "# Plot for TV Shows.\n",
        "sns.barplot(x= 'Tv Show Count', y= 'Genre', data= tv_show_genre_counts.head(10), palette='icefire', ax=axes[1])\n",
        "axes[1].set_title('Top 10 TV Shows Genres')\n",
        "axes[1].set_xlabel('TV Show Count')\n",
        "axes[1].set_ylabel('Genre')\n",
        "\n",
        "# Rotate X axis labels for better readability.\n",
        "axes[0].tick_params(axis='x', rotation=90)\n",
        "axes[1].tick_params(axis='x', rotation=90)\n",
        "\n",
        "plt.tight_layout()\n",
        "plt.show()\n"
      ],
      "metadata": {
        "id": "lqAIGUfyphqO"
      },
      "execution_count": null,
      "outputs": []
    },
    {
      "cell_type": "markdown",
      "source": [
        "##### 1. Why did you pick the specific chart?"
      ],
      "metadata": {
        "id": "t27r6nlMphqO"
      }
    },
    {
      "cell_type": "markdown",
      "source": [
        "The Choice of horizontal bar charts(barplots) was suitable for comparing and visualizing the top genre for Movies and Tv Shows. Barplots are effective for displaying the frequency or count of categories, making it easy to identify the most popular genres in a clear and concise manner."
      ],
      "metadata": {
        "id": "iv6ro40sphqO"
      }
    },
    {
      "cell_type": "markdown",
      "source": [
        "##### 2. What is/are the insight(s) found from the chart?"
      ],
      "metadata": {
        "id": "r2jJGEOYphqO"
      }
    },
    {
      "cell_type": "markdown",
      "source": [
        "\n",
        "* International Movies and Dramas,International TV Shows are most common genres,indicating a wide range of international and dramatic content available.\n",
        "\n",
        "* Comedies and Documentaries genres are also popular, Showing the appeal of humor and informative content.\n",
        "\n",
        "* Netflix offers a diverse selection of genres, including action, family, romance, thriler, standup-comedy, and more.\n",
        "\n",
        "* Genre like LGBTQ,Clut,Faith & Spirituality and Anime Feature cater to niche audiences, enhancing content diversity.\n",
        "\n",
        "* TV Dramas are also popular, reflecting the  diversity of dramatic content available.\n",
        "\n",
        "* Genre like 'Kids TV' and 'Anime Series'cater to family and younger audience.\n",
        "\n",
        "* Netflix offers a varity of genres for Tv Shows, including crime, comedy, documentary series, romance, reality TV, and more.\n",
        "\n",
        "* Genres like 'Science & Nature TV' and 'Standup Comedy & Talk Shows' cater to specific interests.\n",
        "\n"
      ],
      "metadata": {
        "id": "Po6ZPi4hphqO"
      }
    },
    {
      "cell_type": "markdown",
      "source": [
        "##### 3. Will the gained insights help creating a positive business impact?\n",
        "Are there any insights that lead to negative growth? Justify with specific reason."
      ],
      "metadata": {
        "id": "b0JNsNcRphqO"
      }
    },
    {
      "cell_type": "markdown",
      "source": [
        "The Divese content selection and international appeal of Tv shows movies can have a positvie business impact by attracting a bord audience. However, maintaining  a balance content library and ensuring quality is essential to avoid potential negative growth and audience dissatisfaction."
      ],
      "metadata": {
        "id": "xvSq8iUTphqO"
      }
    },
    {
      "cell_type": "markdown",
      "source": [
        "#### Chart - 8  Top Actors in Netflix Contents."
      ],
      "metadata": {
        "id": "BZR9WyysphqO"
      }
    },
    {
      "cell_type": "code",
      "source": [
        "from pandas.core.frame import DataFrame\n",
        "# Chart - 8 visualization code\n",
        "# Split the Cast column into a list of actors .\n",
        "cast = df['cast'].str.split(', ')\n",
        "\n",
        "# Flatten the list of actors and count their occurrences.\n",
        "actors_series = cast.explode()\n",
        "top_actors = actors_series.value_counts().head(20)\n",
        "\n",
        "# Create a dataframe for the Top actors.\n",
        "top_actors_df = pd.DataFrame({'Actor': top_actors.index, 'Count':top_actors.values})\n",
        "\n",
        "# Separate the data for movies and Tv shows.\n",
        "movies_df = df[df['type']=='Movie']\n",
        "tv_shows_df = df[df['type']== 'TV Show']\n",
        "\n",
        "# Calculate top 10 Actors for Movies and TV shows.\n",
        "cast_movies = movies_df['cast'].str.split(', ')\n",
        "\n",
        "# Flatten the list of actors and count their occurrences\n",
        "actors_movies_series = cast_movies.explode()\n",
        "top_actors_movies = actors_movies_series.value_counts().head(10)\n",
        "top_actors_movies_df = pd.DataFrame({'Actor': top_actors_movies.index, 'Count': top_actors_movies.values})\n",
        "\n",
        "cast_tv = tv_shows_df['cast'].str.split(', ')\n",
        "\n",
        "# Flatten the list of actors and count their occurrences.\n",
        "actors_tv_series = cast_tv.explode()\n",
        "top_actors_tv = actors_tv_series.value_counts().head(10)\n",
        "top_actors_tv_df = pd.DataFrame({'Actor': top_actors_tv.index, 'Count': top_actors_tv.values})\n",
        "\n",
        "# Create a subplots.\n",
        "fig, axes = plt.subplots(nrows=2, ncols=1, figsize=(15,20))\n",
        "sns.set_theme(style='whitegrid')\n",
        "\n",
        "# Plot top 10 Movie actors.\n",
        "sns.barplot(x= top_actors_movies_df['Count'], y=top_actors_movies_df['Actor'], ax=axes[0], palette='icefire')\n",
        "axes[0].set_title('Top 10 Movie Actors')\n",
        "axes[0].set_xlabel('Count')\n",
        "axes[0].set_ylabel('Actor')\n",
        "axes[0].tick_params(axis='x', rotation=90)\n",
        "\n",
        "# Plot top 10 Tv Show actors.\n",
        "sns.barplot(x=top_actors_tv_df['Count'], y=top_actors_tv_df['Actor'], ax=axes[1], palette='Set2')\n",
        "axes[1].set_title('Top 10 TV Show Actors')\n",
        "axes[1].set_xlabel('Count')\n",
        "axes[1].set_ylabel('Actor')\n",
        "axes[1].tick_params(axis='x', rotation=90)\n",
        "\n",
        "# Adjusting subplot spacing.\n",
        "plt.tight_layout()\n",
        "plt.show()"
      ],
      "metadata": {
        "id": "TdPTWpAVphqO"
      },
      "execution_count": null,
      "outputs": []
    },
    {
      "cell_type": "markdown",
      "source": [
        "##### 1. Why did you pick the specific chart?"
      ],
      "metadata": {
        "id": "jj7wYXLtphqO"
      }
    },
    {
      "cell_type": "markdown",
      "source": [
        "Bar charts are suitable choice for this data visualization task because they effectively convey the ranking and frequency of top actors in both movies and tv shows."
      ],
      "metadata": {
        "id": "Ob8u6rCTphqO"
      }
    },
    {
      "cell_type": "markdown",
      "source": [
        "##### 2. What is/are the insight(s) found from the chart?"
      ],
      "metadata": {
        "id": "eZrbJ2SmphqO"
      }
    },
    {
      "cell_type": "markdown",
      "source": [
        "\n",
        "* Anupam Kher, Shah Rukh Khan, Om Puri are the top 3 actors with highest number of appearances.\n",
        "\n",
        "* Many of the top actors are from the Indian film Industry(Bollywood), which suggests a significant presence of Bollywood movies and tv shows on Netflix.\n",
        "\n",
        "* Actors like Nicolas Cage, Samuel L.Jackson and Adam Sandler also feature in the top 20, indicating the presence of Hollywood content on Netflix.\n",
        "\n",
        "* The Tv-show chart suggests that there is strong presence of Japanese Anime and Animated Content on Netflix in various countries, and these voice actors are known for their work in this genre.\n",
        "\n",
        "* The appearance of English-language voice actors like Vincent Tong suggests that Netflix provids localized versions of anime content in different languages to cater to global audience.\n",
        "\n",
        "* David Attenborough know for narrating nature and wildlife documentaries, is among the top actors. This indicates the presence of documentary content, especially those related to nature and wildlife, on Netflix.\n",
        "\n"
      ],
      "metadata": {
        "id": "mZtgC_hjphqO"
      }
    },
    {
      "cell_type": "markdown",
      "source": [
        "##### 3. Will the gained insights help creating a positive business impact?\n",
        "Are there any insights that lead to negative growth? Justify with specific reason."
      ],
      "metadata": {
        "id": "rFu4xreNphqO"
      }
    },
    {
      "cell_type": "markdown",
      "source": [
        "The both top actors in Movies and TV Shows can help to create positive business impact by guiding content acquisition and recommendations to cater to diverse viewer preferences."
      ],
      "metadata": {
        "id": "ey_0qi68phqO"
      }
    },
    {
      "cell_type": "markdown",
      "source": [
        "#### Chart - 9  Top Director in Netflix."
      ],
      "metadata": {
        "id": "YJ55k-q6phqO"
      }
    },
    {
      "cell_type": "code",
      "source": [
        "# Chart - 9 visualization code\n",
        "# Calculate the Top 10 Director for movies and TV Shows.\n",
        "director_movies = movies_df['director'].str.split(', ')\n",
        "\n",
        "# Flatten the list of director and count their occurrences.\n",
        "director_movies_series = director_movies.explode()\n",
        "top_director_movies = director_movies_series.value_counts().head(10)\n",
        "\n",
        "director_tv_show = tv_shows_df['director'].str.split(', ')\n",
        "\n",
        "# Flatten the list of director and count their occurrences.\n",
        "director_tv_series = director_tv_show.explode()\n",
        "top_director_tv = director_tv_series.value_counts().head(10)\n",
        "\n",
        "# Calculating top 10 director for movies and TV shows.\n",
        "top_director_movies = movies_df['director'].value_counts().head(10)\n",
        "top_director_tv_shows = tv_shows_df['director'].value_counts().head(10)\n",
        "\n",
        "# Create a subplots.\n",
        "fig, axes = plt.subplots(nrows=1, ncols=2, figsize=(16,12))\n",
        "sns.set_theme(style='whitegrid')\n",
        "\n",
        "# Plot top 10 movie directors.\n",
        "sns.barplot(x=top_director_movies.values, y=top_director_movies.index, ax=axes[0], palette='Set2')\n",
        "axes[0].set_title('Top 10 Movie Director')\n",
        "axes[0].set_xlabel('Count')\n",
        "axes[0].set_ylabel('Director')\n",
        "axes[0].tick_params(axis='x', rotation=90)\n",
        "\n",
        "# Plot top 10 tv show director.\n",
        "sns.barplot(x=top_director_tv_shows.values, y=top_director_tv_shows.index, ax=axes[1], palette='Set2')\n",
        "axes[1].set_title('Top 10 TV Show Director')\n",
        "axes[1].set_xlabel('Count')\n",
        "axes[1].set_ylabel('Director')\n",
        "axes[1].tick_params(axis='x', rotation=90)\n",
        "\n",
        "# Adjust subplot spacing.\n",
        "plt.tight_layout()\n",
        "plt.show()"
      ],
      "metadata": {
        "id": "B2aS4O1ophqO"
      },
      "execution_count": null,
      "outputs": []
    },
    {
      "cell_type": "markdown",
      "source": [
        "##### 1. Why did you pick the specific chart?"
      ],
      "metadata": {
        "id": "gCFgpxoyphqP"
      }
    },
    {
      "cell_type": "markdown",
      "source": [
        "Bar charts are suitable choice for this data visualization task because they effectively convey the ranking and frequency of top actors in both movies and tv shows."
      ],
      "metadata": {
        "id": "TVxDimi2phqP"
      }
    },
    {
      "cell_type": "markdown",
      "source": [
        "##### 2. What is/are the insight(s) found from the chart?"
      ],
      "metadata": {
        "id": "OVtJsKN_phqQ"
      }
    },
    {
      "cell_type": "markdown",
      "source": [
        "\n",
        "* The directors Rau`l Campos and Jan Suter have the highest count, indicating their significant contribution to Netflix's content library.\n",
        "\n",
        "* The list includes director from various backgrounds and regions, such as Marcus Raboy, cathy gracia-molina and Youssef Chahine Showcasing  a global and diverse range of content.\n",
        "\n",
        "* Director like Martin Scorsese, Steven Spielberg, and Johnnie To are also present, indicating that Netflix collaborates with well-established and acclaimed directors.\n",
        "\n",
        "* The list includes directors from various background and regions,such as Alastair Fothergill, Ken Burns and Shin Won-ho, showcasing Netflix's commitment to featuring a diverse range of directorial talents.\n",
        "\n"
      ],
      "metadata": {
        "id": "ngGi97qjphqQ"
      }
    },
    {
      "cell_type": "markdown",
      "source": [
        "##### 3. Will the gained insights help creating a positive business impact?\n",
        "Are there any insights that lead to negative growth? Justify with specific reason."
      ],
      "metadata": {
        "id": "lssrdh5qphqQ"
      }
    },
    {
      "cell_type": "markdown",
      "source": [
        "\n",
        "* Collaborating with diverse directors help Netflix attract a global audience, contributing positively to its user base.\n",
        "\n",
        "* Directors from various backgrounds bring divers content genres, enhancing Netflix's ability to cater to a wide range of viwer preferences.\n",
        "\n",
        "* Consistent collaborations with director can lead to fruitful long-term partnerships, benefiting both parties.\n",
        "\n",
        "\n"
      ],
      "metadata": {
        "id": "tBpY5ekJphqQ"
      }
    },
    {
      "cell_type": "markdown",
      "source": [
        "#### Chart - 10  Wordcloud of Titles."
      ],
      "metadata": {
        "id": "U2RJ9gkRphqQ"
      }
    },
    {
      "cell_type": "code",
      "source": [
        "# Chart - 10 visualization code\n",
        "import re\n",
        "from wordcloud import WordCloud\n",
        "# Function to clean text data.\n",
        "def clean_text(text):\n",
        "  text = re.sub(r'[^A-Za-z\\s]', '', text)   # Remove non-alphabetic characters\n",
        "  return text.lower()\n",
        "\n",
        "# Clean and concatenate titles for Movies and TV Shows.\n",
        "movie_titles =  ' '.join(movies_df['title'].apply(clean_text))\n",
        "tv_show_titles = ' '.join(tv_shows_df['title'].apply(clean_text))\n",
        "\n",
        "# Create wordcloud objects.\n",
        "movie_wordcloud = WordCloud(width=800, height=400, background_color='white').generate(movie_titles)\n",
        "tv_show_wordcloud = WordCloud(width=800, height=400, background_color='white').generate(tv_show_titles)\n",
        "\n",
        "# Create subplots.\n",
        "fig,axes = plt.subplots(1,2, figsize=(16,6))\n",
        "\n",
        "# Plot Movie titles wordcloud.\n",
        "axes[0].imshow(movie_wordcloud, interpolation= 'bilinear')\n",
        "axes[0].set_title('Movies Titles WordCloud', fontsize=14)\n",
        "axes[0].axis('off')\n",
        "\n",
        "# Plot Tv show titles wordcloud.\n",
        "axes[1].imshow(tv_show_wordcloud, interpolation= 'bilinear')\n",
        "axes[1].set_title('TV Show Title WordCloud', fontsize= 14)\n",
        "axes[1].axis('off')\n",
        "\n",
        "# Adjusting subplot spacing.\n",
        "plt.tight_layout\n",
        "plt.show()"
      ],
      "metadata": {
        "id": "GM7a4YP4phqQ"
      },
      "execution_count": null,
      "outputs": []
    },
    {
      "cell_type": "markdown",
      "source": [
        "##### 1. Why did you pick the specific chart?"
      ],
      "metadata": {
        "id": "1M8mcRywphqQ"
      }
    },
    {
      "cell_type": "markdown",
      "source": [
        "WordCloud are a visually engaging and informative choice for repressenting textual data like movies and tv shows titles, allowing for quick insights into the prevalent themes or terms in these titles."
      ],
      "metadata": {
        "id": "8agQvks0phqQ"
      }
    },
    {
      "cell_type": "markdown",
      "source": [
        "##### 2. What is/are the insight(s) found from the chart?"
      ],
      "metadata": {
        "id": "tgIPom80phqQ"
      }
    },
    {
      "cell_type": "markdown",
      "source": [
        "\n",
        "* Most of the Movie title belong with words like christmas, love followed by story, live, world.\n",
        "\n",
        "* Most of the tv shows title belong with word like love,world,girl followed by adventure,friend.\n",
        "\n"
      ],
      "metadata": {
        "id": "Qp13pnNzphqQ"
      }
    },
    {
      "cell_type": "markdown",
      "source": [
        "##### 3. Will the gained insights help creating a positive business impact?\n",
        "Are there any insights that lead to negative growth? Justify with specific reason."
      ],
      "metadata": {
        "id": "JMzcOPDDphqR"
      }
    },
    {
      "cell_type": "markdown",
      "source": [
        "The Wordcloud visualizations for movies and tv show titles, while visually appealing do not directly provide insights that can lead to positive or negative business impacts o"
      ],
      "metadata": {
        "id": "R4Ka1PC2phqR"
      }
    },
    {
      "cell_type": "markdown",
      "source": [
        "#### Chart - 11   Top 10 Genre of Content in Top 10 Content Produced Countries."
      ],
      "metadata": {
        "id": "x-EpHcCOp1ci"
      }
    },
    {
      "cell_type": "code",
      "source": [
        "from plotly.graph_objs import RadialAxis\n",
        "# Chart - 11 visualization code\n",
        "from collections import Counter\n",
        "\n",
        "# List of countries to analyze.\n",
        "countries = ['United States','India','United Kingdom','Canada','Japan','France','South Korea','Spain','Mexico','Australia']\n",
        "\n",
        "# Create a function to count genre occurrences.\n",
        "def count_genres(data):\n",
        "  genre_counts = Counter()\n",
        "  for genres in data['listed_in']:\n",
        "    for genre in genres.split(', '):\n",
        "        genre_counts[genre] +=1\n",
        "  return dict(genre_counts)\n",
        "\n",
        "# Creat an empty dictionary to store top 10 genres for each country.\n",
        "top_10_genres_by_country = {}\n",
        "\n",
        "# Iterate through the list of countries.\n",
        "for country in countries:\n",
        "  # Filter data for the current country.\n",
        "  country_data= df[df['country']== country]\n",
        "\n",
        "  # Count genre occurrences for the country.\n",
        "  genre_counts = count_genres(country_data)\n",
        "\n",
        "  # Get Top 10 genres for the country.\n",
        "  top_10_genres = dict(sorted(genre_counts.items(), key=lambda item: item[1], reverse=True)[:10])\n",
        "\n",
        "  # Store the top 10 genres in the dictionary\n",
        "  top_10_genres_by_country[country] = top_10_genres\n",
        "\n",
        "# Plot radial column charts for each country's top 10 genres.\n",
        "for country, top_genres in top_10_genres_by_country.items():\n",
        "  genre_data = pd.DataFrame(list(top_genres.items()), columns=['Genre','Count'])\n",
        "  fig = px.bar_polar(genre_data, r='Count', theta='Genre',\n",
        "                     title=f'Top 10 Genres in {country}',\n",
        "                     labels={'Genre': 'Top Genres', 'Count':'Count'})\n",
        "  fig.update_traces(marker_color= 'green')\n",
        "  fig.update_layout(polar=dict(radialaxis=dict(showticklabels=False, ticks= '')))\n",
        "  fig.show()\n"
      ],
      "metadata": {
        "id": "mAQTIvtqp1cj"
      },
      "execution_count": null,
      "outputs": []
    },
    {
      "cell_type": "markdown",
      "source": [
        "##### 1. Why did you pick the specific chart?"
      ],
      "metadata": {
        "id": "X_VqEhTip1ck"
      }
    },
    {
      "cell_type": "markdown",
      "source": [
        "Radial column charts are chosen for their effectiveness in conveying the top 10 genre data for each country in a visually clear and comparative manner. They allow viewer to quickly grasp which genres most popular in each analyzed country."
      ],
      "metadata": {
        "id": "-vsMzt_np1ck"
      }
    },
    {
      "cell_type": "markdown",
      "source": [
        "##### 2. What is/are the insight(s) found from the chart?"
      ],
      "metadata": {
        "id": "8zGJKyg5p1ck"
      }
    },
    {
      "cell_type": "markdown",
      "source": [
        "\n",
        "* United States = Dominated by genres like 'Dramas','Comedies' and 'Documentaries'. Strong Presence of 'Independent Movies' and 'Children & Family Movies' A variety of TV genres, including 'TV Comedies' and 'TV Dramas'.\n",
        "\n",
        "* India = Heavy emphasis on 'International Movies' and 'Dramas'. A significant number of 'Comedies' and 'Action & Adventure' films. Notable presence of 'Romantic Movies' and 'Music & Musicals'.\n",
        "\n",
        "* United Kingdom = Strong focus on 'British TV Show' and 'International TV Show'. Documentaries and docuseries are prominent. 'Comedies' and 'Crime TV Show' also have presence.\n",
        "\n",
        "* Canada = Limited Genres, with 'Comdedies' and 'Children & Family Movie' being notable. Some 'International Movies' and 'Dramas'.'Kids TV' and 'TV Dramas' also available.\n",
        "\n",
        "* Japan = Diverse anime content with 'Anime Series' and 'Anime Features','International TV Shows' with a focus on anime. Limited presence of 'Action & Adventure' and 'Romantic TV Show'.\n",
        "\n",
        "* France = Mainly offers 'International Movies' and 'International TV Shows', 'Dramas' and 'Documentaries' are also availabel. Limited genres like 'Comedies' and 'TV Dramas'.\n",
        "\n",
        "* South Korea = Strong emphasis on 'International TV Shows' and 'Korean TV Shows','Romantic TV Show' have a significant presence of some 'Dramas' and 'Crime TV Shows'.\n",
        "\n",
        "* Spain = Focus on 'International Movies' and 'International TV Shows','Dramas' and 'Spanish-language TV Show' are notabel.Limited presence of 'Comedies' and 'Crime TV Shows'.\n",
        "\n",
        "* Mexico = Emphasis on 'International Movies' and 'International TV Shows','Maxican-Language TV Show' and 'Dramas' are notable some 'Crime TV Shows' and 'Standup Comedy'.\n",
        "\n",
        "* Australia = International TV Shows' and 'Dramas' are significant. 'TV Dramas'and 'Reality TV' also have a presence. Limited genres like 'Children & Family Movies' and 'Docuseries'.\n",
        "\n"
      ],
      "metadata": {
        "id": "ZYdMsrqVp1ck"
      }
    },
    {
      "cell_type": "markdown",
      "source": [
        "##### 3. Will the gained insights help creating a positive business impact?\n",
        "Are there any insights that lead to negative growth? Justify with specific reason."
      ],
      "metadata": {
        "id": "PVzmfK_Ep1ck"
      }
    },
    {
      "cell_type": "markdown",
      "source": [
        "It can helps to create a positive business impact by informing content strategies tailored to specific countries preferences.However, negative growth may occure if platforms neglect certain genres that are less popular in a region, potentially leading to reduced viewer engagement. Adapting to local tastes while maintaining diversity is key for success."
      ],
      "metadata": {
        "id": "druuKYZpp1ck"
      }
    },
    {
      "cell_type": "markdown",
      "source": [
        "#### Chart - 12  Popular Director in Each Genre."
      ],
      "metadata": {
        "id": "n3dbpmDWp1ck"
      }
    },
    {
      "cell_type": "code",
      "source": [
        "# Chart - 12 visualization code\n",
        "# Create an empty dictionary to store genre-director mappings.\n",
        "genre_directors = {}\n",
        "\n",
        "# Iterate through each genre.\n",
        "for _, row in df.iterrows():\n",
        "  genre_list = row['genres']\n",
        "  director = row['director']\n",
        "\n",
        "  #  Skip entries with NaN directors.\n",
        "  if pd.notna(director):\n",
        "    for genre in genre_list:\n",
        "      # Initialize the genre entry if it doesn't exist.\n",
        "      if genre not in genre_directors:\n",
        "        genre_directors[genre] = {}\n",
        "\n",
        "      #  Intitialize the director entry for the genre if it does't exist.\n",
        "      if director not in genre_directors[genre]:\n",
        "        genre_directors[genre][director] = 0\n",
        "\n",
        "      # Increment the director's count for the genre.\n",
        "      genre_directors[genre][director] += 1\n",
        "\n",
        "# Create a dataframe from the genre-director dictionary.\n",
        "result_df = pd.DataFrame([(genre,director,count) for genre, directors in genre_directors.items() for director, count in directors.items()],\n",
        "                         columns=['Genre', 'Director', 'Content Count'])\n",
        "\n",
        "# Sort the dataframe by genre and content count.\n",
        "result_df.sort_values(['Genre','Content Count'], ascending=[True, False], inplace=True)\n",
        "\n",
        "# Reset the index of the final dataframe.\n",
        "result_df.reset_index(drop=True, inplace= True)"
      ],
      "metadata": {
        "id": "bwevp1tKp1ck"
      },
      "execution_count": null,
      "outputs": []
    },
    {
      "cell_type": "code",
      "source": [
        "# Plot each genre as separate bar charts.\n",
        "genres = result_df['Genre'].unique()\n",
        "for genre in genres:\n",
        "  genre_data = result_df[result_df['Genre']== genre]\n",
        "  top_directors = genre_data.head(5)\n",
        "\n",
        "  plt.figure(figsize=(10,6))\n",
        "  plt.barh(top_directors['Director'], top_directors['Content Count'], color = 'skyblue')\n",
        "  plt.xlabel('Content Count')\n",
        "  plt.ylabel('Director')\n",
        "  plt.title(f'Top 5 Directors in {genre}')\n",
        "  plt.gca().invert_yaxis()\n",
        "  plt.show()"
      ],
      "metadata": {
        "id": "xMEbaXdi5KV2"
      },
      "execution_count": null,
      "outputs": []
    },
    {
      "cell_type": "markdown",
      "source": [
        "##### 1. Why did you pick the specific chart?"
      ],
      "metadata": {
        "id": "ylSl6qgtp1ck"
      }
    },
    {
      "cell_type": "markdown",
      "source": [
        "Horizontal bar charts work well for displaying ranked data, such as director with the most content in each genre, with the advantage of having the category names (directors) on y-axis, making it easier to read compare the data for different directors."
      ],
      "metadata": {
        "id": "m2xqNkiQp1ck"
      }
    },
    {
      "cell_type": "markdown",
      "source": [
        "##### 2. What is/are the insight(s) found from the chart?"
      ],
      "metadata": {
        "id": "ZWILFDl5p1ck"
      }
    },
    {
      "cell_type": "markdown",
      "source": [
        "**Action & Adventure:**\n",
        "\n",
        "* S.S. Rajamouli directed 7 content items.\n",
        "* Don Michael Paul directed 6 content items.\n",
        "* McG directed 5 content items.\n",
        "* Thierry Donard directed 5 content items.\n",
        "* Johnnie To directed 5 content items.\n",
        "\n",
        "**Anime Features:**\n",
        "\n",
        "* Toshiya Shinohara directed 4 content items.\n",
        "* Toshiyuki Kubooka directed 3 content items.\n",
        "* Noriyuki Abe directed 3 content items.\n",
        "* Masahiko Murata directed 3 content items.\n",
        "* Naoko Yamada directed 2 content items.\n",
        "\n",
        "**British TV Show:**\n",
        "\n",
        "* Alastair Fothergill directed 3 content items.\n",
        "* Philippa Lowthorpe directed 1 content item.\n",
        "* Ian Barber directed 1 content item.\n",
        "* Gordon Anderson directed 1 content item.\n",
        "* Dan Lucchesi directed 1 content item.\n",
        "\n",
        "**Children & Family Movies:**\n",
        "\n",
        "* Robert Rodriguez directed 7 content items.\n",
        "* Joey So directed 6 content items.\n",
        "* Steven Spielberg directed 6 content items.\n",
        "* Robert Vince directed 6 content items.\n",
        "* Prakash Satam directed 5 content items.\n",
        "\n",
        "**Classic Movies:**\n",
        "\n",
        "* Youssef Chahine directed 8 content items.\n",
        "* Martin Scorsese directed 6 content items.\n",
        "* Hrishikesh Mukherjee directed 4 content items.\n",
        "* Steven Spielberg directed 4 content items.\n",
        "* Raj Kapoor directed 3 content items.\n",
        "\n",
        "**Comedies:**\n",
        "\n",
        "* David Dhawan directed 9 content items.\n",
        "* Hakan Algul directed 8 content items.\n",
        "* Cathy Gracia-Molina directed 7 content items.\n",
        "* Wenn V.Deramas directed 6 content items.\n",
        "* Robert Vince directed 6 content items.\n",
        "\n",
        "**Cult Movies:**\n",
        "\n",
        "* Mike Clattenburg directed 3 content items.\n",
        "* Kevin Smith directed 2 content items.\n",
        "* Various directed each have 1 content items.\n",
        "\n",
        "**Documentaries:**\n",
        "\n",
        "* Vlad Yudin directed 6 content items.\n",
        "* Thierry Donard directed 5 content items.\n",
        "* Edward Cotterill directed 4 content items.\n",
        "* Hernan Zin directed 4 content items.\n",
        "* Matt Askem directed 4 content items.\n",
        "\n",
        "**Docuseries:**\n",
        "\n",
        "* Alastair Fothergill directed 3 content items.\n",
        "* Ken Burns directed 2 content items.\n",
        "* Various directors each have 1 content items.\n",
        "\n",
        "**Dramas:**\n",
        "\n",
        "* Youssef Chahine directed 12 content items.\n",
        "* Martin Scorsese directed 10 content items.\n",
        "* Cathy Gracia-Molina directed 9 content items.\n",
        "* S.S.Rajamouli directed 7 content items.\n",
        "* Kunle Afolayan directed 6 content items.\n",
        "\n",
        "\n",
        "\n",
        "\n"
      ],
      "metadata": {
        "id": "x-lUsV2mp1ck"
      }
    },
    {
      "cell_type": "markdown",
      "source": [
        "##### 3. Will the gained insights help creating a positive business impact?\n",
        "Are there any insights that lead to negative growth? Justify with specific reason."
      ],
      "metadata": {
        "id": "M7G43BXep1ck"
      }
    },
    {
      "cell_type": "markdown",
      "source": [
        "The data can certainly help create a positive business impact by informing decision-making, content curation and marketing strategies. However it's essential for streaming platforms and production companies to strik the balance between leveraging successful directors and promoting diversity and innovation. Overreliance on specific directors or genres can lead to negative growth or stagnation if not managed strategically."
      ],
      "metadata": {
        "id": "5wwDJXsLp1cl"
      }
    },
    {
      "cell_type": "markdown",
      "source": [
        "#### Chart - 13  Top 5 Actors of Some Given Countries."
      ],
      "metadata": {
        "id": "Ag9LCva-p1cl"
      }
    },
    {
      "cell_type": "code",
      "source": [
        "# Chart - 13 visualization code\n",
        "# List of Countries.\n",
        "countries = ['United States','India','United Kingdom','Canada','Japan','France','South Korea','Spain','Mexico','Australia']\n",
        "\n",
        "# Create a empty dataframe to store the top actors.\n",
        "top_actors_df = pd.DataFrame(columns=['Country','Actor','Count'])\n",
        "\n",
        "# Iterate through each country.\n",
        "for country in countries:\n",
        "  # Filter data for current country.\n",
        "  country_data = df[df['country']== country]\n",
        "\n",
        "  # Explode and count the cast member.\n",
        "  cast_data = country_data['cast'].str.split(', ')\n",
        "  cast_counts = cast_data.explode().value_counts().reset_index()\n",
        "  cast_counts.columns = ['Actor', 'Count']\n",
        "\n",
        "  # Get the top 5 actors based on the count.\n",
        "  top_actors = cast_counts.head(5)\n",
        "\n",
        "  # Add the country columns.\n",
        "  top_actors['Country'] = country\n",
        "\n",
        "  # Append to the top_actors_df.\n",
        "  top_actors_df = top_actors_df.append(top_actors)\n",
        "\n",
        "# Create a treemap.\n",
        "fig = px.treemap(top_actors_df,\n",
        "                 path= ['Country', 'Actor'],\n",
        "                 values= 'Count',\n",
        "                 title= 'Top 5 Actors in each country based on count')\n",
        "# Show the treemap.\n",
        "fig.show()"
      ],
      "metadata": {
        "id": "EUfxeq9-p1cl"
      },
      "execution_count": null,
      "outputs": []
    },
    {
      "cell_type": "markdown",
      "source": [
        "##### 1. Why did you pick the specific chart?"
      ],
      "metadata": {
        "id": "E6MkPsBcp1cl"
      }
    },
    {
      "cell_type": "markdown",
      "source": [
        "Treemaps are particularly useful when you want show the relative proportions of categories(In this case,Actors) within different hierarchies(In this case, Countries). This chart type allows you to quickly compare the important actors within each country and see if there are any common actors across different countries."
      ],
      "metadata": {
        "id": "V22bRsFWp1cl"
      }
    },
    {
      "cell_type": "markdown",
      "source": [
        "##### 2. What is/are the insight(s) found from the chart?"
      ],
      "metadata": {
        "id": "2cELzS2fp1cl"
      }
    },
    {
      "cell_type": "markdown",
      "source": [
        "\n",
        "* **Country-specific Popular Actors:**   The table highlights the actors who are particularly popular within each country's film and TV industry. For example, in india, actors like Anupam Kher and Shah Rukh Khan have a significant number of appearances, indicating their popularity in Indian entertainment.\n",
        "\n",
        "* **Regional Variations: **  Different countries have different top actors, which reflects the diversity and uniqueness of their entertainment industries.While actors like Adam Sandler and Samuel.L Jackson are popular in the United States, actor like Takahiro Sakurai and Yuki Kaji are prominent in Japan.\n",
        "\n",
        "* **Cross-Border Appeal:**  The data doesn't only showcase actors who are popular within their own country but also actors who might have international recognition.For example actors like Samuel L. Jackson and Nicolas Cage are among the top actors in United States and have international fame.\n",
        "\n",
        "\n"
      ],
      "metadata": {
        "id": "ozQPc2_Ip1cl"
      }
    },
    {
      "cell_type": "markdown",
      "source": [
        "##### 3. Will the gained insights help creating a positive business impact?\n",
        "Are there any insights that lead to negative growth? Justify with specific reason."
      ],
      "metadata": {
        "id": "3MPXvC8up1cl"
      }
    },
    {
      "cell_type": "markdown",
      "source": [
        "It can helps to create a positive business impact by aiding in targeted casting and content creation. However, if not utilized effectively, it could lead to negative growth if producer ignore reginoal actors preferences. Adapting content to local preferences is crucial for success  in international markets."
      ],
      "metadata": {
        "id": "GL8l1tdLp1cl"
      }
    },
    {
      "cell_type": "markdown",
      "source": [
        "#### Chart - 14 Relationship between Rating and Duration.\n"
      ],
      "metadata": {
        "id": "51zKIToZJyux"
      }
    },
    {
      "cell_type": "code",
      "source": [
        "# chart - 14 visualization code\n",
        "# Filter data for Movies and Tv Shows.\n",
        "movies = df[df['type']== 'Movie']\n",
        "tv_shows = df[df['type']== 'TV Show']\n",
        "\n",
        "# Convert 'Duration value' to numeric.\n",
        "movies['duration_value'] = pd.to_numeric(movies['duration_value'],errors='coerce')\n",
        "tv_shows['duration_value'] = pd.to_numeric(tv_shows['duration_value'], errors='coerce')\n",
        "\n",
        "#  Convert 'age_rating' to strings.\n",
        "movies['age_rating'] = movies['age_rating'].astype(str)\n",
        "tv_shows['age_rating'] = tv_shows['age_rating'].astype(str)\n",
        "\n",
        "\n",
        "# Create a scatter plots for Movies and TV Shows.\n",
        "plt.figure(figsize= (12,6))\n",
        "\n",
        "# Scatter plot for Movies.\n",
        "plt.subplot(1,2,1)\n",
        "plt.scatter(movies['duration_value'], movies['age_rating'], alpha=0.5)\n",
        "plt.title ('Relationship between Rating and Duration (Movies)')\n",
        "plt.xlabel('Duration (minutes)')\n",
        "plt.ylabel('Rating')\n",
        "\n",
        "# Scatter plot for TV Show.\n",
        "plt.subplot(1,2,2)\n",
        "plt.scatter(tv_shows['duration_value'], tv_shows['age_rating'], alpha=0.5)\n",
        "plt.title('Relationship between Rating and Duration (TV Shows)')\n",
        "plt.xlabel('Number of Seasons')\n",
        "plt.ylabel('Rating')\n",
        "\n",
        "# Adjust layout.\n",
        "plt.tight_layout()\n",
        "\n",
        "plt.show()\n"
      ],
      "metadata": {
        "id": "HnXywywNKOUW"
      },
      "execution_count": null,
      "outputs": []
    },
    {
      "cell_type": "markdown",
      "source": [
        "##### 1. Why did you pick the specific chart?"
      ],
      "metadata": {
        "id": "V1EUf9VTUgAm"
      }
    },
    {
      "cell_type": "markdown",
      "source": [
        "Scatter plots are suitable choice in this context because they allow for the examination of individual data points, making it possible to identify any patterns or correlations between two numerical variables(duration and rating).This chocie is effective for understanding how these variables are distributed and whether there are any discernible trends in the data."
      ],
      "metadata": {
        "id": "1V8Z5bKIUhOT"
      }
    },
    {
      "cell_type": "markdown",
      "source": [
        "##### 2. What is/are the insight(s) found from the chart?"
      ],
      "metadata": {
        "id": "hKTphIYjXISX"
      }
    },
    {
      "cell_type": "markdown",
      "source": [
        "\n",
        "* Most kids Movies are shorter lenght like below 100 mins and most kids tv-shows are between 2 to 6 seasons.\n",
        "\n",
        "* Most older kids Movies duration are between 30 min to 150 mins and older kids tv-shows are between 2 to 6 seasons.\n",
        "\n",
        "* Most young adults movies duration between 30 min to 180 mins and young adults tv shows are between 2 to 9 seasons. Few tv-shows have 14 to 16 seasons.\n",
        "\n",
        "* Teen Movies duration are between 60 min to 150 mins.\n",
        "\n",
        "* Adults Movies duration are between 30 min to 180 mins and adult tv-shows have 2 to 8 seasons.\n",
        "\n",
        "\n",
        "\n"
      ],
      "metadata": {
        "id": "Z5aF7WSbXPSt"
      }
    },
    {
      "cell_type": "markdown",
      "source": [
        "##### 3. Will the gained insights help creating a positive business impact?\n",
        "Are there any insights that lead to negative growth? Justify with specific reason."
      ],
      "metadata": {
        "id": "fv8ByiZPZRPh"
      }
    },
    {
      "cell_type": "markdown",
      "source": [
        "These charts encourage a more unanced approach to content creation and selection, allowing for a broader and more varied content library.While they may not directly translate to positive business impacts, they prevent potential negative growth by promoting diversity and flexibilty in content offerings."
      ],
      "metadata": {
        "id": "r2MBcWuJZTWj"
      }
    },
    {
      "cell_type": "markdown",
      "source": [
        "#### Chart - 15   Popularity of Top 5 Genre over the years."
      ],
      "metadata": {
        "id": "fotgH067KYAL"
      }
    },
    {
      "cell_type": "code",
      "source": [
        "# chart - 15 visualization code\n",
        "# Extract and count the top 5 genres for TV Shows.\n",
        "tv_show_genres = tv_shows['listed_in'].str.split(', ').explode()\n",
        "top_5_tv_show_genres = tv_show_genres.value_counts().head(5).index\n",
        "\n",
        "# Extract and count the top 5 genres for Movies.\n",
        "movie_genres = movies['listed_in'].str.split(', ').explode()\n",
        "top_5_movie_genres = movie_genres.value_counts().head(5).index\n",
        "\n",
        "# Create a line plot for TV Shows by genre over the years.\n",
        "plt.figure(figsize=(12,6))\n",
        "for genre in top_5_tv_show_genres:\n",
        "  genre_data = tv_shows[tv_shows['listed_in'].str.contains(genre, case=False, na=False)]\n",
        "  genre_counts = genre_data.groupby('added_year')['show_id'].count()\n",
        "  plt.plot(genre_counts.index, genre_counts.values, label=genre)\n",
        "\n",
        "plt.title('Popularity of Top 5 Tv Show Genres over the years')\n",
        "plt.xlabel('Year')\n",
        "plt.ylabel('Number of TV Shows')\n",
        "plt.legend(loc='upper left', fontsize='small')\n",
        "plt.grid(True)\n",
        "\n",
        "# Create a line plot for Movies by genre over the years.\n",
        "plt.figure(figsize=(12,6))\n",
        "for genre in top_5_movie_genres:\n",
        "  genre_data = movies[movies['listed_in'].str.contains(genre, case=False, na=False)]\n",
        "  genre_counts = genre_data.groupby('added_year')['show_id'].count()\n",
        "  plt.plot(genre_counts.index, genre_counts.values, label=genre)\n",
        "\n",
        "plt.title('Popularity of Top 5 Movies Genres over the years')\n",
        "plt.xlabel('Year')\n",
        "plt.ylabel('Number of Movies')\n",
        "plt.legend(loc='upper left', fontsize='small')\n",
        "plt.grid(True)\n",
        "\n",
        "# Show the plots.\n",
        "plt.tight_layout()\n",
        "plt.show()"
      ],
      "metadata": {
        "id": "cmnklOyXK27W"
      },
      "execution_count": null,
      "outputs": []
    },
    {
      "cell_type": "markdown",
      "source": [
        "##### 1. Why did you pick the specific chart?"
      ],
      "metadata": {
        "id": "hNxsCjwDRloP"
      }
    },
    {
      "cell_type": "markdown",
      "source": [
        "Line plots are well-suited for visualizing time-series data,such as the popularity of genre over the years as they provide a clear and informatvie representation of how different genres have performed over time."
      ],
      "metadata": {
        "id": "WK_DnRk8Rsah"
      }
    },
    {
      "cell_type": "markdown",
      "source": [
        "##### 2. What is/are the insight(s) found from the chart?"
      ],
      "metadata": {
        "id": "jWIdtwKYSflk"
      }
    },
    {
      "cell_type": "markdown",
      "source": [
        "\n",
        "* 'International Tv Shows' have shown a continuous growth in popularity since 2013, peaking in 2019 and then declining .\n",
        "\n",
        "* 'TV Dramas' also exhibit a rising trend, with fluctuations in yearly counts\n",
        "\n",
        "* 'TV Comedies' have grown in popularity, with significant increase in 2017  and 2020.\n",
        "\n",
        "* 'International Movies' have shown significant growth since 2016, with fluctuations in counts in recent years.\n",
        "\n",
        "* 'Dramas' and 'Comedies' are the most popular movie genres, with fluctuating yearly counts but generally on the rise.\n",
        "\n",
        "* 'Action & Adventure' is another popular movie genre, with a significant increase in counts from 2017 onwards.\n",
        "\n"
      ],
      "metadata": {
        "id": "v_5Zh9mLSnno"
      }
    },
    {
      "cell_type": "markdown",
      "source": [
        "##### 3. Will the gained insights help creating a positive business impact?\n",
        "Are there any insights that lead to negative growth? Justify with specific reason."
      ],
      "metadata": {
        "id": "IioNbGVYVsuX"
      }
    },
    {
      "cell_type": "markdown",
      "source": [
        "In terms of business impact, understanding genre popularity can lead to content recommendation and tailored marketing strategies, potentially driving higher user engagement and retention. The negative growth would occur if content production remains fixed in less popular genres, leading to decline in viewer interest, Therefor, adpating to changing genre preferences is crucial for positive business impact."
      ],
      "metadata": {
        "id": "wGUqvUeGVzht"
      }
    },
    {
      "cell_type": "markdown",
      "source": [
        "#### Chart - 14 - Correlation Heatmap  - Target Ages Proportion of Total Content by Major Countries."
      ],
      "metadata": {
        "id": "NC_X3p0fY2L0"
      }
    },
    {
      "cell_type": "code",
      "source": [
        "# Correlation Heatmap visualization code\n",
        "# Define the list of countries you want to analyze.\n",
        "countries = ['United States','India','United Kingdom','Canada','Japan','France','South Korea','Spain','Mexico']\n",
        "\n",
        "# Filter the data for selected countries.\n",
        "filtered_data = df[df['country'].isin(countries)]\n",
        "\n",
        "# Create a new dataframe to store the proportions of target ages by country.\n",
        "proportions_df = pd.pivot_table(filtered_data, values='show_id', index='age_rating', columns='country', aggfunc='count', fill_value=0)\n",
        "proportions_df = proportions_df.div(proportions_df.sum(axis=0), axis=1)  # Normalize by column (country)\n",
        "\n",
        "# Create the heatmap.\n",
        "plt.figure(figsize=(15,10))\n",
        "sns.heatmap(proportions_df, cmap='cividis', annot=True, fmt=\"2.0%\", linewidths=.5)\n",
        "plt.title('Target Ages Proportion of Total Content by Country')\n",
        "plt.xlabel('Country')\n",
        "plt.ylabel('Target Age')\n",
        "plt.show()"
      ],
      "metadata": {
        "id": "xyC9zolEZNRQ"
      },
      "execution_count": null,
      "outputs": []
    },
    {
      "cell_type": "markdown",
      "source": [
        "##### 1. Why did you pick the specific chart?"
      ],
      "metadata": {
        "id": "UV0SzAkaZNRQ"
      }
    },
    {
      "cell_type": "markdown",
      "source": [
        "Heatmap is a appropriate choice for conveying the relationship between countries and the distribuiton of content in different target age groups in a clear and visually informative manner."
      ],
      "metadata": {
        "id": "DVPuT8LYZNRQ"
      }
    },
    {
      "cell_type": "markdown",
      "source": [
        "##### 2. What is/are the insight(s) found from the chart?"
      ],
      "metadata": {
        "id": "YPEH6qLeZNRQ"
      }
    },
    {
      "cell_type": "markdown",
      "source": [
        "\n",
        "* The Distribution of content across target age groups differs significantly from one country to another. For example, the united states has a higher proportion of content for adults, while India and United Kingdom have a large share of content for young adults. France and Japan have a relatively balanced distribution across different age groups.\n",
        "\n",
        "* Canada, France and Spain have a higher proportion of content aimed at adults. This indictes that a siginificant portion of their cotent is intended for mature audiences.\n",
        "\n",
        "* The Proportion of Content for kids is relatively low across all countries, but its especially scarece in India and Japan.France and Canada have a slightly higher share of kid's content.\n",
        "\n",
        "* India stand out with substantial proportion content targeting young adults.it suggests that a siginificant portion of content produced in India is designed for this age group.\n",
        "\n"
      ],
      "metadata": {
        "id": "bfSqtnDqZNRR"
      }
    },
    {
      "cell_type": "markdown",
      "source": [
        "##### 3. Will the gained insights help creating a positive business impact?\n",
        "Are there any insights that lead to negative growth? Justify with specific reason."
      ],
      "metadata": {
        "id": "H0_KY1t7AQIb"
      }
    },
    {
      "cell_type": "markdown",
      "source": [
        "It can contribute to a positive business impact for streaming platforms.By tailoring content to match the preferences of specifi countries, platforms can enhance user satisfaction and engagement, potentially leading to increased subscribres and revenue. However, there are no direct insights in the data that suggest negative growth.\n",
        "\n",
        "Negative growth typically arises from factors like economic downturns, increased competitons or poor content creation. These insights primarily inform content strategy, which when effectively executed, is more likely to drive positive growth and mitigate negative impacts."
      ],
      "metadata": {
        "id": "_HH0WTXsAba2"
      }
    },
    {
      "cell_type": "markdown",
      "source": [
        "#### Chart - 15 - Pair Plot"
      ],
      "metadata": {
        "id": "q29F0dvdveiT"
      }
    },
    {
      "cell_type": "code",
      "source": [
        "# Pair Plot visualization code"
      ],
      "metadata": {
        "id": "o58-TEIhveiU"
      },
      "execution_count": null,
      "outputs": []
    },
    {
      "cell_type": "markdown",
      "source": [
        "##### 1. Why did you pick the specific chart?"
      ],
      "metadata": {
        "id": "EXh0U9oCveiU"
      }
    },
    {
      "cell_type": "markdown",
      "source": [
        "Answer Here."
      ],
      "metadata": {
        "id": "eMmPjTByveiU"
      }
    },
    {
      "cell_type": "markdown",
      "source": [
        "##### 2. What is/are the insight(s) found from the chart?"
      ],
      "metadata": {
        "id": "22aHeOlLveiV"
      }
    },
    {
      "cell_type": "markdown",
      "source": [
        "Answer Here"
      ],
      "metadata": {
        "id": "uPQ8RGwHveiV"
      }
    },
    {
      "cell_type": "markdown",
      "source": [
        "## ***5. Hypothesis Testing***"
      ],
      "metadata": {
        "id": "g-ATYxFrGrvw"
      }
    },
    {
      "cell_type": "markdown",
      "source": [
        "### Based on your chart experiments, define three hypothetical statements from the dataset. In the next three questions, perform hypothesis testing to obtain final conclusion about the statements through your code and statistical testing."
      ],
      "metadata": {
        "id": "Yfr_Vlr8HBkt"
      }
    },
    {
      "cell_type": "markdown",
      "source": [
        "Answer Here."
      ],
      "metadata": {
        "id": "-7MS06SUHkB-"
      }
    },
    {
      "cell_type": "markdown",
      "source": [
        "### Hypothetical Statement - 1"
      ],
      "metadata": {
        "id": "8yEUt7NnHlrM"
      }
    },
    {
      "cell_type": "markdown",
      "source": [
        "#### 1. State Your research hypothesis as a null hypothesis and alternate hypothesis."
      ],
      "metadata": {
        "id": "tEA2Xm5dHt1r"
      }
    },
    {
      "cell_type": "markdown",
      "source": [
        "\n",
        "* **Null Hypothesis(H0):**  The average duration of movies released in the United States is equal to the average duration of movies released in India\n",
        "\n",
        "* **Alternative Hypothesis(H1):**  The average duration of movies released in the United States in not equal to the average duration of movies released in India.\n",
        "\n"
      ],
      "metadata": {
        "id": "HI9ZP0laH0D-"
      }
    },
    {
      "cell_type": "markdown",
      "source": [
        "#### 2. Perform an appropriate statistical test."
      ],
      "metadata": {
        "id": "I79__PHVH19G"
      }
    },
    {
      "cell_type": "code",
      "source": [
        "\n",
        "from scipy import stats\n",
        "# Filter movies from the United States and India\n",
        "us_movies = df[(df['type']== 'Movie') & (df['country'] == 'United States')]\n",
        "indian_movies = df[(df['type'] == 'Movie') & (df['country'] == 'India')]\n",
        "\n",
        "# Extract duration for movies in the United States and India.\n",
        "us_movie_durations = us_movies['duration_value']\n",
        "indian_movie_durations = indian_movies['duration_value']"
      ],
      "metadata": {
        "id": "oZrfquKtyian"
      },
      "execution_count": null,
      "outputs": []
    },
    {
      "cell_type": "code",
      "source": [
        "# Perform Statistical Test to obtain P-value.\n",
        "# Perform a two-sample t-test.\n",
        "t_statistic, p_value = stats.ttest_ind(us_movie_durations, indian_movie_durations, equal_var=False)\n",
        "\n",
        "# Set Significance level.\n",
        "alpha = 0.05\n",
        "\n",
        "# Check if the p-value is less than alpha.\n",
        "if p_value < alpha:\n",
        "  print(\"Reject the Null Hypothesis: The average duration of US and India Movies are significantly different.\")\n",
        "else :\n",
        "   print(\"Fail to Reject the Null Hypothesis: There is no significant difference in average duratios.\")"
      ],
      "metadata": {
        "id": "G2e3UJ0mIMyo"
      },
      "execution_count": null,
      "outputs": []
    },
    {
      "cell_type": "markdown",
      "source": [
        "##### Which statistical test have you done to obtain P-Value?"
      ],
      "metadata": {
        "id": "Ou-I18pAyIpj"
      }
    },
    {
      "cell_type": "markdown",
      "source": [
        "We have performed a two-sample t-test to compare the average duration of movies in the United States and India."
      ],
      "metadata": {
        "id": "s2U0kk00ygSB"
      }
    },
    {
      "cell_type": "markdown",
      "source": [
        "##### Why did you choose the specific statistical test?"
      ],
      "metadata": {
        "id": "fF3858GYyt-u"
      }
    },
    {
      "cell_type": "markdown",
      "source": [
        "The specific statistical test chosen is the two-sample t-test. it is ideal for comparing the average movie duration in two group(United States and India), where movie durations are continuous data.The test assumes independence between the samples and allows for the consideration of unequal variances.By comparing the obtained p-value to a significance level (alpha), its determined whether there's statistically significant difference between the two group's average movie durations. This test was chosen for its applicability to this scenario and its ability to provide insights into whether the average movie durations in two countries differ significantly."
      ],
      "metadata": {
        "id": "HO4K0gP5y3B4"
      }
    },
    {
      "cell_type": "markdown",
      "source": [
        "### Hypothetical Statement - 2"
      ],
      "metadata": {
        "id": "4_0_7-oCpUZd"
      }
    },
    {
      "cell_type": "markdown",
      "source": [
        "#### 1. State Your research hypothesis as a null hypothesis and alternate hypothesis."
      ],
      "metadata": {
        "id": "hwyV_J3ipUZe"
      }
    },
    {
      "cell_type": "markdown",
      "source": [
        "\n",
        "* **Null Hypothesis(H0):**  There is no significant difference in the popularity of TV Shows and Movies added to Netfilx from 2014 onwards.\n",
        "\n",
        "* **Alternative Hypothesis(H1):** There is significant difference in the popularity of TV Show and Movies added to Netflix from 2014.\n",
        "\n"
      ],
      "metadata": {
        "id": "FnpLGJ-4pUZe"
      }
    },
    {
      "cell_type": "markdown",
      "source": [
        "#### 2. Perform an appropriate statistical test."
      ],
      "metadata": {
        "id": "3yB-zSqbpUZe"
      }
    },
    {
      "cell_type": "code",
      "source": [
        "# Perform Statistical Test to obtain P-Value\n",
        "from scipy.stats import chi2_contingency\n",
        "\n",
        "# Filter data for years greater than 2014 (inclusive)\n",
        "filtered_data = df[(df['release_year'] >= 2014)]\n",
        "\n",
        "# Create a New column 'content_type' to differentiate TV shows and Movies.\n",
        "filtered_data['content_type'] = filtered_data['type'].apply(lambda x: 'TV Show' if x =='TV Show' else 'Movie')\n",
        "\n",
        "# Create a contingency table for the chi-squared test.\n",
        "contingency_table = pd.crosstab(filtered_data['release_year'], filtered_data['content_type'])\n",
        "\n",
        "# Perform the chi-squared test.\n",
        "chi2,p, _, _ = chi2_contingency(contingency_table)\n",
        "\n",
        "# Set the significance level (alpha)\n",
        "alpha = 0.5\n",
        "\n",
        "# Determine if the p-value is less than alpha.\n",
        "if p < alpha :\n",
        "   print(\"Reject the null hypothesis: TV Show are more popular than movies.\")\n",
        "else :\n",
        "    print(\"Fail to Reject the null hypothesis: Popularity of TV Show and Movies is not significantly different.\")\n"
      ],
      "metadata": {
        "id": "sWxdNTXNpUZe"
      },
      "execution_count": null,
      "outputs": []
    },
    {
      "cell_type": "markdown",
      "source": [
        "##### Which statistical test have you done to obtain P-Value?"
      ],
      "metadata": {
        "id": "dEUvejAfpUZe"
      }
    },
    {
      "cell_type": "markdown",
      "source": [
        "The Statistical test used to obtain the  p-value in the code is the chi-squared test for independence."
      ],
      "metadata": {
        "id": "oLDrPz7HpUZf"
      }
    },
    {
      "cell_type": "markdown",
      "source": [
        "##### Why did you choose the specific statistical test?"
      ],
      "metadata": {
        "id": "Fd15vwWVpUZf"
      }
    },
    {
      "cell_type": "markdown",
      "source": [
        "The Specific statistical test, chi-squared test for independence, was chosen because it is appropriate for examining the relationship between two categorical variable. In this case, we are testing whether there is a significant association between the release year and type of content (TV Show or Movies) added to Netflix, making\n",
        "\n",
        "\n"
      ],
      "metadata": {
        "id": "4xOGYyiBpUZf"
      }
    },
    {
      "cell_type": "markdown",
      "source": [
        "### Hypothetical Statement - 3"
      ],
      "metadata": {
        "id": "bn_IUdTipZyH"
      }
    },
    {
      "cell_type": "markdown",
      "source": [
        "#### 1. State Your research hypothesis as a null hypothesis and alternate hypothesis."
      ],
      "metadata": {
        "id": "49K5P_iCpZyH"
      }
    },
    {
      "cell_type": "markdown",
      "source": [
        "\n",
        "* **Null Hypothesis(H0):** The month of addition(October, December, January) is independent of the type of content added (Movie Or TV Shows).\n",
        "\n",
        "* **Alternative Hypothesis(H1):** The month of addition is not independent of the type of content added.\n",
        "\n"
      ],
      "metadata": {
        "id": "7gWI5rT9pZyH"
      }
    },
    {
      "cell_type": "markdown",
      "source": [
        "#### 2. Perform an appropriate statistical test."
      ],
      "metadata": {
        "id": "Nff-vKELpZyI"
      }
    },
    {
      "cell_type": "code",
      "source": [
        "# Perform Statistical Test to obtain P-Value\n",
        "# Filter the Dataframe to include only rows from October, December, January.\n",
        "months_of_interest = [10, 12, 1]\n",
        "filtered_df = df[df['added_month'].isin(months_of_interest)]\n",
        "\n",
        "# Create a contingency table(cross-tabulation) of 'added_month' VS 'type'.\n",
        "contingency_table = pd.crosstab(filtered_df['added_month'], filtered_data['type'])\n",
        "\n",
        "# Perform chi-squared test.\n",
        "chi2, p, _, _ = chi2_contingency(contingency_table)\n",
        "\n",
        "# Set significance level.\n",
        "alpha = 0.05\n",
        "\n",
        "# Print result.\n",
        "print(f\"Chi-squared statistic: {chi2}\")\n",
        "print(f\"P-value: {p}\")\n",
        "\n",
        "# Determine if the null hypothesis should be rejected.\n",
        "if p < alpha:\n",
        "  print(\"Reject the Null Hypothesis\")\n",
        "  print(\"The Month of addition is not independent of the type of content added.\")\n",
        "else :\n",
        "  print(\"Fail to Reject the Null Hypothesis\")\n",
        "  print(\"There is no significant difference in the number of movies and Tv Shows added in these months.\")"
      ],
      "metadata": {
        "id": "s6AnJQjtpZyI"
      },
      "execution_count": null,
      "outputs": []
    },
    {
      "cell_type": "markdown",
      "source": [
        "##### Which statistical test have you done to obtain P-Value?"
      ],
      "metadata": {
        "id": "kLW572S8pZyI"
      }
    },
    {
      "cell_type": "markdown",
      "source": [
        "The Statistical test used to obtain the p-value in this code is the chi-squared test for independence (chi-squared test of independence)."
      ],
      "metadata": {
        "id": "ytWJ8v15pZyI"
      }
    },
    {
      "cell_type": "markdown",
      "source": [
        "##### Why did you choose the specific statistical test?"
      ],
      "metadata": {
        "id": "dWbDXHzopZyI"
      }
    },
    {
      "cell_type": "markdown",
      "source": [
        "The Specific statistical test used in the code is the chi-squared test of independence.it's selected to asses the relationship between categorical variables, namely the 'added_month'and 'type'(movies and tv shows) of the content added. Chi-squared test for independence, making it suitable for this purpose."
      ],
      "metadata": {
        "id": "M99G98V6pZyI"
      }
    },
    {
      "cell_type": "markdown",
      "source": [
        "## ***6. Feature Engineering & Data Pre-processing***"
      ],
      "metadata": {
        "id": "yLjJCtPM0KBk"
      }
    },
    {
      "cell_type": "markdown",
      "source": [
        "### 1. Handling Missing Values"
      ],
      "metadata": {
        "id": "xiyOF9F70UgQ"
      }
    },
    {
      "cell_type": "code",
      "source": [
        "# check if there are any missing values.\n",
        "round(df.isna().sum()/len(df)*100,2)\n"
      ],
      "metadata": {
        "id": "iRsAHk1K0fpS"
      },
      "execution_count": null,
      "outputs": []
    },
    {
      "cell_type": "markdown",
      "source": [
        "The percentage of missing value varies for different columns, with director having the highest percentage of missing values at approximately 30.58% while other columns have relatively lower percentages of missing data. its crucial to address missing data appropriately when conducting data analysis or modeling."
      ],
      "metadata": {
        "id": "si048nxUA60a"
      }
    },
    {
      "cell_type": "code",
      "source": [
        "# Handling Missing Values & Missing Value Imputation\n",
        "df[['director', 'cast']] = df[['director', 'cast']].fillna('Unknown')\n",
        "\n",
        "# Now drop all the remain null values.\n",
        "df.dropna(axis=0, inplace=True)"
      ],
      "metadata": {
        "id": "LLfb8dIaCb0F"
      },
      "execution_count": null,
      "outputs": []
    },
    {
      "cell_type": "code",
      "source": [
        "# Check again if there is any null values.\n",
        "df.isna().sum()"
      ],
      "metadata": {
        "id": "G-xo5yI2Dmtw"
      },
      "execution_count": null,
      "outputs": []
    },
    {
      "cell_type": "markdown",
      "source": [
        "#### What all missing value imputation techniques have you used and why did you use those techniques?"
      ],
      "metadata": {
        "id": "7wuGOrhz0itI"
      }
    },
    {
      "cell_type": "markdown",
      "source": [
        "The code employs multiple missing value imputation techniques.it fills missing 'director'and 'cast' value with Unknown, providing a placeholder for absent information. For the country columns, the mode(most frequent) value is used for imputation, a common strategy for categorical data. This choice maintain data distribution.Furthermore, any remaining row with missing values are removed from the dataset to ensure data completeness. These techniques are selected based on the data's nature and aim to address missing values while preserving the dataset's integrity, facilitating downstream analysis and modeling."
      ],
      "metadata": {
        "id": "1ixusLtI0pqI"
      }
    },
    {
      "cell_type": "markdown",
      "source": [
        "### 2. Handling Outliers"
      ],
      "metadata": {
        "id": "id1riN9m0vUs"
      }
    },
    {
      "cell_type": "code",
      "source": [
        "# Handling Outliers & Outlier treatments\n",
        "# Plotting graph.\n",
        "fig,ax = plt.subplots(1,2, figsize=(15,5))\n",
        "\n",
        "# Display boxplot and dist plot.\n",
        "sns.distplot(x=df['release_year'], ax=ax[0])\n",
        "sns.boxplot(data=df, x='release_year', ax=ax[1])"
      ],
      "metadata": {
        "id": "M6w2CzZf04JK"
      },
      "execution_count": null,
      "outputs": []
    },
    {
      "cell_type": "markdown",
      "source": [
        "##### What all outlier treatment techniques have you used and why did you use those techniques?"
      ],
      "metadata": {
        "id": "578E2V7j08f6"
      }
    },
    {
      "cell_type": "markdown",
      "source": [
        "There are significant outliers in the data. But we dont want to remove or treat them as they are important and irreplaceble."
      ],
      "metadata": {
        "id": "uGZz5OrT1HH-"
      }
    },
    {
      "cell_type": "markdown",
      "source": [
        "### 3. Categorical Encoding"
      ],
      "metadata": {
        "id": "89xtkJwZ18nB"
      }
    },
    {
      "cell_type": "code",
      "source": [
        "# Encode your categorical columns"
      ],
      "metadata": {
        "id": "21JmIYMG2hEo"
      },
      "execution_count": null,
      "outputs": []
    },
    {
      "cell_type": "markdown",
      "source": [
        "#### What all categorical encoding techniques have you used & why did you use those techniques?"
      ],
      "metadata": {
        "id": "67NQN5KX2AMe"
      }
    },
    {
      "cell_type": "markdown",
      "source": [
        "There is no need for categorical data encoding."
      ],
      "metadata": {
        "id": "UDaue5h32n_G"
      }
    },
    {
      "cell_type": "markdown",
      "source": [
        "### 4. Textual Data Preprocessing\n",
        "(It's mandatory for textual dataset i.e., NLP, Sentiment Analysis, Text Clustering etc.)"
      ],
      "metadata": {
        "id": "Iwf50b-R2tYG"
      }
    },
    {
      "cell_type": "markdown",
      "source": [
        "#### what is textual data preprocessig."
      ],
      "metadata": {
        "id": "LYFXsGRJJc5d"
      }
    },
    {
      "cell_type": "markdown",
      "source": [
        "Textual data preprocessing is the process of preparing text data for analysis or modeling.it includes a series of steps that are applied to raw text data in order to clean, organize and standardize it so it can be easily analyzed or used as input for natural language processing or machine learning models. The preprocessing step typically include tokenization, stop-word removal stemming or lemmatization,lowercasing, removing punctuation and removing numbers. the gole of textual data preprocessing is to prepare the data for further analysis and modeling by removing irrelevant information and standardizing the format of the text.This can help to improve accuracy and effectiveness of the analysis of modeling."
      ],
      "metadata": {
        "id": "CXyFdprDJlD_"
      }
    },
    {
      "cell_type": "markdown",
      "source": [
        "#### Modeling Approach."
      ],
      "metadata": {
        "id": "jHOw2QRFMeXV"
      }
    },
    {
      "cell_type": "markdown",
      "source": [
        "\n",
        "* Selecting Attributes - Choose the attributes that you want to cluster.\n",
        "\n",
        "* Text Preprocessing - Change all textual data to lower case and eliminate all punctuation marks and stopwords.Removing commonly occurring word such as \"the\",\"and\",\"a\" etc.that dont carry much meaning.\n",
        "\n",
        "* Stemming or lemmatization - Normalizing the words by reducing them to their base form.\n",
        "\n",
        "* Tokenization - Breaking the text into smaller unit such as sentences or words.\n",
        "\n",
        "* Dimensionality reduction.\n",
        "\n",
        "* Make use of various algorithms to cluster the movies and various techniques to determine the optimal number of clusters.\n",
        "\n",
        "* Build the optimal number of clusters and use wordclouds to display the content of each cluster.\n",
        "\n",
        "\n",
        "\n"
      ],
      "metadata": {
        "id": "GBFn8N_0Mk-T"
      }
    },
    {
      "cell_type": "markdown",
      "source": [
        "#### Selecting Attributes."
      ],
      "metadata": {
        "id": "qLTmCWERPJZk"
      }
    },
    {
      "cell_type": "code",
      "source": [
        "# Showing the first 3 rows\n",
        "df.head(3)"
      ],
      "metadata": {
        "id": "HZg6Ug5ZPQ1B"
      },
      "execution_count": null,
      "outputs": []
    },
    {
      "cell_type": "markdown",
      "source": [
        "We will cluster the Netflix movies and TV Shows into groups based on the following textual characteristics.\n",
        "\n",
        "* Director\n",
        "\n",
        "* Cast\n",
        "\n",
        "* Country\n",
        "\n",
        "* Rating\n",
        "\n",
        "* Listed in(genres)Description\n",
        "\n",
        "\n"
      ],
      "metadata": {
        "id": "fwCl2vMwPmfF"
      }
    },
    {
      "cell_type": "code",
      "source": [
        "# Creating tag column using all text column which one is used for model building purpose.\n",
        "df['text_data'] = df['director'].astype(str) + df['cast'].astype(str) + df['country'].astype(str) + df['rating'].astype(str) + df['listed_in'].astype(str) + df['description'].astype(str)"
      ],
      "metadata": {
        "id": "E5gTZveLQc2i"
      },
      "execution_count": null,
      "outputs": []
    },
    {
      "cell_type": "code",
      "source": [
        "# View one sample of text data\n",
        "df['text_data'][0]"
      ],
      "metadata": {
        "id": "QVIul_zzR_rm"
      },
      "execution_count": null,
      "outputs": []
    },
    {
      "cell_type": "markdown",
      "source": [
        "#### 1. Expand Contraction"
      ],
      "metadata": {
        "id": "GMQiZwjn3iu7"
      }
    },
    {
      "cell_type": "code",
      "source": [
        "# Expand Contraction\n",
        "# Install the 'contractions' library using pip\n",
        "!pip install contractions"
      ],
      "metadata": {
        "id": "PTouz10C3oNN"
      },
      "execution_count": null,
      "outputs": []
    },
    {
      "cell_type": "code",
      "source": [
        "import contractions\n",
        "\n",
        "# Function to expand contractions in a text.\n",
        "def expand_contractions(text):\n",
        "  try:\n",
        "      return contractions.fix(text)\n",
        "  except Exception as e:\n",
        "        #  Handle the exception, e.g print the error massage or return the original text.\n",
        "        print(f\"Error: {e}\")\n",
        "        return text\n",
        "\n",
        "# Apply the function to the text_data column\n",
        "df['text_data'] = df['text_data'].apply(lambda x: expand_contractions(x) if isinstance(x, str) else x)"
      ],
      "metadata": {
        "id": "yo3qUzAYTCfR"
      },
      "execution_count": null,
      "outputs": []
    },
    {
      "cell_type": "markdown",
      "source": [
        "#### 2. Lower Casing"
      ],
      "metadata": {
        "id": "WVIkgGqN3qsr"
      }
    },
    {
      "cell_type": "code",
      "source": [
        "# Lower Casing\n",
        "df['text_data'] = df['text_data'].str.lower()"
      ],
      "metadata": {
        "id": "88JnJ1jN3w7j"
      },
      "execution_count": null,
      "outputs": []
    },
    {
      "cell_type": "markdown",
      "source": [
        "#### 3. Removing Punctuations"
      ],
      "metadata": {
        "id": "XkPnILGE3zoT"
      }
    },
    {
      "cell_type": "code",
      "source": [
        "# Remove Punctuations\n",
        "import string\n",
        "\n",
        "# Define a function to remove the punctuations.\n",
        "def remove_punctuation(text):\n",
        "    translator = str.maketrans('','', string.punctuation)\n",
        "    return text.translate(translator)\n",
        "\n",
        "#  Apply the function to the 'text_data' column.\n",
        "df['text_data'] = df['text_data'].apply(lambda x: remove_punctuation(x) if isinstance(x, str) else x)"
      ],
      "metadata": {
        "id": "vqbBqNaA33c0"
      },
      "execution_count": null,
      "outputs": []
    },
    {
      "cell_type": "markdown",
      "source": [
        "#### 4. Removing URLs & Removing words and digits contain digits."
      ],
      "metadata": {
        "id": "Hlsf0x5436Go"
      }
    },
    {
      "cell_type": "code",
      "source": [
        "# Remove URLs & Remove words and digits contain digits\n",
        "# Define a function to remove the URL.\n",
        "def remove_urls(text):\n",
        "  # Remove url using regular expression.\n",
        "  return re.sub(r'http\\S+|www\\S+|https\\S+', '', text)\n",
        "\n",
        "# Define a funtion to remove words/digits containing digits\n",
        "def remove_words_with_digits(text):\n",
        "  # Remove words and digits containing digits using a regulat expression\n",
        "  return re.sub(r'\\w*\\d\\w*', '', text)\n",
        "\n",
        "# Apply the function to the 'text_data' column.\n",
        "df['text_data'] = df['text_data'].apply(lambda x: remove_urls(x) if isinstance(x, str) else x)\n",
        "df['text_data'] = df['text_data'].apply(lambda x: remove_words_with_digits(x) if isinstance(x, str) else x)"
      ],
      "metadata": {
        "id": "2sxKgKxu4Ip3"
      },
      "execution_count": null,
      "outputs": []
    },
    {
      "cell_type": "markdown",
      "source": [
        "#### 5. Removing Stopwords & Removing White spaces"
      ],
      "metadata": {
        "id": "mT9DMSJo4nBL"
      }
    },
    {
      "cell_type": "code",
      "source": [
        "import nltk\n",
        "nltk.download('stopwords')"
      ],
      "metadata": {
        "id": "8iA9C_43mpAq"
      },
      "execution_count": null,
      "outputs": []
    },
    {
      "cell_type": "code",
      "source": [
        "# Remove Stopwords\n",
        "from nltk.corpus import stopwords\n",
        "\n",
        "# Define a function to remove stopwords.\n",
        "def remove_stopwords(text):\n",
        "  stop_words = set(stopwords.words('english'))\n",
        "  tokens = text.split()\n",
        "  filtered_tokens = [word for word in tokens if word.lower() not in stop_words]\n",
        "  return ' '.join(filtered_tokens)\n",
        "\n",
        "# Apply the function to the 'text_data' column.\n",
        "df['text_data'] = df['text_data'].apply(lambda x: remove_stopwords(x) if isinstance(x, str) else x)"
      ],
      "metadata": {
        "id": "T2LSJh154s8W"
      },
      "execution_count": null,
      "outputs": []
    },
    {
      "cell_type": "code",
      "source": [
        "# Remove White spaces\n",
        "# Remove White spaces from the 'text_data' column\n",
        "df['text_data'] = df['text_data'].str.replace(r'\\s+', ' ', regex=True)"
      ],
      "metadata": {
        "id": "EgLJGffy4vm0"
      },
      "execution_count": null,
      "outputs": []
    },
    {
      "cell_type": "markdown",
      "source": [
        "#### 6. Rephrase Text"
      ],
      "metadata": {
        "id": "c49ITxTc407N"
      }
    },
    {
      "cell_type": "code",
      "source": [
        "# Rephrase Text"
      ],
      "metadata": {
        "id": "foqY80Qu48N2"
      },
      "execution_count": null,
      "outputs": []
    },
    {
      "cell_type": "markdown",
      "source": [
        "#### 7. Tokenization"
      ],
      "metadata": {
        "id": "OeJFEK0N496M"
      }
    },
    {
      "cell_type": "code",
      "source": [
        "# Tokenization\n",
        "# Download the NLTK tokenizor data\n",
        "nltk.download('punkt')\n",
        "from nltk.tokenize import word_tokenize\n",
        "\n",
        "# Assuming 'text_data'is the name of the column containing text data.\n",
        "df['text_data'] = df['text_data'].apply(word_tokenize)"
      ],
      "metadata": {
        "id": "ijx1rUOS5CUU"
      },
      "execution_count": null,
      "outputs": []
    },
    {
      "cell_type": "markdown",
      "source": [
        "#### 8. Text Normalization"
      ],
      "metadata": {
        "id": "9ExmJH0g5HBk"
      }
    },
    {
      "cell_type": "code",
      "source": [
        "# Normalizing Text (i.e., Stemming, Lemmatization etc.)\n",
        "from nltk.stem import SnowballStemmer\n",
        "\n",
        "# Initialize the snowballstemmer with the appropriate language.\n",
        "stemmer = SnowballStemmer(\"english\")\n",
        "\n",
        "# Apply stemming to the 'text_data' column\n",
        "df['text_data'] = df['text_data'].apply(lambda tokens: [stemmer.stem(token) for token in tokens])"
      ],
      "metadata": {
        "id": "AIJ1a-Zc5PY8"
      },
      "execution_count": null,
      "outputs": []
    },
    {
      "cell_type": "markdown",
      "source": [
        "##### Which text normalization technique have you used and why?"
      ],
      "metadata": {
        "id": "cJNqERVU536h"
      }
    },
    {
      "cell_type": "markdown",
      "source": [
        "We used stemming to normalize the text data. Stemming reduces words to their root or base form.Which can help to improve text processing, such as text classification or information retrieval. its simpler technique compared to lemmatization and often suitable for applications where speed and simplicity are important.However, it may not preserve the meaning as effectively as lemmatization, which is more advanced technique that reduces words to their dictionary form, considering the context and part of speech. The choice between stemming and lemmatization depends on the specific requirements of the NLP task, and for some tasks, stemming may be sufficient."
      ],
      "metadata": {
        "id": "Z9jKVxE06BC1"
      }
    },
    {
      "cell_type": "markdown",
      "source": [
        "#### 9. Part of speech tagging"
      ],
      "metadata": {
        "id": "k5UmGsbsOxih"
      }
    },
    {
      "cell_type": "code",
      "source": [
        "# POS Taging"
      ],
      "metadata": {
        "id": "btT3ZJBAO6Ik"
      },
      "execution_count": null,
      "outputs": []
    },
    {
      "cell_type": "markdown",
      "source": [
        "#### 10. Text Vectorization"
      ],
      "metadata": {
        "id": "T0VqWOYE6DLQ"
      }
    },
    {
      "cell_type": "code",
      "source": [
        "# Vectorizing Text\n",
        "from sklearn.feature_extraction.text import TfidfVectorizer\n",
        "\n",
        "# Create the object of tfid vectorizer.\n",
        "tfidf = TfidfVectorizer(stop_words='english', lowercase=False, max_features=10000) # max feature= 10000 to prevent system from crashing.\n",
        "\n",
        "# Convert text data into string\n",
        "df['text_data'] = df['text_data'].astype(str)\n",
        "# Fit the text data using the text data\n",
        "tfidf.fit(df['text_data'])\n",
        "\n",
        "# Collect the vocabulary items used in the vectorizer\n",
        "dictionary = tfidf.vocabulary_.items()"
      ],
      "metadata": {
        "id": "yBRtdhth6JDE"
      },
      "execution_count": null,
      "outputs": []
    },
    {
      "cell_type": "code",
      "source": [
        "print(len(dictionary)) # Number of independet features created from 'text_data' columns.\n"
      ],
      "metadata": {
        "id": "0ml_5-QS2iGY"
      },
      "execution_count": null,
      "outputs": []
    },
    {
      "cell_type": "code",
      "source": [
        "# Convert vector into array form for clustering.\n",
        "vector = tfidf.transform(df['text_data']).toarray()\n",
        "\n",
        "# summarize encoded vector\n",
        "print(vector)\n",
        "print(f'shape of vector: {vector.shape}')\n",
        "print(f'datatype: {type(vector)}')"
      ],
      "metadata": {
        "id": "prlFPAbe24P_"
      },
      "execution_count": null,
      "outputs": []
    },
    {
      "cell_type": "markdown",
      "source": [
        "##### Which text vectorization technique have you used and why?"
      ],
      "metadata": {
        "id": "qBMux9mC6MCf"
      }
    },
    {
      "cell_type": "markdown",
      "source": [
        "We employed the TF-IDf (Term Frequency-Inverse Document Frequency)text vectorization technique.TF-IDF is chosen for its multifaceted advantages.it evaluates term importance by considering a word's frequency in a document relative to its occurrence in the entire corpus, thus highlighting unique words. It normalizes term frequencies, making it suitable for document of varying lengths.Additionally, TF-IDF enables the removal of common stop words, which often clutter text analysis.Furthermore it offers flexibility by allowing control over the maximum number of included features, which is crucial when dealing with extensive text datasets."
      ],
      "metadata": {
        "id": "su2EnbCh6UKQ"
      }
    },
    {
      "cell_type": "markdown",
      "source": [
        "### 4. Feature Manipulation & Selection"
      ],
      "metadata": {
        "id": "-oLEiFgy-5Pf"
      }
    },
    {
      "cell_type": "markdown",
      "source": [
        "#### 1. Feature Manipulation"
      ],
      "metadata": {
        "id": "C74aWNz2AliB"
      }
    },
    {
      "cell_type": "code",
      "source": [
        "# Manipulate Features to minimize feature correlation and create new features"
      ],
      "metadata": {
        "id": "h1qC4yhBApWC"
      },
      "execution_count": null,
      "outputs": []
    },
    {
      "cell_type": "markdown",
      "source": [
        "#### 2. Feature Selection"
      ],
      "metadata": {
        "id": "2DejudWSA-a0"
      }
    },
    {
      "cell_type": "code",
      "source": [
        "# Select your features wisely to avoid overfitting"
      ],
      "metadata": {
        "id": "YLhe8UmaBCEE"
      },
      "execution_count": null,
      "outputs": []
    },
    {
      "cell_type": "markdown",
      "source": [
        "##### What all feature selection methods have you used  and why?"
      ],
      "metadata": {
        "id": "pEMng2IbBLp7"
      }
    },
    {
      "cell_type": "markdown",
      "source": [
        "We have not used any feature selection as there was no need for the project according to us."
      ],
      "metadata": {
        "id": "rb2Lh6Z8BgGs"
      }
    },
    {
      "cell_type": "markdown",
      "source": [
        "##### Which all features you found important and why?"
      ],
      "metadata": {
        "id": "rAdphbQ9Bhjc"
      }
    },
    {
      "cell_type": "markdown",
      "source": [
        "Answer Here."
      ],
      "metadata": {
        "id": "fGgaEstsBnaf"
      }
    },
    {
      "cell_type": "markdown",
      "source": [
        "### 5. Data Transformation"
      ],
      "metadata": {
        "id": "TNVZ9zx19K6k"
      }
    },
    {
      "cell_type": "markdown",
      "source": [
        "#### Do you think that your data needs to be transformed? If yes, which transformation have you used. Explain Why?"
      ],
      "metadata": {
        "id": "nqoHp30x9hH9"
      }
    },
    {
      "cell_type": "markdown",
      "source": [
        "No, There is no needs to data transformation."
      ],
      "metadata": {
        "id": "dQxjlVkK60K3"
      }
    },
    {
      "cell_type": "code",
      "source": [
        "# Transform Your data"
      ],
      "metadata": {
        "id": "I6quWQ1T9rtH"
      },
      "execution_count": null,
      "outputs": []
    },
    {
      "cell_type": "markdown",
      "source": [
        "### 6. Data Scaling"
      ],
      "metadata": {
        "id": "rMDnDkt2B6du"
      }
    },
    {
      "cell_type": "code",
      "source": [
        "# Scaling your data"
      ],
      "metadata": {
        "id": "dL9LWpySC6x_"
      },
      "execution_count": null,
      "outputs": []
    },
    {
      "cell_type": "markdown",
      "source": [
        "##### Which method have you used to scale you data and why?"
      ],
      "metadata": {
        "id": "yiiVWRdJDDil"
      }
    },
    {
      "cell_type": "markdown",
      "source": [
        "There is no need for data scaling ."
      ],
      "metadata": {
        "id": "h7oAdjWz7FG0"
      }
    },
    {
      "cell_type": "markdown",
      "source": [
        "### 7. Dimesionality Reduction"
      ],
      "metadata": {
        "id": "1UUpS68QDMuG"
      }
    },
    {
      "cell_type": "markdown",
      "source": [
        "##### Do you think that dimensionality reduction is needed? Explain Why?"
      ],
      "metadata": {
        "id": "kexQrXU-DjzY"
      }
    },
    {
      "cell_type": "markdown",
      "source": [
        "Yes,dimesionality reduction is needed.Dimesionality Reduction considered to achieve several benefits:\n",
        "\n",
        "* Computational Efficiency = High-dimensional data can be computationally expensive.Reducing dimensions can speed up subsequent analysis.\n",
        "\n",
        "*  Visualization = Lower-dimensional data is easier to visualize, which can be helpful for understanding and presenting the data.\n",
        "\n",
        "* Noise Reduction = Dimesionlity reduction can filter out noise or less informative features, focusing on the most relevant ones.\n",
        "\n",
        "\n"
      ],
      "metadata": {
        "id": "GGRlBsSGDtTQ"
      }
    },
    {
      "cell_type": "code",
      "source": [
        "# DImensionality Reduction (If needed)\n",
        "from sklearn.decomposition import PCA\n",
        "# Using PCA to reduce dimensionality.\n",
        "pca = PCA(random_state=42)\n",
        "pca.fit(vector)"
      ],
      "metadata": {
        "id": "kQfvxBBHDvCa"
      },
      "execution_count": null,
      "outputs": []
    },
    {
      "cell_type": "code",
      "source": [
        "# Explain the variance for different number of components.\n",
        "plt.figure(figsize=(10,5))\n",
        "plt.plot(np.cumsum(pca.explained_variance_ratio_))\n",
        "plt.title('PCA- Cumulative explained variance VS Number of components')\n",
        "plt.xlabel('Number of Components')\n",
        "plt.ylabel('Cumulative explained Variance')\n",
        "plt.axhline(y= 0.8, color='red', linestyle='--')\n",
        "plt.axvline(x= 3000, color='green', linestyle='--')\n",
        "plt.show()"
      ],
      "metadata": {
        "id": "LZ9ga0bNlckA"
      },
      "execution_count": null,
      "outputs": []
    },
    {
      "cell_type": "markdown",
      "source": [
        "\n",
        "* We discover that approximately 6500 components account for 100 percent of the variance.\n",
        "\n",
        "*  3000 components alone account for more than 80% of the variance.\n",
        "\n",
        "* Therefor, we can take the top 3000 components to reduce the dimensionality and simplify the model while still being able to capture more than 80% of of the variance.\n",
        "\n",
        "\n"
      ],
      "metadata": {
        "id": "AQQuqZ1onnwX"
      }
    },
    {
      "cell_type": "code",
      "source": [
        "# Reducing the dimension to 3000 using PCA\n",
        "pca = PCA(n_components=3000, random_state=42)\n",
        "pca.fit(vector)"
      ],
      "metadata": {
        "id": "mLFqAPcXp5Z3"
      },
      "execution_count": null,
      "outputs": []
    },
    {
      "cell_type": "code",
      "source": [
        "# Transformed features\n",
        "X = pca.transform(vector)\n",
        "\n",
        "# Shape of transformed vectors\n",
        "X.shape"
      ],
      "metadata": {
        "id": "TbivVVKJrSU2"
      },
      "execution_count": null,
      "outputs": []
    },
    {
      "cell_type": "markdown",
      "source": [
        "##### Which dimensionality reduction technique have you used and why? (If dimensionality reduction done on dataset.)"
      ],
      "metadata": {
        "id": "T5CmagL3EC8N"
      }
    },
    {
      "cell_type": "markdown",
      "source": [
        "The Code provided mentions the use of Principal Component Analysis(PCA) for dimensionality reduction. PCA is a widely used technique for reducing the dimensionality of data while retaining as much variance as possible.\n",
        "\n",
        "The choice of PCA is often driven by its ability to capture the most significant component or direction of variance in the data, making it particularly useful for the text data with a high number of features.Reducing dimensionality can help improve the efficiency of subsequent machine learning algorithms and reduce the risk of overfitting."
      ],
      "metadata": {
        "id": "ZKr75IDuEM7t"
      }
    },
    {
      "cell_type": "markdown",
      "source": [
        "### 8. Data Splitting"
      ],
      "metadata": {
        "id": "BhH2vgX9EjGr"
      }
    },
    {
      "cell_type": "code",
      "source": [
        "# Split your data to train and test. Choose Splitting ratio wisely."
      ],
      "metadata": {
        "id": "0CTyd2UwEyNM"
      },
      "execution_count": null,
      "outputs": []
    },
    {
      "cell_type": "markdown",
      "source": [
        "##### What data splitting ratio have you used and why?"
      ],
      "metadata": {
        "id": "qjKvONjwE8ra"
      }
    },
    {
      "cell_type": "markdown",
      "source": [
        "There is no need for data splitting for this project."
      ],
      "metadata": {
        "id": "Y2lJ8cobFDb_"
      }
    },
    {
      "cell_type": "markdown",
      "source": [
        "### 9. Handling Imbalanced Dataset"
      ],
      "metadata": {
        "id": "P1XJ9OREExlT"
      }
    },
    {
      "cell_type": "markdown",
      "source": [
        "##### Do you think the dataset is imbalanced? Explain Why."
      ],
      "metadata": {
        "id": "VFOzZv6IFROw"
      }
    },
    {
      "cell_type": "markdown",
      "source": [
        "Answer Here."
      ],
      "metadata": {
        "id": "GeKDIv7pFgcC"
      }
    },
    {
      "cell_type": "code",
      "source": [
        "# Handling Imbalanced Dataset (If needed)"
      ],
      "metadata": {
        "id": "nQsRhhZLFiDs"
      },
      "execution_count": null,
      "outputs": []
    },
    {
      "cell_type": "markdown",
      "source": [
        "##### What technique did you use to handle the imbalance dataset and why? (If needed to be balanced)"
      ],
      "metadata": {
        "id": "TIqpNgepFxVj"
      }
    },
    {
      "cell_type": "markdown",
      "source": [
        "Answer Here."
      ],
      "metadata": {
        "id": "qbet1HwdGDTz"
      }
    },
    {
      "cell_type": "markdown",
      "source": [
        "## ***7. ML Model Implementation***"
      ],
      "metadata": {
        "id": "VfCC591jGiD4"
      }
    },
    {
      "cell_type": "markdown",
      "source": [
        "### ML Model - 1  K-Means Clustering."
      ],
      "metadata": {
        "id": "OB4l2ZhMeS1U"
      }
    },
    {
      "cell_type": "code",
      "source": [
        "from sklearn.cluster import KMeans\n",
        "\n",
        "# Create a list to store the WCSS values for different K\n",
        "wcss = []\n",
        "\n",
        "# Try different values of K (e.g., from 1 to 10)\n",
        "for i in range(1, 11):\n",
        "  kmeans = KMeans(n_clusters=i, init='k-means++', max_iter=300, n_init=10, random_state=0)\n",
        "  kmeans.fit(X)  # X is our data.\n",
        "  wcss.append(kmeans.inertia_)  # Inertia is the WCSS value.\n",
        "\n",
        "# Plot the WCSS Values.\n",
        "plt.figure(figsize=(8, 6))\n",
        "plt.plot(range(1, 11), wcss, marker='o', linestyle='--')\n",
        "plt.title('Elbow Method')\n",
        "plt.xlabel('Number of Clusters (K)')\n",
        "plt.ylabel('WCSS')\n",
        "plt.grid()\n",
        "plt.show()"
      ],
      "metadata": {
        "id": "7ebyywQieS1U"
      },
      "execution_count": null,
      "outputs": []
    },
    {
      "cell_type": "markdown",
      "source": [
        "We have narrowed down the range of possible number of clusters to be between 4 to 7, as the slop of elbow plot is steep at this range.To determine the optimal number of clusters, We will check the silhouette scores for each value in this range and choose the one with the highest score."
      ],
      "metadata": {
        "id": "1iVhjKcFz3Qc"
      }
    },
    {
      "cell_type": "code",
      "source": [
        "from sklearn.metrics import silhouette_score\n",
        "\n",
        "# Create a list to store silhouette socres.\n",
        "silhouette_scores= []\n",
        "\n",
        "# Try different values for K (e.g, from 2 to 10)\n",
        "for k in range(2, 11):\n",
        "  kmeans = KMeans(n_clusters=k, init='k-means++', max_iter=300, n_init=10, random_state=0)\n",
        "  kmeans.fit(X)  # X is our data.\n",
        "  labels = kmeans.labels_\n",
        "  silhouette_avg = silhouette_score(X, labels)\n",
        "  silhouette_scores.append(silhouette_avg)\n",
        "\n",
        "# Plot the silhouette scores.\n",
        "plt.figure(figsize=(8, 6))\n",
        "plt.plot(range(2, 11), silhouette_scores, marker='o', linestyle='--')\n",
        "plt.title('Silhouette Score Method')\n",
        "plt.xlabel('Number of Clusters (k)')\n",
        "plt.ylabel('Silhouette Score')\n",
        "plt.grid()\n",
        "plt.show()"
      ],
      "metadata": {
        "id": "oZeL6ZXc05X-"
      },
      "execution_count": null,
      "outputs": []
    },
    {
      "cell_type": "markdown",
      "source": [
        "\n",
        "* The Highest score is obtained for 6 cluster.\n",
        "\n",
        "* Building 6 clusters using the k-means clustering algorithm.\n",
        "\n"
      ],
      "metadata": {
        "id": "88Ps8p392GIP"
      }
    },
    {
      "cell_type": "code",
      "source": [
        "from numpy.ma.extras import unique\n",
        "# ML - Model - 1 Implementation\n",
        "#  Create KMeans instance with k=6\n",
        "kmeans = KMeans(n_clusters=6, init='k-means++', max_iter=300, n_init=10, random_state=0)\n",
        "\n",
        "# Fit the KMeans model to your data.\n",
        "kmeans.fit(X)  # X is our data.\n",
        "\n",
        "y_kmeans = kmeans.predict(X)   # Predict on the model.\n",
        "labels = kmeans.labels_    # Get the cluster labels for each point in the data.\n",
        "unique_labels = np.unique(labels)   # Get the unique cluster labels.\n"
      ],
      "metadata": {
        "id": "Xg4qUhET3JaI"
      },
      "execution_count": null,
      "outputs": []
    },
    {
      "cell_type": "code",
      "source": [
        "# Evaluation metrics - distortion, silhouette score.\n",
        "kmeans_distortion = kmeans.inertia_\n",
        "kmeans_silhouette_score = silhouette_score(X, kmeans.labels_)\n",
        "\n",
        "print((kmeans_distortion, kmeans_silhouette_score))"
      ],
      "metadata": {
        "id": "OcMM2W_m5Cgv"
      },
      "execution_count": null,
      "outputs": []
    },
    {
      "cell_type": "code",
      "source": [
        "# Get cluster labels for each data points.\n",
        "cluster_labels = kmeans.labels_\n",
        "\n",
        "# Add the cluster labels to your dataframe if needed.\n",
        "df['k_cluster_label'] = cluster_labels"
      ],
      "metadata": {
        "id": "DxdG7Ekl7G-8"
      },
      "execution_count": null,
      "outputs": []
    },
    {
      "cell_type": "code",
      "source": [
        "# Add the cluster labels to your dataframe if needed.\n",
        "df['k_cluster_label'] = labels"
      ],
      "metadata": {
        "id": "0yQixcvo7xMC"
      },
      "execution_count": null,
      "outputs": []
    },
    {
      "cell_type": "markdown",
      "source": [
        "#### 1. Explain the ML Model used and it's performance using Evaluation metric Score Chart."
      ],
      "metadata": {
        "id": "ArJBuiUVfxKd"
      }
    },
    {
      "cell_type": "code",
      "source": [
        "from tabulate import tabulate\n",
        "from sklearn.metrics import calinski_harabasz_score, davies_bouldin_score\n",
        "\n",
        "def evaluate_clustering_model(model, X, y_predict):\n",
        "  \"\"\"\n",
        "  Evaluate a clustering model and print the result\n",
        "  & Returns\n",
        "  Model evaluation result.\n",
        "  \"\"\"\n",
        "  # Calculate the number of clusters and evaluation metrics.\n",
        "  n_clusters = len(set(y_predict))\n",
        "  S_score = silhouette_score(X, y_predict)\n",
        "  CH_score = calinski_harabasz_score(X, y_predict)\n",
        "  DB_score = davies_bouldin_score(X, y_predict)\n",
        "\n",
        "  # Create a dictionary to store the evaluation score.\n",
        "  scores_dict = {\"silhouette_score\": S_score,\n",
        "                 \"calinski_harabasz_score\": CH_score,\n",
        "                 \"davies_bouldin_score\": DB_score}\n",
        "\n",
        "  # Create a dataframe to display the evalution results.\n",
        "  df_eval = pd.DataFrame({\"Evaluation Metric\": [\"Silhoutte Score\",\n",
        "                                                \"Calinski-Harabasz Score\",\n",
        "                                                \"Davies-Bouldin Score\"],\n",
        "                          \"Score\": [S_score, CH_score, DB_score]})\n",
        "  # Print the dataframe\n",
        "  print(tabulate(df_eval, headers=\"keys\", tablefmt=\"grid\"))\n",
        "  # Return the evaluation results\n",
        "  return {\"n_clusters\": n_clusters,\n",
        "          \"silhouette_score\": S_score,\n",
        "          \"calinski_harabasz_score\": CH_score,\n",
        "          \"davies_bouldin_score\": DB_score}"
      ],
      "metadata": {
        "id": "fDKs-YQ68p8r"
      },
      "execution_count": null,
      "outputs": []
    },
    {
      "cell_type": "code",
      "source": [
        "def plot_clustering_scores(scores_dict):\n",
        "  \"\"\"\n",
        "  plot the clustering evaluation scores using a bar chart\n",
        "  \"\"\"\n",
        "  # Extract the scores from the dictionary.\n",
        "  scores = [scores_dict[\"silhouette_score\"], scores_dict[\"calinski_harabasz_score\"], scores_dict[ \"davies_bouldin_score\"]]\n",
        "  labels = [\"Silhoutte Score\", \"Calinski-Harabasz Score\", \"Davies-Bouldin Score\"]\n",
        "\n",
        "  # Plot the score as a bar chart\n",
        "  fig, ax = plt.subplots()\n",
        "  ax.bar(labels, scores, color=[\"tab:blue\", \"tab:orange\", \"tab:green\"])\n",
        "\n",
        "  # Add labels and titles.\n",
        "  ax.set_xlabel(\"Evaluation Metric\")\n",
        "  ax.set_ylabel(\"Score\")\n",
        "  ax.set_title(\"Clustering Evaluation Scores\")\n",
        "  ax.set_ylim([np.min(scores) - 0.1, np.max(scores) + 0.1])\n",
        "  plt.show()"
      ],
      "metadata": {
        "id": "NYjeku7fBlij"
      },
      "execution_count": null,
      "outputs": []
    },
    {
      "cell_type": "code",
      "source": [
        "scores_dict_kmeans = evaluate_clustering_model(kmeans, X, y_kmeans)"
      ],
      "metadata": {
        "id": "B9HUM4_0Enqo"
      },
      "execution_count": null,
      "outputs": []
    },
    {
      "cell_type": "code",
      "source": [
        "# Visualizing evaluation Metric Score chart\n",
        "plot_clustering_scores(scores_dict_kmeans)"
      ],
      "metadata": {
        "id": "rqD5ZohzfxKe"
      },
      "execution_count": null,
      "outputs": []
    },
    {
      "cell_type": "code",
      "source": [
        "# Sample view of the cluster label to the rows of dataframe.\n",
        "df.sample(5)[['type','title','director','cast','country','rating','listed_in','description','k_cluster_label']]"
      ],
      "metadata": {
        "id": "Z6INL47Rjj-1"
      },
      "execution_count": null,
      "outputs": []
    },
    {
      "cell_type": "markdown",
      "source": [
        "## Distribution of Movies and TV-Shows in each cluster label."
      ],
      "metadata": {
        "id": "1v9-2zP7kiVu"
      }
    },
    {
      "cell_type": "code",
      "source": [
        "# Group the data by cluster label and content type(Movies/ TV Shows) and count the occurrences.\n",
        "cluster_counts = df.groupby(['k_cluster_label','type']).size().unstack(fill_value=0)\n",
        "\n",
        "# Define the number of clusters and the width of each bar.\n",
        "num_clusters = len(cluster_counts)\n",
        "bar_width = 0.35\n",
        "index = np.arange(num_clusters)\n",
        "\n",
        "# Creat a figure and axis\n",
        "fig, ax = plt.subplots(figsize=(10, 6))\n",
        "\n",
        "# Plot the counts for movies and TV Shows in each cluster.\n",
        "bar1 = ax.bar(index - bar_width/2, cluster_counts['Movie'], bar_width, label='Movies')\n",
        "bar2 = ax.bar(index + bar_width/2, cluster_counts['TV Show'], bar_width, label='TV Show')\n",
        "\n",
        "# Add labels, title and legend.\n",
        "ax.set_xlabel('Cluster')\n",
        "ax.set_ylabel('Count')\n",
        "ax.set_title('Number of Movies and TV Shows in each cluster')\n",
        "ax.set_xticks(index)\n",
        "ax.set_xticklabels(cluster_counts.index)\n",
        "ax.legend()\n",
        "\n",
        "# Add count values on top of the bars.\n",
        "def add_count_labels(bars):\n",
        "  for bar in bars:\n",
        "    height = bar.get_height()\n",
        "    ax.annotate(f'{int(height)}',\n",
        "                xy=(bar.get_x() + bar.get_width() / 2, height),\n",
        "                xytext=(0, 3),  # 3 points vertical offset\n",
        "                textcoords=\"offset points\",\n",
        "                ha='center', va='bottom')\n",
        "\n",
        "add_count_labels(bar1)\n",
        "add_count_labels(bar2)\n",
        "\n",
        "plt.show()"
      ],
      "metadata": {
        "id": "BvwMWGEIkvbJ"
      },
      "execution_count": null,
      "outputs": []
    },
    {
      "cell_type": "code",
      "source": [
        "from wordcloud import STOPWORDS\n",
        "def kmeans_worldcloud(cluster_number, column_name):\n",
        "\n",
        "  '''function for building a wordcloud for the movie/tv shows'''\n",
        "\n",
        "  df_wordcloud = df[['k_cluster_label',column_name]].dropna()\n",
        "  df_wordcloud = df_wordcloud[df_wordcloud['k_cluster_label']== cluster_number]\n",
        "\n",
        "  # text documents.\n",
        "  text = \" \".join(word for word in df_wordcloud[column_name])\n",
        "\n",
        "  # Creat the wordcloud.\n",
        "  wordcloud = WordCloud(stopwords=set(STOPWORDS), background_color = \"white\").generate(text)\n",
        "\n",
        "  # Generate a word cloud image.\n",
        "  plt.imshow(wordcloud, interpolation='bilinear')\n",
        "  plt.axis(\"off\")\n",
        "  plt.show()"
      ],
      "metadata": {
        "id": "3ePzWP2vp8ct"
      },
      "execution_count": null,
      "outputs": []
    },
    {
      "cell_type": "markdown",
      "source": [
        "**Word Cloud on \"description\" Column for different cluster.**"
      ],
      "metadata": {
        "id": "sznwvPuJuHYd"
      }
    },
    {
      "cell_type": "code",
      "source": [
        "for i in range(6):\n",
        "  print(f'cluster{i}')\n",
        "  kmeans_worldcloud(i,'description')"
      ],
      "metadata": {
        "id": "WjKx2ca3ueLW"
      },
      "execution_count": null,
      "outputs": []
    },
    {
      "cell_type": "markdown",
      "source": [
        "Word cloud on \"cast\" column for different cluster."
      ],
      "metadata": {
        "id": "Ywvh3DhayLMa"
      }
    },
    {
      "cell_type": "code",
      "source": [
        "for i in range(6):\n",
        "  print(f'cluster {i}')\n",
        "  kmeans_worldcloud(i, 'cast')"
      ],
      "metadata": {
        "id": "ogD2YKi1zYA8"
      },
      "execution_count": null,
      "outputs": []
    },
    {
      "cell_type": "markdown",
      "source": [
        "**Word Cloud on \"director\" column for different cluster**"
      ],
      "metadata": {
        "id": "JrY-GRZ91f_g"
      }
    },
    {
      "cell_type": "code",
      "source": [
        "for i in range(6):\n",
        "  print(f'cluster {i}')\n",
        "  kmeans_worldcloud(i, 'director')"
      ],
      "metadata": {
        "id": "YdgqR__A1qDh"
      },
      "execution_count": null,
      "outputs": []
    },
    {
      "cell_type": "markdown",
      "source": [
        "**Word Cloud on 'listed_in'(genre) column for different cluster**"
      ],
      "metadata": {
        "id": "-fVR3Y8q2B03"
      }
    },
    {
      "cell_type": "code",
      "source": [
        "for i in range(6):\n",
        "  print(f'cluster {i}')\n",
        "  kmeans_worldcloud(i, 'listed_in')"
      ],
      "metadata": {
        "id": "DPV8ruPT2REN"
      },
      "execution_count": null,
      "outputs": []
    },
    {
      "cell_type": "markdown",
      "source": [
        "**Word Cloud on 'Country' column for different cluster**"
      ],
      "metadata": {
        "id": "hwZ_nFab3TEx"
      }
    },
    {
      "cell_type": "code",
      "source": [
        "for i in range(6):\n",
        "  print(f'cluster {i}')\n",
        "  kmeans_worldcloud(i,'country')"
      ],
      "metadata": {
        "id": "eR_Tackg3eOe"
      },
      "execution_count": null,
      "outputs": []
    },
    {
      "cell_type": "markdown",
      "source": [
        "**Word Cloud on 'title' column for different cluster**"
      ],
      "metadata": {
        "id": "ubLCHVDx3w_0"
      }
    },
    {
      "cell_type": "code",
      "source": [
        "for i in range(6):\n",
        "  print(f'cluster {i}')\n",
        "  kmeans_worldcloud(i, 'title')"
      ],
      "metadata": {
        "id": "LBR12Q7r34z0"
      },
      "execution_count": null,
      "outputs": []
    },
    {
      "cell_type": "markdown",
      "source": [
        "**Better Visualisation with bokeh**"
      ],
      "metadata": {
        "id": "Kv0uLJYu4P7D"
      }
    },
    {
      "cell_type": "code",
      "source": [
        "!pip install bokeh"
      ],
      "metadata": {
        "id": "d0ZUkzjH4h0t"
      },
      "execution_count": null,
      "outputs": []
    },
    {
      "cell_type": "code",
      "source": [
        "from sklearn.manifold import TSNE\n",
        "\n",
        "x_emb = TSNE(n_components=2).fit_transform(X)\n",
        "\n",
        "x_emb.shape"
      ],
      "metadata": {
        "id": "D_aNX9Im4sKf"
      },
      "execution_count": null,
      "outputs": []
    },
    {
      "cell_type": "code",
      "source": [
        "from bokeh.models import ColumnDataSource, HoverTool, LinearColorMapper, CustomJS\n",
        "from bokeh.palettes import Category20\n",
        "from bokeh.transform import linear_cmap\n",
        "from bokeh.io import output_file, show\n",
        "from bokeh.transform import transform\n",
        "from bokeh.io import output_notebook\n",
        "from bokeh.plotting import figure\n",
        "from bokeh.layouts import column\n",
        "from bokeh.models import RadioButtonGroup\n",
        "from bokeh.models import TextInput\n",
        "from bokeh.layouts import gridplot\n",
        "from bokeh.models import Div\n",
        "from bokeh.models import Paragraph\n",
        "\n",
        "output_notebook()\n",
        "y_labels = df['k_cluster_label']\n",
        "\n",
        "# Data sources\n",
        "source = ColumnDataSource(data=dict(x= x_emb[:,0],\n",
        "                                    y= x_emb[:,1],\n",
        "                                    x_backup = x_emb[:,0],\n",
        "                                    y_backup = x_emb[:,1],\n",
        "                                    desc= y_labels,\n",
        "                                    titles= df['title'],\n",
        "                                    directors= df['director'],\n",
        "                                    cast= df['cast'],\n",
        "                                    description= df['description'],\n",
        "                                    listed_in= df['listed_in'],\n",
        "                                    rating= df['rating'],\n",
        "                                    country= df['country'],\n",
        "                                    labels= [\"C\" + str(x) for x in y_labels]))\n",
        "\n",
        "# Create some widgets.\n",
        "radio_button_group = RadioButtonGroup(labels=[\"Option 1\", \"Option 2\", \"Option 3\"])\n",
        "text_input = TextInput(value=\"Initial text\")\n",
        "\n",
        "# Create a layout for widgets.\n",
        "widget_layout = column(radio_button_group, text_input)"
      ],
      "metadata": {
        "id": "mg7Ivjtx6dia"
      },
      "execution_count": null,
      "outputs": []
    },
    {
      "cell_type": "code",
      "source": [
        "from bokeh.models.ui import tooltips\n",
        "from bokeh.models import ColumnDataSource, HoverTool, LinearColorMapper, CustomJS\n",
        "from bokeh.palettes import Category20\n",
        "from bokeh.transform import linear_cmap\n",
        "from bokeh.io import output_file, show\n",
        "from bokeh.transform import transform\n",
        "from bokeh.io import output_notebook\n",
        "from bokeh.plotting import figure\n",
        "from bokeh.layouts import column\n",
        "from bokeh.models import RadioButtonGroup\n",
        "from bokeh.models import TextInput\n",
        "from bokeh.layouts import gridplot\n",
        "from bokeh.models import Div\n",
        "from bokeh.models import Paragraph\n",
        "\n",
        "output_notebook()\n",
        "\n",
        "# Replace 'labels' with the actual labels you want to use\n",
        "y_labels = df['k_cluster_label']\n",
        "\n",
        "# Data sources.\n",
        "source= ColumnDataSource(data=dict(x= x_emb[:,0],\n",
        "                                   y= x_emb[:,1],\n",
        "                                   x_backup = x_emb[:,0],\n",
        "                                   y_backup = x_emb[:,1],\n",
        "                                   desc= y_labels,\n",
        "                                   titles= df['title'],\n",
        "                                   directors= df['director'],\n",
        "                                   cast= df['cast'],\n",
        "                                   description= df['description'],\n",
        "                                   listed_in= df['listed_in'],\n",
        "                                   rating= df['rating'],\n",
        "                                   country= df['country'],\n",
        "                                   labels= [\"C-\" + str(x) for x in y_labels]))\n",
        "\n",
        "# Hover over information.\n",
        "hover = HoverTool(tooltips=[(\"Title\",\"@titles\"),\n",
        "                            (\"Director(s)\", \"@directors\"),\n",
        "                            (\"Cast\", \"@cast\"),\n",
        "                            (\"Description\", \"@description\"),\n",
        "                            (\"listed_in\", \"@listed_in\"),\n",
        "                            (\"rating\", \"@rating\"),\n",
        "                            (\"country\", \"@country\")],\n",
        "                  point_policy= \"follow_mouse\")\n",
        "\n",
        "# map colors.\n",
        "mapper = linear_cmap(field_name='desc',\n",
        "                     palette= Category20[20],\n",
        "                     low= min(y_labels), high= max(y_labels))\n",
        "\n",
        "# Prepare the figure.\n",
        "p = figure(width=800, height= 800,\n",
        "           tools=[hover, 'pan', 'wheel_zoom', 'box_zoom', 'reset'],\n",
        "           title= \"Netflix Movies and TV Shows\",\n",
        "           toolbar_location= \"right\")\n",
        "\n",
        "# Plot.\n",
        "p.scatter('x', 'y', size=5,\n",
        "          source= source,\n",
        "          fill_color= mapper,\n",
        "          line_alpha= 0.3,\n",
        "          line_color= \"black\",\n",
        "          legend_field= 'labels')\n",
        "\n",
        "# Option\n",
        "option = RadioButtonGroup(labels=[\"C-0\",\"C-1\",\"C-2\",\n",
        "                                  \"C-3\",\"C-4\",\"C-5\"],\n",
        "                          active=6)\n",
        "\n",
        "# Search box\n",
        "# keyword = TextInput(title=\"Search:\", callback=keyword_callback)\n",
        "\n",
        "# header\n",
        "header = Div(text=\"\"\"<h1>Find similar movies / tv shows in corresponding Cluster</h1>\"\"\")\n",
        "\n",
        "# Show\n",
        "show(column(header,p))\n"
      ],
      "metadata": {
        "id": "aE1570d-00MM"
      },
      "execution_count": null,
      "outputs": []
    },
    {
      "cell_type": "markdown",
      "source": [
        "#### 2. Cross- Validation & Hyperparameter Tuning"
      ],
      "metadata": {
        "id": "4qY1EAkEfxKe"
      }
    },
    {
      "cell_type": "code",
      "source": [
        "# ML Model - 1 Implementation with hyperparameter optimization techniques (i.e., GridSearch CV, RandomSearch CV, Bayesian Optimization etc.)\n",
        "\n",
        "# Fit the Algorithm\n",
        "\n",
        "# Predict on the model"
      ],
      "metadata": {
        "id": "Dy61ujd6fxKe"
      },
      "execution_count": null,
      "outputs": []
    },
    {
      "cell_type": "markdown",
      "source": [
        "##### Which hyperparameter optimization technique have you used and why?"
      ],
      "metadata": {
        "id": "PiV4Ypx8fxKe"
      }
    },
    {
      "cell_type": "markdown",
      "source": [
        "Answer Here."
      ],
      "metadata": {
        "id": "negyGRa7fxKf"
      }
    },
    {
      "cell_type": "markdown",
      "source": [
        "##### Have you seen any improvement? Note down the improvement with updates Evaluation metric Score Chart."
      ],
      "metadata": {
        "id": "TfvqoZmBfxKf"
      }
    },
    {
      "cell_type": "markdown",
      "source": [
        "Answer Here."
      ],
      "metadata": {
        "id": "OaLui8CcfxKf"
      }
    },
    {
      "cell_type": "markdown",
      "source": [
        "### ML Model - 2  Hierarchical Clustering."
      ],
      "metadata": {
        "id": "dJ2tPlVmpsJ0"
      }
    },
    {
      "cell_type": "code",
      "source": [
        "import scipy.cluster.hierarchy as sch\n",
        "\n",
        "# Building a dendogram to decide the number of clusters.\n",
        "plt.figure(figsize=(15,12))\n",
        "dend = sch.dendrogram(sch.linkage(X, method='ward'))\n",
        "plt.title('Dendrogram')\n",
        "plt.xlabel('Netflix Shows')\n",
        "plt.ylabel('Distance')\n",
        "plt.axhline(y= 4, color='r', linestyle='--')"
      ],
      "metadata": {
        "id": "VqbZ_2WYpiEX"
      },
      "execution_count": null,
      "outputs": []
    },
    {
      "cell_type": "markdown",
      "source": [
        "We can see that Horizontal line cutting 4 branches. So we will choose number of clusters as 5."
      ],
      "metadata": {
        "id": "-T0-D6jl1hyE"
      }
    },
    {
      "cell_type": "code",
      "source": [
        "# Fitting hierarchical clustering model.\n",
        "from sklearn.cluster import AgglomerativeClustering\n",
        "hierarchical = AgglomerativeClustering(n_clusters= 5, affinity= 'euclidean', linkage='ward')\n",
        "y_hierarchical = hierarchical.fit_predict(X)\n",
        "hierarchical_labels = hierarchical.labels_   # Get the cluster labels for each point in the data.\n",
        "unique_labels_h = np.unique(hierarchical_labels)  # Get the Unique cluster labels.\n",
        "silhouette_avg = silhouette_score(X, hierarchical_labels)   # Calculate the silhouette score.\n",
        "print(\"The average silhouette score is :\", silhouette_avg)"
      ],
      "metadata": {
        "id": "uyTyaYkG2Gh0"
      },
      "execution_count": null,
      "outputs": []
    },
    {
      "cell_type": "code",
      "source": [
        "df['hierarchical_cluster'] = hierarchical_labels"
      ],
      "metadata": {
        "id": "07EikSpm64KX"
      },
      "execution_count": null,
      "outputs": []
    },
    {
      "cell_type": "markdown",
      "source": [
        "#### 1. Explain the ML Model used and it's performance using Evaluation metric Score Chart."
      ],
      "metadata": {
        "id": "oaK46lU17OQn"
      }
    },
    {
      "cell_type": "code",
      "source": [
        "# Visualizing evaluation Metric Score chart\n",
        "scores_dict_hierarchical = evaluate_clustering_model(hierarchical, X, y_hierarchical)"
      ],
      "metadata": {
        "id": "yEl-hgQWpsJ1"
      },
      "execution_count": null,
      "outputs": []
    },
    {
      "cell_type": "code",
      "source": [
        "plot_clustering_scores(scores_dict_hierarchical)"
      ],
      "metadata": {
        "id": "rp8o9AYX8Kzn"
      },
      "execution_count": null,
      "outputs": []
    },
    {
      "cell_type": "code",
      "source": [
        "# Observe the cluster label of dataframe rows.\n",
        "df.sample(5)[['type','title','director','cast','country','rating','listed_in','description','hierarchical_cluster']]"
      ],
      "metadata": {
        "id": "sYu_lsw48iVX"
      },
      "execution_count": null,
      "outputs": []
    },
    {
      "cell_type": "markdown",
      "source": [
        "#### Count of movies and tv-shows to each cluster labels."
      ],
      "metadata": {
        "id": "NGeNWp299u7q"
      }
    },
    {
      "cell_type": "code",
      "source": [
        "# Group the data by cluster label and content type(Movies/Tv shows) and the count the occurrences.\n",
        "cluster_counts = df.groupby(['hierarchical_cluster', 'type']).size().unstack(fill_value=0)\n",
        "\n",
        "# Define the number of clusters and the width of each bar\n",
        "num_clusters = len(cluster_counts)\n",
        "bar_width = 0.35\n",
        "index = np.arange(num_clusters)\n",
        "\n",
        "# Create a figure and axis.\n",
        "fig, ax = plt.subplots(figsize=(10, 6))\n",
        "\n",
        "# Plot the counts for movies and tv shows in each cluster\n",
        "bar1 = ax.bar(index - bar_width/2, cluster_counts['Movie'], bar_width, label = 'Movies')\n",
        "bar2 = ax.bar(index + bar_width/2, cluster_counts['TV Show'], bar_width, label= 'TV Show')\n",
        "\n",
        "# Add labels, titles and legend\n",
        "ax.set_xlabel('Cluster')\n",
        "ax.set_ylabel('Count')\n",
        "ax.set_title('Number of Movies and TV Shows in each cluster')\n",
        "ax.set_xticks(index)\n",
        "ax.set_xticklabels(cluster_counts.index)\n",
        "ax.legend()\n",
        "\n",
        "add_count_labels(bar1)\n",
        "add_count_labels(bar2)\n",
        "\n",
        "plt.show()"
      ],
      "metadata": {
        "id": "2YnYJkCh97hq"
      },
      "execution_count": null,
      "outputs": []
    },
    {
      "cell_type": "code",
      "source": [
        "def hierarchical_worldcloud(cluster_number, column_name):\n",
        "\n",
        "  '''function for building a wordcloud for the Movies/Tv shows'''\n",
        "\n",
        "  df_wordcloud = df[['hierarchical_cluster',column_name]].dropna()\n",
        "  df_wordcloud = df_wordcloud[df_wordcloud['hierarchical_cluster']== cluster_number]\n",
        "\n",
        "  # text documents.\n",
        "  text = \" \".join(word for word in df_wordcloud[column_name])\n",
        "\n",
        "  # Creat the word cloud.\n",
        "  wordcloud = WordCloud(stopwords=set(STOPWORDS), background_color= \"white\").generate(text)\n",
        "\n",
        "  # Generate a wordcloud image.\n",
        "  plt.imshow(wordcloud, interpolation='bilinear')\n",
        "  plt.axis(\"off\")\n",
        "  plt.show()"
      ],
      "metadata": {
        "id": "HlvRWuD5B1AV"
      },
      "execution_count": null,
      "outputs": []
    },
    {
      "cell_type": "markdown",
      "source": [
        "**Word cloud on \"title\" column for different cluster.**"
      ],
      "metadata": {
        "id": "ewhcnnkiEWXb"
      }
    },
    {
      "cell_type": "code",
      "source": [
        "for i in range(5):\n",
        "  print(f'cluster {i}')\n",
        "  hierarchical_worldcloud(i, 'title')"
      ],
      "metadata": {
        "id": "0VGwSi0HElhD"
      },
      "execution_count": null,
      "outputs": []
    },
    {
      "cell_type": "markdown",
      "source": [
        "**Word cloud on \"description\" column for different cluster.**"
      ],
      "metadata": {
        "id": "uWbzngxJFALJ"
      }
    },
    {
      "cell_type": "code",
      "source": [
        "for i in range(5):\n",
        "  print(f'cluster {i}')\n",
        "  hierarchical_worldcloud(i, 'description')"
      ],
      "metadata": {
        "id": "XIIueU0sFNMT"
      },
      "execution_count": null,
      "outputs": []
    },
    {
      "cell_type": "markdown",
      "source": [
        "**Word cloud on \"cast\" column for different cluster.**"
      ],
      "metadata": {
        "id": "bJE0PL56FlBZ"
      }
    },
    {
      "cell_type": "code",
      "source": [
        "for i in range(5):\n",
        "  print(f'cluster {i}')\n",
        "  hierarchical_worldcloud(i, 'cast')"
      ],
      "metadata": {
        "id": "Gb7RfJqPFxaU"
      },
      "execution_count": null,
      "outputs": []
    },
    {
      "cell_type": "markdown",
      "source": [
        "**word cloud on \"country\" column for different cluster.**"
      ],
      "metadata": {
        "id": "NZbrK88-GBCr"
      }
    },
    {
      "cell_type": "code",
      "source": [
        "for i in range(5):\n",
        "  print(f'cluster {i}')\n",
        "  hierarchical_worldcloud(i, 'country')"
      ],
      "metadata": {
        "id": "n7f-JzMBGOvs"
      },
      "execution_count": null,
      "outputs": []
    },
    {
      "cell_type": "markdown",
      "source": [
        "**word cloud on \"listed_in(genre)\" column for different cluster.**"
      ],
      "metadata": {
        "id": "urkthNrUGc_T"
      }
    },
    {
      "cell_type": "code",
      "source": [
        "for i in range(5):\n",
        "  print(f'cluster {i}')\n",
        "  hierarchical_worldcloud(i, 'listed_in')"
      ],
      "metadata": {
        "id": "BWo3YvVsGuTK"
      },
      "execution_count": null,
      "outputs": []
    },
    {
      "cell_type": "code",
      "source": [
        "output_notebook()\n",
        "\n",
        "# Replace 'labels' with the actual labels you want to use.\n",
        "y_labels = df['hierarchical_cluster']\n",
        "\n",
        "# Data sources.\n",
        "source = ColumnDataSource(data=dict(x= x_emb[:,0],\n",
        "                                    y= x_emb[:,1],\n",
        "                                    x_backup = x_emb[:,0],\n",
        "                                    y_backup = x_emb[:,1],\n",
        "                                    desc = y_labels,\n",
        "                                    titles = df['title'],\n",
        "                                    directors =df['director'],\n",
        "                                    cast = df['cast'],\n",
        "                                    description = df['description'],\n",
        "                                    listed_in = df['listed_in'],\n",
        "                                    rating = df['rating'],\n",
        "                                    country = df['country'],\n",
        "                                    labels = [\"C-\" + str(x) for x in y_labels]))\n",
        "\n",
        "# hover over information.\n",
        "hover = HoverTool(tooltips=[(\"Title\", \"@titles\"),\n",
        "                            (\"Director(s)\", \"@directors\"),\n",
        "                            (\"Cast\", \"@cast\"),\n",
        "                            (\"Description\", \"@description\"),\n",
        "                            (\"listed_in\", \"@listed_in\"),\n",
        "                            (\"rating\", \"@rating\"),\n",
        "                            (\"country\", \"@country\")],\n",
        "                  point_policy = \"follow_mouse\")\n",
        "\n",
        "# map colors.\n",
        "mapper = linear_cmap(field_name='desc',\n",
        "                     palette=Category20[20],\n",
        "                     low=min(y_labels), high=max(y_labels))\n",
        "\n",
        "# Prepare the figure\n",
        "p= figure(width=800, height=800,\n",
        "          tools=[hover, 'pan', 'wheel_zoom', 'box_zoom', 'reset'],\n",
        "          title = \"Netflix Movies and Tv shows\",\n",
        "          toolbar_location = \"right\")\n",
        "\n",
        "# Plot.\n",
        "p.scatter('x','y', size=5,\n",
        "          source = source,\n",
        "          fill_color = mapper,\n",
        "          line_alpha= 0.3,\n",
        "          line_color= \"black\",\n",
        "          legend_field = 'labels')\n",
        "\n",
        "# option.\n",
        "option = RadioButtonGroup(labels=[\"C-0\", \"C-1\", \"C-2\",\n",
        "                                  \"C-3\", \"C-4\"],\n",
        "                          active=5)\n",
        "\n",
        "# search box.\n",
        "# keyword = TextInput(title=\"Search:\", callback=keyword_callback)\n",
        "\n",
        "# header.\n",
        "header = Div(text=\"\"\"<h1>Find similar movies / tv shows in corresponding Cluster</h1>\"\"\")\n",
        "\n",
        "# show.\n",
        "show(column(header,p))"
      ],
      "metadata": {
        "id": "nd0Ve9D1HBGz"
      },
      "execution_count": null,
      "outputs": []
    },
    {
      "cell_type": "markdown",
      "source": [
        "#### 2. Cross- Validation & Hyperparameter Tuning"
      ],
      "metadata": {
        "id": "-jK_YjpMpsJ2"
      }
    },
    {
      "cell_type": "code",
      "source": [
        "# ML Model - 1 Implementation with hyperparameter optimization techniques (i.e., GridSearch CV, RandomSearch CV, Bayesian Optimization etc.)\n",
        "\n",
        "# Fit the Algorithm\n",
        "\n",
        "# Predict on the model"
      ],
      "metadata": {
        "id": "Dn0EOfS6psJ2"
      },
      "execution_count": null,
      "outputs": []
    },
    {
      "cell_type": "markdown",
      "source": [
        "##### Which hyperparameter optimization technique have you used and why?"
      ],
      "metadata": {
        "id": "HAih1iBOpsJ2"
      }
    },
    {
      "cell_type": "markdown",
      "source": [
        "Answer Here."
      ],
      "metadata": {
        "id": "9kBgjYcdpsJ2"
      }
    },
    {
      "cell_type": "markdown",
      "source": [
        "##### Have you seen any improvement? Note down the improvement with updates Evaluation metric Score Chart."
      ],
      "metadata": {
        "id": "zVGeBEFhpsJ2"
      }
    },
    {
      "cell_type": "markdown",
      "source": [
        "Answer Here."
      ],
      "metadata": {
        "id": "74yRdG6UpsJ3"
      }
    },
    {
      "cell_type": "markdown",
      "source": [
        "#### 3. Explain each evaluation metric's indication towards business and the business impact pf the ML model used."
      ],
      "metadata": {
        "id": "bmKjuQ-FpsJ3"
      }
    },
    {
      "cell_type": "markdown",
      "source": [
        "**Silhouette Score:**\n",
        "\n",
        "\n",
        "Indication - A negative Silhouette Score suggests that data points in cluster are not well-separated.They might be closer to data points in neighboring clusters than to their own cluster.\n",
        "\n",
        "Business impact - This indicates that the clusters may not be clearly defined. In practical terms, it means that the model might have difficulty distinguishing distinct groups of customers, products or any other segmented data. Without well-defined clusters, its challenging to target specific customer groups with tailored marketing or make precise business decisions based on segmentation.\n",
        "\n",
        "**Calinski-Harabasz Score**\n",
        "\n",
        "\n",
        "Indication  - A Calinski Harabasz score is relatively high, suggesting some level of separation in the clusters.A higher score indicates dense and well-separated clusters.\n",
        "\n",
        "Business Impact - While the score is not extremely high, it suggests that there is a moderate level of differentiation between clusters.This could be useful in segmentation customers or products for making or product development.The business impact would be seen in more targeted marketing efforts,better product recommendations, or improved customer service.\n",
        "\n",
        "** Davies-Bouldin Score**\n",
        "\n",
        "\n",
        "Indication - The Davies Bouldin Score is relatively high, implying that the clusters might be less well-separated.\n",
        "\n",
        "Business Impact - A Davies Bouldin Score suggests that there might be some overlap or similarity between clusters. In a business context, this could mean that the models segments are not as distinct as desired.it may lead to less effective marketing campaigns or inaccurate customer recommendation. The business impact would be a reduced ability to tailor strategies to specific customer segments."
      ],
      "metadata": {
        "id": "BDKtOrBQpsJ3"
      }
    },
    {
      "cell_type": "markdown",
      "source": [
        "### ML Model - 3 ** DBSCAN Clustering**"
      ],
      "metadata": {
        "id": "Fze-IPXLpx6K"
      }
    },
    {
      "cell_type": "code",
      "source": [
        "from sklearn.cluster import DBSCAN\n",
        "# Creat an instance of DBSCAN with specified hyperparameters\n",
        "dbscan = DBSCAN(eps=0.7, min_samples=3)\n",
        "dbscan.fit(X)  # Fit the model to the inpute data.\n",
        "y_dbscan = dbscan.labels_  # Get the predicted cluster label for the inpute data.\n",
        "dbscan_labels = dbscan.labels_\n",
        "unique_labels_dbscan = np.unique(dbscan_labels)"
      ],
      "metadata": {
        "id": "CqeVA9m_DI_4"
      },
      "execution_count": null,
      "outputs": []
    },
    {
      "cell_type": "code",
      "source": [
        "print(\"Number of cluster labels:\", len(unique_labels_dbscan))"
      ],
      "metadata": {
        "id": "7LDXuyh-EvJV"
      },
      "execution_count": null,
      "outputs": []
    },
    {
      "cell_type": "code",
      "source": [
        "df['dbscan_cluster'] = dbscan_labels"
      ],
      "metadata": {
        "id": "ZEwK6ygzFBqa"
      },
      "execution_count": null,
      "outputs": []
    },
    {
      "cell_type": "markdown",
      "source": [
        "#### 1. Explain the ML Model used and it's performance using Evaluation metric Score Chart."
      ],
      "metadata": {
        "id": "7AN1z2sKpx6M"
      }
    },
    {
      "cell_type": "code",
      "source": [
        "# Visualizing evaluation Metric Score chart\n",
        "scores_dict_dbscan = evaluate_clustering_model(dbscan, X, y_dbscan)"
      ],
      "metadata": {
        "id": "xIY4lxxGpx6M"
      },
      "execution_count": null,
      "outputs": []
    },
    {
      "cell_type": "code",
      "source": [
        "plot_clustering_scores(scores_dict_dbscan)"
      ],
      "metadata": {
        "id": "PEpGVfvZFpRV"
      },
      "execution_count": null,
      "outputs": []
    },
    {
      "cell_type": "code",
      "source": [
        "# Group the data by cluster label and content type (Movie / Tv show) and count the occurrences.\n",
        "cluster_counts = df.groupby(['dbscan_cluster', 'type']).size().unstack(fill_value=0)\n",
        "\n",
        "# Define the number of cluster and the width of the each bar.\n",
        "num_clusters = len(cluster_counts)\n",
        "bar_width = 0.35\n",
        "index = np.arange(num_clusters)\n",
        "\n",
        "# Create a figure and axis.\n",
        "fig, ax = plt.subplots(figsize=(10, 6))\n",
        "\n",
        "# Plot the counts for movies and tv shows in each cluster.\n",
        "bar1 = ax.bar(index - bar_width/2, cluster_counts['Movie'], bar_width, label= 'Movies')\n",
        "bar2 = ax.bar(index + bar_width/2, cluster_counts['TV Show'], bar_width, label= 'TV Shows')\n",
        "\n",
        "# Add labels, title and legend.\n",
        "ax.set_xlabel('Cluster')\n",
        "ax.set_ylabel('Count')\n",
        "ax.set_title('Number of Movies and TV Shows in Each Cluster')\n",
        "ax.set_xticks(index)\n",
        "ax.set_xticklabels(cluster_counts.index)\n",
        "ax.legend()\n",
        "\n",
        "add_count_labels(bar1)\n",
        "add_count_labels(bar2)\n",
        "\n",
        "plt.show()"
      ],
      "metadata": {
        "id": "ASvZxEv36Dh-"
      },
      "execution_count": null,
      "outputs": []
    },
    {
      "cell_type": "markdown",
      "source": [
        "**Word cloud on \"title\" Column for different cluster.**"
      ],
      "metadata": {
        "id": "HT0bQhvT9ehm"
      }
    },
    {
      "cell_type": "code",
      "source": [
        "def dbscan_worldcloud(cluster_number, column_name):\n",
        "  ''' Function for building a wordcloud for the movie/tv shows'''\n",
        "\n",
        "  df_wordcloud = df[['dbscan_cluster', column_name]].dropna()\n",
        "  df_wordcloud = df_wordcloud[df_wordcloud['dbscan_cluster']==cluster_number]\n",
        "\n",
        "  # text documents.\n",
        "  text = \" \".join(word for word in df_wordcloud[column_name])\n",
        "\n",
        "  # Creat the word cloud.\n",
        "  wordcloud = WordCloud(stopwords=set(STOPWORDS), background_color = \"white\").generate(text)\n",
        "\n",
        "  # Generate the word cloud image.\n",
        "  plt.imshow(wordcloud, interpolation='bilinear')\n",
        "  plt.axis(\"off\")\n",
        "  plt.show()\n",
        "\n"
      ],
      "metadata": {
        "id": "v9wniAJk9ra-"
      },
      "execution_count": null,
      "outputs": []
    },
    {
      "cell_type": "code",
      "source": [
        "for i in range(-1, 9):\n",
        "  print(f'cluster {i}')\n",
        "  dbscan_worldcloud(i, 'title')"
      ],
      "metadata": {
        "id": "hLovVo1rAFiU"
      },
      "execution_count": null,
      "outputs": []
    },
    {
      "cell_type": "markdown",
      "source": [
        "**Wordcloud on \"description\" column for different cluster.**"
      ],
      "metadata": {
        "id": "0M5CfRM4BFp5"
      }
    },
    {
      "cell_type": "code",
      "source": [
        "for i in range(-1, 9):\n",
        "  print(f'cluster {i}')\n",
        "  dbscan_worldcloud(i, 'description')"
      ],
      "metadata": {
        "id": "LY11UdzwBUE8"
      },
      "execution_count": null,
      "outputs": []
    },
    {
      "cell_type": "markdown",
      "source": [
        "**Wordcloud on \"listed_in(genre)\" column for different cluster.**"
      ],
      "metadata": {
        "id": "3Z5k6JWmBuKg"
      }
    },
    {
      "cell_type": "code",
      "source": [
        "for i in range(-1, 9):\n",
        "  print(f'cluster {i}')\n",
        "  dbscan_worldcloud(i, \"listed_in\")\n"
      ],
      "metadata": {
        "id": "tOAklsUlB6qa"
      },
      "execution_count": null,
      "outputs": []
    },
    {
      "cell_type": "code",
      "source": [
        "output_notebook()\n",
        "\n",
        "# Replace 'labels' with the actual labels you want to use.\n",
        "y_labels = df['dbscan_cluster']\n",
        "\n",
        "# Data sources.\n",
        "source = ColumnDataSource(data=dict(x= x_emb[:,0],\n",
        "                                    y= x_emb[:,1],\n",
        "                                    x_backup= x_emb[:,0],\n",
        "                                    y_backup= x_emb[:,1],\n",
        "                                    desc= y_labels,\n",
        "                                    titles= df['title'],\n",
        "                                    directors= df['director'],\n",
        "                                    cast= df['cast'],\n",
        "                                    description= df['description'],\n",
        "                                    listed_in= df['listed_in'],\n",
        "                                    rating= df['rating'],\n",
        "                                    country= df['country'],\n",
        "                                    labels= [\"C-\" + str(x) for x in y_labels]))\n",
        "\n",
        "# hover over information.\n",
        "hover = HoverTool(tooltips=[(\"Title\", \"@titles\"),\n",
        "                            (\"Director(s)\", \"@directors\"),\n",
        "                            (\"Cast\", \"@cast\"),\n",
        "                            (\"listed_in\", \"@listed_in\"),\n",
        "                            (\"rating\", \"@rating\"),\n",
        "                            (\"country\", \"@country\")],\n",
        "                  point_policy= \"follow_mouse\")\n",
        "\n",
        "# map colors.\n",
        "mapper = linear_cmap(field_name= 'desc',\n",
        "                     palette= Category20[20],\n",
        "                     low=min(y_labels), high=max(y_labels))\n",
        "\n",
        "# Prepare the figure.\n",
        "p = figure(width=800, height=800,\n",
        "           tools= [hover, 'pan', 'wheel_zoom', 'box_zoom', 'reset'],\n",
        "           title= \"Netflix Movies and Tv shows\",\n",
        "           toolbar_location= \"right\")\n",
        "\n",
        "# Plot.\n",
        "p.scatter('x','y', size=5,\n",
        "          source= source,\n",
        "          fill_color= mapper,\n",
        "          line_alpha= 0.3,\n",
        "          line_color= \"black\",\n",
        "          legend_field= 'labels')\n",
        "\n",
        "# option.\n",
        "option = RadioButtonGroup(labels=[\"C--1,C-0\", \"C-1\",\"C-2\",\"C-3\",\"C-4\",\"C-5\",\n",
        "                                  \"C-6\",\"C-7\",\"C-8\",\"C-9\",\"C-10\",\"C-11\",\"C-12\",\"C-13\",\"C-14\",\"C-15\",\n",
        "                                  \"C-16\",\"C-17\",\"C-18\",\"C-19\",\"C-20\"],\n",
        "                          active=22)\n",
        "\n",
        "\n",
        "# search box\n",
        "# keyword = TextInput(title=\"Search:\", callback=keyword_callback)\n",
        "\n",
        "# header\n",
        "header = Div(text=\"\"\"<h1>Find similar movies/tv shows in corresponding cluster</h1>\"\"\")\n",
        "\n",
        "# show\n",
        "show(column(header,p))\n",
        "\n"
      ],
      "metadata": {
        "id": "zWQPPiikCwD8"
      },
      "execution_count": null,
      "outputs": []
    },
    {
      "cell_type": "markdown",
      "source": [
        "#### 2. Cross- Validation & Hyperparameter Tuning"
      ],
      "metadata": {
        "id": "9PIHJqyupx6M"
      }
    },
    {
      "cell_type": "code",
      "source": [
        "# ML Model - 3 Implementation with hyperparameter optimization techniques (i.e., GridSearch CV, RandomSearch CV, Bayesian Optimization etc.)\n",
        "\n",
        "# Fit the Algorithm\n",
        "\n",
        "# Predict on the model"
      ],
      "metadata": {
        "id": "eSVXuaSKpx6M"
      },
      "execution_count": null,
      "outputs": []
    },
    {
      "cell_type": "markdown",
      "source": [
        "##### Which hyperparameter optimization technique have you used and why?"
      ],
      "metadata": {
        "id": "_-qAgymDpx6N"
      }
    },
    {
      "cell_type": "code",
      "source": [
        "# Storing metrics in order to make dataframe of metrics.\n",
        "Model  = ['K-Mean Clustering', 'Hierarchical Clustering', 'DBScan Clustering']\n",
        "\n",
        "S_score = [0.00719421, 0.000290145, 0.00193443]\n",
        "CH_score = [22.8448, 18.3027, 3.32948]\n",
        "DB_score = [11.2951, 10.6489, 1.54447]\n",
        "No_of_cluster = [6, 5, 10]\n",
        "\n",
        "# Creat the datafram from the list.\n",
        "data= {'Model': Model,\n",
        "       'Number of Clusters': No_of_cluster,\n",
        "       'silhouette_score': S_score,\n",
        "       'calinski-Harabasz_score': CH_score,\n",
        "       'davies-Bouldin_score': DB_score}\n",
        "\n",
        "Metric_df= pd.DataFrame(data)\n",
        "\n",
        "# Print the datafram.\n",
        "Metric_df\n",
        "\n"
      ],
      "metadata": {
        "id": "YdzHwaLc3x1U"
      },
      "execution_count": null,
      "outputs": []
    },
    {
      "cell_type": "markdown",
      "source": [
        "Answer Here."
      ],
      "metadata": {
        "id": "lQMffxkwpx6N"
      }
    },
    {
      "cell_type": "markdown",
      "source": [
        "##### Have you seen any improvement? Note down the improvement with updates Evaluation metric Score Chart."
      ],
      "metadata": {
        "id": "Z-hykwinpx6N"
      }
    },
    {
      "cell_type": "markdown",
      "source": [
        "Answer Here."
      ],
      "metadata": {
        "id": "MzVzZC6opx6N"
      }
    },
    {
      "cell_type": "markdown",
      "source": [
        "### 1. Which Evaluation metrics did you consider for a positive business impact and why?"
      ],
      "metadata": {
        "id": "h_CCil-SKHpo"
      }
    },
    {
      "cell_type": "markdown",
      "source": [
        "**Silhouette Score**: This metric measure how well-separated the cluster are and indicates the quality of clustering.A higher Silhouette score suggests that the clusters are distinct and well-separated, which can be beneficial in various business applications.For instance, in customer segmentation, well-separated clusters can lead to more targeted marketing strategies and improved customer satisfaction.\n",
        "\n",
        "**Calinski-Harabasz Score**:  This metrics assesses the variance between cluster compared to the variance within clusters.A higher calinski Harabasz score indicates well-defined and distinct clusters.In business application well-defined clusters can lead to more accurate customer profiling,tailored product recommendations, and improved decision-making."
      ],
      "metadata": {
        "id": "jHVz9hHDKFms"
      }
    },
    {
      "cell_type": "markdown",
      "source": [
        "### 2. Which ML model did you choose from the above created models as your final prediction model and why?"
      ],
      "metadata": {
        "id": "cBFFvTBNJzUa"
      }
    },
    {
      "cell_type": "code",
      "source": [
        "# Storing metrics in order to make dataframe of metrics.\n",
        "Model = ['K_Means Clusterig', 'Hierarchical Clustering', 'DBSCAN Clustering']\n",
        "S_score = [0.00719, 0.00029, 0.00193]\n",
        "CH_score = [22.844, 18.302, 3.329]\n",
        "DB_score = [11.295, 10.648, 1.544]\n",
        "No_of_cluster = [6, 5, 10]\n",
        "\n",
        "# Creat the dataframe from the lists.\n",
        "data = {'Model' : Model,\n",
        "        'Number of clusters' : No_of_cluster,\n",
        "        'silhouette_score' : S_score,\n",
        "        'Calinski-Harabasz_score' : CH_score,\n",
        "        'Davie-Bouldin_score' : DB_score}\n",
        "Metric_df = pd.DataFrame(data)\n",
        "\n",
        "# Printing the dataframe.\n",
        "Metric_df"
      ],
      "metadata": {
        "id": "1EZRUa-ZdzoN"
      },
      "execution_count": null,
      "outputs": []
    },
    {
      "cell_type": "markdown",
      "source": [
        "We choose the K-Means Clustering model as the final prediction model.Here's Why:\n",
        "\n",
        "**Silhouette_score**: K-Means achieved the highest Silhouette Score (0.00719) among the models. A higher Silhouette Score indicates that the clusters are well-separated and distinct, which is valuable for customer segmentation and other clustering tasks.\n",
        "\n",
        "**Calinski-Harabasz_score** : K-Means also had the highest Calinski-Harabasz_score(22.844). This score suggests that the variance between the clusters is higher compared to the variance within each cluster, which is good sign for effective clustering.\n",
        "\n",
        "**Number of Clusters** : K-Means utilized 6 clusters, which provides a balance between granularity and practicality. it allows for meaningfull customer segmentation without creating an excessive number of segments.\n",
        "\n",
        "**Simplicity** : K-Means is a relatively simple and interpretable clustering algorithm, making it easier to understand and implement for business purposes.\n",
        "\n",
        "While DBSCAN achieved a good Davie-Bouldin_score, indicating well-separated clusters its high number of clusters(13) might complicate interpretation and implementation.Hierarchical Clustering had a lower silhouette score, suggesting that its clusters might not be as distinct.\n",
        "Therefore, for practical and effective clustering, K-Means appears to be the most suitable choice."
      ],
      "metadata": {
        "id": "6ksF5Q1LKTVm"
      }
    },
    {
      "cell_type": "markdown",
      "source": [
        "### Recommendation System."
      ],
      "metadata": {
        "id": "HvGl1hHyA_VK"
      }
    },
    {
      "cell_type": "markdown",
      "source": [
        "A content based recommendation system is a type of recommedation system that suggests items to user based on their similarity to other items that user had shown interest in. it used the attributes or features of the items to determine the similarity between them.\n",
        "\n",
        "* Based on how similar the movies and shows are, we can create a straightforward content-based recommender system.\n",
        "\n",
        "* The recommender system need to be able to suggest a list of similar shows that a person who has watched a show on Netflix likes.\n",
        "\n",
        "* We can used cosine similarity to determine the shows similarity scores.\n",
        "\n",
        "* By Dividing the dot product of the two vectors by their magnitude values, the similarity between A abd B can be calculated.Simply put the angle between two vectors decreases as the cosine similarity score increases.\n",
        "\n"
      ],
      "metadata": {
        "id": "YnvVTiIxBL-C"
      }
    },
    {
      "cell_type": "code",
      "source": [
        "# Veryfying index.\n",
        "df[['show_id', 'title', 'text_data']]"
      ],
      "metadata": {
        "id": "l1WxyNekLZrk"
      },
      "execution_count": null,
      "outputs": []
    },
    {
      "cell_type": "markdown",
      "source": [
        "\n",
        "* In order to construct a content based recommendation system, we determine the similarity score based on a specific index_id for that particular \"tag\" column.\n",
        "\n",
        "* If we are unable to reset the index, there is a good chance that instead of providing an index, we will calculate cosine similarity for another index.in oreder to avoid this issue and properly address index when developing the recommendation system.The index was simply reset.\n",
        "\n"
      ],
      "metadata": {
        "id": "jbkrxwAkMhmu"
      }
    },
    {
      "cell_type": "code",
      "source": [
        "# Defining New data frame for building recommandation system.\n",
        "recommender_df = df.copy()\n",
        "\n",
        "# reseting index.\n",
        "recommender_df.reset_index(inplace=True)\n",
        "\n",
        "# Checking whether or not reset index properly.\n",
        "recommender_df[['show_id', 'title', 'text_data']]"
      ],
      "metadata": {
        "id": "OcML6HZhPjQJ"
      },
      "execution_count": null,
      "outputs": []
    },
    {
      "cell_type": "code",
      "source": [
        "print(f\"before reset index id for movie 'Zero' : {df[df['title']== 'Zozo'].index[0]}\")\n",
        "print(f\"after reset index id for movie 'Zero' : {recommender_df[recommender_df['title']== 'Zozo'].index[0]}\")"
      ],
      "metadata": {
        "id": "Uqagzh9jSRad"
      },
      "execution_count": null,
      "outputs": []
    },
    {
      "cell_type": "code",
      "source": [
        "# Calling out transformed array independent features created from text_data(cluster) column after performing PCA for dimenssionality reduction.\n",
        "X"
      ],
      "metadata": {
        "id": "eLKTzrWrT2U-"
      },
      "execution_count": null,
      "outputs": []
    },
    {
      "cell_type": "code",
      "source": [
        "from sklearn.metrics.pairwise import cosine_similarity\n",
        "\n",
        "# Calculate cosin similiarity\n",
        "similarity = cosine_similarity(X)\n",
        "similarity"
      ],
      "metadata": {
        "id": "7HFGFSO9UfI0"
      },
      "execution_count": null,
      "outputs": []
    },
    {
      "cell_type": "code",
      "source": [
        "def recommend(content_name):\n",
        "  '''\n",
        "  This function list down top content on the basis of similarity score for that particular content.\n",
        "  '''\n",
        "  print(f\"If you liked '{content_name}', you may also enjoy: \\n\")\n",
        "\n",
        "  # find the index position.\n",
        "  index = recommender_df[recommender_df['title']== content_name].index[0]\n",
        "\n",
        "  # sorting on the basis of similarity score, In order to find out distances from recommended one\n",
        "  distances = sorted(list(enumerate(similarity[index])), reverse= True, key= lambda x:x[1])\n",
        "\n",
        "  # listing top 10 recommended movie.\n",
        "  for i in distances[1:11]:\n",
        "     print(df.iloc[i[0]].title)"
      ],
      "metadata": {
        "id": "SbmEumNzVNRm"
      },
      "execution_count": null,
      "outputs": []
    },
    {
      "cell_type": "code",
      "source": [
        "recommend('Breaking Bad')"
      ],
      "metadata": {
        "id": "Chx3VlVrYG4y"
      },
      "execution_count": null,
      "outputs": []
    },
    {
      "cell_type": "code",
      "source": [
        "recommend('The Spy')"
      ],
      "metadata": {
        "id": "zlsnr6c7YWcU"
      },
      "execution_count": null,
      "outputs": []
    },
    {
      "cell_type": "code",
      "source": [
        "recommend('Narcos')"
      ],
      "metadata": {
        "id": "c1bvJNgFYgS5"
      },
      "execution_count": null,
      "outputs": []
    },
    {
      "cell_type": "code",
      "source": [
        "recommend('Pulp Fiction')"
      ],
      "metadata": {
        "id": "pRssQ_SjYnBE"
      },
      "execution_count": null,
      "outputs": []
    },
    {
      "cell_type": "markdown",
      "source": [
        "## ***8.*** ***Future Work (Optional)***"
      ],
      "metadata": {
        "id": "EyNgTHvd2WFk"
      }
    },
    {
      "cell_type": "markdown",
      "source": [
        "### 1. Save the best performing ml model in a pickle file or joblib file format for deployment process.\n"
      ],
      "metadata": {
        "id": "KH5McJBi2d8v"
      }
    },
    {
      "cell_type": "code",
      "source": [
        "# Save the File"
      ],
      "metadata": {
        "id": "bQIANRl32f4J"
      },
      "execution_count": null,
      "outputs": []
    },
    {
      "cell_type": "markdown",
      "source": [
        "### 2. Again Load the saved model file and try to predict unseen data for a sanity check.\n"
      ],
      "metadata": {
        "id": "iW_Lq9qf2h6X"
      }
    },
    {
      "cell_type": "code",
      "source": [
        "# Load the File and predict unseen data."
      ],
      "metadata": {
        "id": "oEXk9ydD2nVC"
      },
      "execution_count": null,
      "outputs": []
    },
    {
      "cell_type": "markdown",
      "source": [
        "### ***Congrats! Your model is successfully created and ready for deployment on a live server for a real user interaction !!!***"
      ],
      "metadata": {
        "id": "-Kee-DAl2viO"
      }
    },
    {
      "cell_type": "markdown",
      "source": [
        "# **Conclusion**"
      ],
      "metadata": {
        "id": "gCX9965dhzqZ"
      }
    },
    {
      "cell_type": "markdown",
      "source": [
        "\n",
        "* Netflix has more films than television series on its platform.\n",
        "\n",
        "* From 2016 to 2019, there was a major spike in content additions.\n",
        "\n",
        "* The majority of Netflix content is appropriate for mature audiences,with a TV-MA rating being the most prevalent.\n",
        "\n",
        "* The majority of films are between 80 and 120 minutes long, the most tv shows have two seasons.\n",
        "\n",
        "* The United States is the country with the most Netflix,followed by India and the United Kingdom.\n",
        "\n",
        "* Dramas are the most popular type of content on Netflix, followed by comedies and documentaries.\n",
        "\n",
        "* The top 3 actors with the most appearances are Anupam Kher, ShahRukh Khan and Om puri.\n",
        "\n",
        "* Love,Family,young,life,and world are some of the most prevalent terms used in Netflix movie descriptions, according to the worldcloud visualisation of movie description.\n",
        "\n",
        "* Adult oriented content is more prevalent in Canada, France and Spain.\n",
        "\n",
        "* The data was organised into cluster based on the following attributes: director, cast, nation, genre, rating and description.\n",
        "\n",
        "* The TFIDF vectorizer was used to tokenize, preprocess and vectorize the data in these attributes, yeilding 10000 attributes in total.\n",
        "\n",
        "* The minimise the dimensionality of the data, the Principal Component Analysis(PCA) was performed, which captured more than 85% of the variation.\n",
        "\n",
        "* The K-Means Clustering algorithm was used to create clusters,  with 6 being the ideal number based on elbow technique and Silhouette score analysis.\n",
        "\n",
        "* The agglomerative clustering technique was used to create clusters,with the optimal number of clusters being 5 based on the dendrogram visualisation.\n",
        "\n",
        "* DBSCAN clustering was created, with the optimal number of clusters being 10 with a very low metric score.Using cosine similarity, a content-based recommender system was created that will offer ten recommendations to the user based on the type of show they view\n",
        "\n",
        "\n",
        "*   List item\n",
        "\n"
      ],
      "metadata": {
        "id": "Fjb1IsQkh3yE"
      }
    },
    {
      "cell_type": "markdown",
      "source": [
        "### ***Hurrah! You have successfully completed your Machine Learning Capstone Project !!!***"
      ],
      "metadata": {
        "id": "gIfDvo9L0UH2"
      }
    }
  ]
}